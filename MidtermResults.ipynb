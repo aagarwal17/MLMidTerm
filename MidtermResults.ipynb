{
 "cells": [
  {
   "cell_type": "markdown",
   "id": "e3c779fe-5098-4633-aa57-dff0966c79aa",
   "metadata": {},
   "source": [
    "# 4526 Midterm Solution:\n",
    "Arun Agarwal"
   ]
  },
  {
   "cell_type": "markdown",
   "id": "a1812d29-2aa1-4913-a897-72d31a7e5ca1",
   "metadata": {},
   "source": [
    "## Imports:"
   ]
  },
  {
   "cell_type": "code",
   "execution_count": 1,
   "id": "24eb6c75-29b2-4a6b-a53b-1cdf3ed5d204",
   "metadata": {},
   "outputs": [],
   "source": [
    "#Basic Imports:\n",
    "import pandas as pd\n",
    "import numpy as np\n",
    "import nltk\n",
    "from nltk.corpus import stopwords\n",
    "from nltk.stem import WordNetLemmatizer\n",
    "from nltk.corpus import wordnet as wn\n",
    "from nltk import word_tokenize\n",
    "import re\n",
    "import math\n",
    "from collections import Counter\n",
    "\n",
    "# Plotting Imports\n",
    "import matplotlib.pyplot as plt\n",
    "import seaborn as sns\n",
    "%matplotlib inline\n",
    "from sklearn import tree\n",
    "from sklearn.datasets import make_blobs\n",
    "from sklearn import datasets\n",
    "\n",
    "# Preprocessing Imports\n",
    "from sklearn.model_selection import train_test_split, KFold\n",
    "from sklearn.model_selection import GridSearchCV\n",
    "from sklearn.preprocessing import LabelEncoder\n",
    "from sklearn.preprocessing import StandardScaler\n",
    "from sklearn.decomposition import PCA\n",
    "from sklearn.feature_extraction.text import CountVectorizer\n",
    "import sklearn.preprocessing as preproc\n",
    "from sklearn.feature_extraction import text\n",
    "import pickle\n",
    "import warnings\n",
    "warnings.filterwarnings(\"ignore\")\n",
    "from random import shuffle\n",
    "import random\n",
    "random.seed(123)\n",
    "from utils.syntactic_similarity_measures import SyntacticMeasures\n",
    "from utils.lesk_algorithm import Lesk\n",
    "from utils.semantic_similarity_measures import SemanticMeasures\n",
    "\n",
    "# Model Imports:\n",
    "from sklearn.linear_model import LogisticRegression\n",
    "import sklearn.model_selection\n",
    "from sklearn import svm\n",
    "\n",
    "# Metrics Import\n",
    "from sklearn.metrics import mean_squared_error, mean_absolute_error, r2_score\n",
    "from sklearn.metrics import classification_report \n",
    "from sklearn import metrics\n",
    "from sklearn.metrics import accuracy_score\n",
    "from sklearn.metrics import f1_score\n",
    "from sklearn.metrics import recall_score\n",
    "from sklearn.metrics import precision_score\n",
    "from sklearn.metrics import confusion_matrix\n",
    "from sklearn.metrics import roc_auc_score\n",
    "from sklearn.metrics.cluster import normalized_mutual_info_score"
   ]
  },
  {
   "cell_type": "markdown",
   "id": "8457547a-9028-4b01-9e17-41cf692ab265",
   "metadata": {},
   "source": [
    "## Functions:"
   ]
  },
  {
   "cell_type": "code",
   "execution_count": 2,
   "id": "9ee6ae63-8d54-4695-9714-b720b9a822a7",
   "metadata": {},
   "outputs": [],
   "source": [
    "def get_baseline_results_for_single_classifier(data, target_col, clf, filename):\n",
    "    X, y = data.drop(target_col, axis=1), data[target_col]\n",
    "    X_tr, X_te, y_tr, y_te = train_test_split(X,y,test_size=0.2)\n",
    "    clf = clf.fit(X_tr, y_tr)\n",
    "    y_pred = clf.predict(X_te)\n",
    "    report = classification_report(y_te, y_pred, output_dict=True)\n",
    "    pd.DataFrame(report).transpose().to_csv(f'../Data/baseline_results/{filename}.csv')\n",
    "    return report"
   ]
  },
  {
   "cell_type": "code",
   "execution_count": 3,
   "id": "6580373f-4389-4ee7-bf3d-216529c6edf8",
   "metadata": {},
   "outputs": [],
   "source": [
    "def decompose_error(model, data, target_name, loss='mse'):\n",
    "    X, y = data.drop(target_name, axis=1), data[target_name]\n",
    "    X_tr, X_te, y_tr, y_te = train_test_split(X,y,test_size=0.2)\n",
    "    avg_expected_loss, avg_bias, avg_var = bias_variance_decomp(\n",
    "        model, X_tr.values, y_tr.values, X_te.values, y_te.values, \n",
    "        loss=loss,\n",
    "        random_seed=42)\n",
    "    print(\"Average Expected Loss: \", avg_expected_loss)\n",
    "    print(\"Average Bias: \", avg_bias)\n",
    "    print(\"Average Variance: \", avg_var)\n",
    "    \n",
    "    return avg_expected_loss, avg_bias, avg_var"
   ]
  },
  {
   "cell_type": "code",
   "execution_count": 4,
   "id": "2d668f70-a4f2-465e-a9f8-9092f8bdb532",
   "metadata": {},
   "outputs": [],
   "source": [
    "# A list of contractions from http://stackoverflow.com/questions/19790188/expanding-english-language-contractions-in-python\n",
    "contractions = { \n",
    "\"ain't\": \"am not\",\n",
    "\"aren't\": \"are not\",\n",
    "\"can't\": \"cannot\",\n",
    "\"can't've\": \"cannot have\",\n",
    "\"'cause\": \"because\",\n",
    "\"could've\": \"could have\",\n",
    "\"couldn't\": \"could not\",\n",
    "\"couldn't've\": \"could not have\",\n",
    "\"didn't\": \"did not\",\n",
    "\"doesn't\": \"does not\",\n",
    "\"don't\": \"do not\",\n",
    "\"hadn't\": \"had not\",\n",
    "\"hadn't've\": \"had not have\",\n",
    "\"hasn't\": \"has not\",\n",
    "\"haven't\": \"have not\",\n",
    "\"he'd\": \"he would\",\n",
    "\"he'd've\": \"he would have\",\n",
    "\"he'll\": \"he will\",\n",
    "\"he's\": \"he is\",\n",
    "\"how'd\": \"how did\",\n",
    "\"how'll\": \"how will\",\n",
    "\"how's\": \"how is\",\n",
    "\"i'd\": \"i would\",\n",
    "\"i'll\": \"i will\",\n",
    "\"i'm\": \"i am\",\n",
    "\"i've\": \"i have\",\n",
    "\"isn't\": \"is not\",\n",
    "\"it'd\": \"it would\",\n",
    "\"it'll\": \"it will\",\n",
    "\"it's\": \"it is\",\n",
    "\"let's\": \"let us\",\n",
    "\"ma'am\": \"madam\",\n",
    "\"mayn't\": \"may not\",\n",
    "\"might've\": \"might have\",\n",
    "\"mightn't\": \"might not\",\n",
    "\"must've\": \"must have\",\n",
    "\"mustn't\": \"must not\",\n",
    "\"needn't\": \"need not\",\n",
    "\"oughtn't\": \"ought not\",\n",
    "\"shan't\": \"shall not\",\n",
    "\"sha'n't\": \"shall not\",\n",
    "\"she'd\": \"she would\",\n",
    "\"she'll\": \"she will\",\n",
    "\"she's\": \"she is\",\n",
    "\"should've\": \"should have\",\n",
    "\"shouldn't\": \"should not\",\n",
    "\"that'd\": \"that would\",\n",
    "\"that's\": \"that is\",\n",
    "\"there'd\": \"there had\",\n",
    "\"there's\": \"there is\",\n",
    "\"they'd\": \"they would\",\n",
    "\"they'll\": \"they will\",\n",
    "\"they're\": \"they are\",\n",
    "\"they've\": \"they have\",\n",
    "\"wasn't\": \"was not\",\n",
    "\"we'd\": \"we would\",\n",
    "\"we'll\": \"we will\",\n",
    "\"we're\": \"we are\",\n",
    "\"we've\": \"we have\",\n",
    "\"weren't\": \"were not\",\n",
    "\"what'll\": \"what will\",\n",
    "\"what're\": \"what are\",\n",
    "\"what's\": \"what is\",\n",
    "\"what've\": \"what have\",\n",
    "\"where'd\": \"where did\",\n",
    "\"where's\": \"where is\",\n",
    "\"who'll\": \"who will\",\n",
    "\"who's\": \"who is\",\n",
    "\"won't\": \"will not\",\n",
    "\"wouldn't\": \"would not\",\n",
    "\"you'd\": \"you would\",\n",
    "\"you'll\": \"you will\",\n",
    "\"you're\": \"you are\"\n",
    "}"
   ]
  },
  {
   "cell_type": "code",
   "execution_count": 5,
   "id": "5565b633-98eb-4f71-b892-fa087771a22d",
   "metadata": {},
   "outputs": [],
   "source": [
    "def clean_text(text, remove_stopwords = True):\n",
    "    '''Remove unwanted characters, stopwords, and format the text to create fewer nulls word embeddings'''\n",
    "    \n",
    "    # Convert words to lower case\n",
    "    text = text.lower()\n",
    "    \n",
    "    # Replace contractions with their longer forms \n",
    "    if True:\n",
    "        text = text.split()\n",
    "        new_text = []\n",
    "        for word in text:\n",
    "            if word in contractions:\n",
    "                new_text.append(contractions[word])\n",
    "            else:\n",
    "                new_text.append(word)\n",
    "        text = \" \".join(new_text)\n",
    "    \n",
    "    # Format words and remove unwanted characters\n",
    "    text = re.sub(r'https?:\\/\\/.*[\\r\\n]*', '', text, flags=re.MULTILINE)\n",
    "    text = re.sub(r'\\<a href', ' ', text)\n",
    "    text = re.sub(r'&amp;', '', text) \n",
    "    text = re.sub(r'[_\"\\-;%()|+&=*%.,!?:#$@\\[\\]/]', ' ', text)\n",
    "    text = re.sub(r'<br />', ' ', text)\n",
    "    text = re.sub(r'\\'', ' ', text)\n",
    "    \n",
    "    # remove stop words\n",
    "    if remove_stopwords:\n",
    "        text = text.split()\n",
    "        stops = set(stopwords.words(\"english\"))\n",
    "        text = [w for w in text if not w in stops]\n",
    "        text = \" \".join(text)\n",
    "\n",
    "    # Tokenize each word\n",
    "    text =  nltk.WordPunctTokenizer().tokenize(text)\n",
    "        \n",
    "    return text"
   ]
  },
  {
   "cell_type": "code",
   "execution_count": 6,
   "id": "40bbc85b-8576-48ce-8554-ffc1bf3217c3",
   "metadata": {},
   "outputs": [],
   "source": [
    "def counter_cosine_similarity(c1, c2):\n",
    "    terms = set(c1).union(c2)\n",
    "    dotprod = sum(c1.get(k, 0) * c2.get(k, 0) for k in terms)\n",
    "    magA = math.sqrt(sum(c1.get(k, 0)**2 for k in terms))\n",
    "    magB = math.sqrt(sum(c2.get(k, 0)**2 for k in terms))\n",
    "    return dotprod / (magA * magB)"
   ]
  },
  {
   "cell_type": "code",
   "execution_count": 7,
   "id": "cf84fa78-526d-4f26-89b5-76cc45ac4791",
   "metadata": {},
   "outputs": [],
   "source": [
    "def simple_logistic_classify(X_tr, y_tr, X_test, y_test, description, w = None, _C=1.0):\n",
    "    model = LogisticRegression(C=_C, class_weight = w, fit_intercept = True, penalty = 'l2').fit(X_tr, y_tr)\n",
    "    y_pred = model.predict(X_test)\n",
    "    score = model.score(X_test, y_test)\n",
    "    print('Accuracy Score with', description, 'model/features', score)\n",
    "    print(f'Confusion Matrix: \\n{confusion_matrix(y_test, y_pred)}')\n",
    "    print(f'Area Under Curve: {roc_auc_score(y_test, y_pred)}')\n",
    "    print(f'Recall Score: {recall_score(y_test,y_pred)}')\n",
    "    print(f'Precision Score: {precision_score(y_test,y_pred)}')\n",
    "    report = classification_report(y_test, y_pred,output_dict=True)\n",
    "    pd.DataFrame(report).transpose().to_csv(f'LogisticRegression{description}.csv')\n",
    "    return model"
   ]
  },
  {
   "cell_type": "code",
   "execution_count": 8,
   "id": "7995355f-1318-4377-b440-67450bfe712c",
   "metadata": {},
   "outputs": [],
   "source": [
    "def simple_svm_classify(X_tr, y_tr, X_test, y_test, description, w = None):\n",
    "    svmClassifier = svm.SVC(kernel='rbf', class_weight = w).fit(X_tr, y_tr)\n",
    "    y_pred = svmClassifier.predict(X_test)\n",
    "    score = svmClassifier.score(X_test, y_test)\n",
    "    print('Accuracy Score with', description, 'model/features', score)\n",
    "    print(f'Confusion Matrix: \\n{confusion_matrix(y_test, y_pred)}')\n",
    "    print(f'Area Under Curve: {roc_auc_score(y_test, y_pred)}')\n",
    "    print(f'Recall Score: {recall_score(y_test,y_pred)}')\n",
    "    print(f'Precision Score: {precision_score(y_test,y_pred)}')\n",
    "    report = classification_report(y_test, y_pred,output_dict=True)\n",
    "    pd.DataFrame(report).transpose().to_csv(f'SupportVectorMachine{description}.csv')\n",
    "    return svmClassifier"
   ]
  },
  {
   "cell_type": "code",
   "execution_count": 9,
   "id": "37b8acfc-9a9e-4438-9cfb-2d00295de6bf",
   "metadata": {},
   "outputs": [],
   "source": [
    "def compute_cosine_similarity(token1, token2):\n",
    "        \"\"\" compute cosine similarity \"\"\"\n",
    "        cosine_similarity = SyntacticMeasures.getCosineSimilarity(token1,token2)\n",
    "        return cosine_similarity"
   ]
  },
  {
   "cell_type": "code",
   "execution_count": 10,
   "id": "1c8d28b7-3534-42ae-8f04-129562e70659",
   "metadata": {},
   "outputs": [],
   "source": [
    "def compute_jaccard_similarity(token1, token2):\n",
    "        \"\"\" compute jaccard similarity\"\"\"\n",
    "        jaccard_similarity = SyntacticMeasures.normal_jaccard_distance(token1,token2)\n",
    "        return jaccard_similarity"
   ]
  },
  {
   "cell_type": "code",
   "execution_count": 11,
   "id": "725ac4a7-d99c-4d75-a5a3-33dff00ea98b",
   "metadata": {},
   "outputs": [],
   "source": [
    "def compute_lemma_jaccard_similarity(lemma1, lemma2):\n",
    "        \"\"\" compute lemma jaccard similarity\"\"\"\n",
    "        lemma_jaccard_similarity = SyntacticMeasures.lemma_jaccard_distance(lemma1,lemma2)\n",
    "        return lemma_jaccard_similarity"
   ]
  },
  {
   "cell_type": "code",
   "execution_count": 12,
   "id": "67a1c85d-8855-4594-a7b0-b9b8ac34f382",
   "metadata": {},
   "outputs": [],
   "source": [
    "def compute_combined_score_syn(r1, r2, r3):\n",
    "        \"\"\" get the combined score\"\"\"\n",
    "        return (r1+r2+r3)/ 3"
   ]
  },
  {
   "cell_type": "code",
   "execution_count": 13,
   "id": "291b7b1d-a6bf-4b47-83b7-980753f6a413",
   "metadata": {},
   "outputs": [],
   "source": [
    "def overall_similarity_combined(token1, token2, lemma1, lemma2):\n",
    "        \"\"\" calculate combined similarity \"\"\"\n",
    "\n",
    "        R1 = compute_cosine_similarity(token1,token2)\n",
    "        R2 = compute_jaccard_similarity(token1,token2)\n",
    "        R3 = compute_lemma_jaccard_similarity(lemma1,lemma2)\n",
    "        R = compute_combined_score_syn(R1,R2,R3)\n",
    "        return R"
   ]
  },
  {
   "cell_type": "code",
   "execution_count": 14,
   "id": "0b89f93d-27f3-4b5e-a47e-528cdeefd4dc",
   "metadata": {},
   "outputs": [],
   "source": [
    " def get_lesk(ques):\n",
    "        \"\"\" get each word meaning out of the given question\"\"\"\n",
    "        lesk_obj = Lesk(ques)\n",
    "        sentence_means = []\n",
    "        for word in ques:\n",
    "            sentence_means.append(lesk_obj.lesk(word, ques))\n",
    "        return sentence_means"
   ]
  },
  {
   "cell_type": "code",
   "execution_count": 15,
   "id": "fb6a8727-3fd6-4f24-b8ed-46a645aa08e4",
   "metadata": {},
   "outputs": [],
   "source": [
    "def compute_path_similarity(sentence_means1, sentence_means2):\n",
    "        \"\"\" get the path similarity score for two sentences\"\"\"\n",
    "        score = SemanticMeasures.computePath(sentence_means1, sentence_means2)\n",
    "        return score"
   ]
  },
  {
   "cell_type": "code",
   "execution_count": 16,
   "id": "cd07bf8b-1c3d-4379-8e52-651829ae67ac",
   "metadata": {},
   "outputs": [],
   "source": [
    "def compute_combined_score(r1, r2):\n",
    "        \"\"\" get the combined score\"\"\"\n",
    "        return (r1+r2)/ 2"
   ]
  },
  {
   "cell_type": "code",
   "execution_count": 17,
   "id": "784ebf31-31ea-43e4-aece-40783f3b5b1f",
   "metadata": {},
   "outputs": [],
   "source": [
    " def compute_wup_similarity(sentence_means1, sentence_means2):\n",
    "        \"\"\" get the wup similarity score for two sentences\"\"\"\n",
    "        score = SemanticMeasures.computeWup(sentence_means1, sentence_means2)\n",
    "        return score"
   ]
  },
  {
   "cell_type": "code",
   "execution_count": 18,
   "id": "0b10f4fb-6f4b-456c-a24f-dd5a99549f4a",
   "metadata": {},
   "outputs": [],
   "source": [
    " def overall_similarity_combined_semantic(ques1, ques2):\n",
    "        \"\"\" calculate combined similarity \"\"\"\n",
    "        sentence_means1 = get_lesk(ques1)\n",
    "        sentence_means2 = get_lesk(ques2)\n",
    "\n",
    "        R1 = compute_path_similarity(sentence_means1, sentence_means2)\n",
    "        R2 = compute_wup_similarity(sentence_means1, sentence_means2)\n",
    "\n",
    "        R = compute_combined_score(R1,R2)\n",
    "        return SemanticMeasures.overallSim(sentence_means1, sentence_means2, R)"
   ]
  },
  {
   "cell_type": "code",
   "execution_count": 19,
   "id": "f01c6a72-144b-4bc2-9d0c-bfd2c1810117",
   "metadata": {},
   "outputs": [],
   "source": [
    "def overall_similarity_wup_similarity(ques1, ques2):\n",
    "        \"\"\" calculate wup similarity \"\"\"\n",
    "        sentence_means1 = get_lesk(ques1)\n",
    "        sentence_means2 = get_lesk(ques2)\n",
    "\n",
    "        R1 = compute_wup_similarity(sentence_means1, sentence_means2)\n",
    "\n",
    "        return SemanticMeasures.overallSim(sentence_means1, sentence_means2, R1)"
   ]
  },
  {
   "cell_type": "code",
   "execution_count": 20,
   "id": "ef09bd2b-47b6-45f2-88ea-a80a6eb2c061",
   "metadata": {},
   "outputs": [],
   "source": [
    " def overall_similarity_path_similarity(ques1, ques2):\n",
    "        \"\"\" calculate path similarity \"\"\"\n",
    "        sentence_means1 = get_lesk(ques1)\n",
    "        sentence_means2 = get_lesk(ques2)\n",
    "\n",
    "        R1 = compute_path_similarity(sentence_means1, sentence_means2)\n",
    "\n",
    "        return SemanticMeasures.overallSim(sentence_means1, sentence_means2, R1)"
   ]
  },
  {
   "cell_type": "markdown",
   "id": "6c214ef1-dc63-4133-938c-d821af5143bd",
   "metadata": {},
   "source": [
    "## Data Preprocessing:"
   ]
  },
  {
   "cell_type": "code",
   "execution_count": 21,
   "id": "20875699-e384-4157-9387-058a7ba70058",
   "metadata": {},
   "outputs": [],
   "source": [
    "#Settings:\n",
    "pd.set_option('max_colwidth', 500)"
   ]
  },
  {
   "cell_type": "markdown",
   "id": "55477d10-2b42-4902-9830-73c3f8208019",
   "metadata": {},
   "source": [
    "### Creating Balanced Training Dataset Instance:"
   ]
  },
  {
   "cell_type": "code",
   "execution_count": 115,
   "id": "c30d51d7-5d00-47c8-a466-ebfc0d3f449d",
   "metadata": {},
   "outputs": [],
   "source": [
    "train_df = pd.read_csv(\"train_df\")\n",
    "subset0 = train_df.loc[train_df['classification'] == 0]\n",
    "subset1 = train_df.loc[train_df['classification'] == 1]\n",
    "subset1Sample = subset1.sample(n=1039,random_state=42)\n",
    "new_train_df = subset0.append(subset1Sample)"
   ]
  },
  {
   "cell_type": "code",
   "execution_count": 116,
   "id": "73252e43-b912-4e92-822c-66e1fba81ac2",
   "metadata": {},
   "outputs": [
    {
     "data": {
      "text/plain": [
       "1    0.745156\n",
       "0    0.254844\n",
       "Name: classification, dtype: float64"
      ]
     },
     "execution_count": 116,
     "metadata": {},
     "output_type": "execute_result"
    }
   ],
   "source": [
    "train_df['classification'].value_counts()/train_df.shape[0]"
   ]
  },
  {
   "cell_type": "code",
   "execution_count": 117,
   "id": "48f7b5b7-6768-412c-bb8d-3c63bb9c5fb3",
   "metadata": {},
   "outputs": [
    {
     "data": {
      "text/plain": [
       "0    0.5\n",
       "1    0.5\n",
       "Name: classification, dtype: float64"
      ]
     },
     "execution_count": 117,
     "metadata": {},
     "output_type": "execute_result"
    }
   ],
   "source": [
    "new_train_df['classification'].value_counts()/new_train_df.shape[0]"
   ]
  },
  {
   "cell_type": "code",
   "execution_count": 118,
   "id": "23cf2a85-8a91-4d35-bf51-29ea2a543c7f",
   "metadata": {},
   "outputs": [
    {
     "data": {
      "text/plain": [
       "<AxesSubplot:xlabel='overall_sim_score', ylabel='overall_similarity_combined_semantic'>"
      ]
     },
     "execution_count": 118,
     "metadata": {},
     "output_type": "execute_result"
    },
    {
     "data": {
      "image/png": "[encoded data removed]",
      "text/plain": [
       "<Figure size 432x288 with 1 Axes>"
      ]
     },
     "metadata": {
      "needs_background": "light"
     },
     "output_type": "display_data"
    }
   ],
   "source": [
    "sns.scatterplot(data=new_train_df,x='overall_sim_score',y='overall_similarity_combined_semantic',hue='classification')"
   ]
  },
  {
   "cell_type": "markdown",
   "id": "fe1098ed-ec87-47fc-9425-57fd901cf86c",
   "metadata": {},
   "source": [
    "### Training Dataset Preprocessing:"
   ]
  },
  {
   "cell_type": "code",
   "execution_count": 21,
   "id": "c16a5ae6-fca1-4768-93ca-891291761816",
   "metadata": {},
   "outputs": [],
   "source": [
    "#Training Dataset:\n",
    "train_df = pd.read_csv(\"train_with_label.txt\", delimiter = \"r'\\t\", header = None, engine = 'python')\n",
    "train_df = train_df[0].str.split(\"\\t\", expand=True)\n",
    "train_df = train_df.rename(columns={0: \"id\", 1: \"sentence1\", 2: \"sentence2\", 3: \"classification\"})\n",
    "train_df[\"classification\"] = pd.to_numeric(train_df[\"classification\"])\n",
    "train_df.drop_duplicates(inplace = True)\n",
    "\n",
    "lemm = nltk.stem.WordNetLemmatizer()\n",
    "\n",
    "train_df['Text_Cleaned1'] = list(map(clean_text, train_df.sentence1))\n",
    "train_df['lemmatized_text1'] = list(map(lambda word:list(map(lemm.lemmatize, word)),train_df.Text_Cleaned1))\n",
    "train_df['Text_Cleaned2'] = list(map(clean_text, train_df.sentence2))\n",
    "train_df['lemmatized_text2'] = list(map(lambda word:list(map(lemm.lemmatize, word)),train_df.Text_Cleaned2))"
   ]
  },
  {
   "cell_type": "code",
   "execution_count": 23,
   "id": "c3a629e0-8572-4c1e-8543-db72b957e77d",
   "metadata": {},
   "outputs": [],
   "source": [
    "#Syntactic Features:\n",
    "cosineOldlist = []\n",
    "similaritylist = []\n",
    "lengthlist = []\n",
    "overlaplist = []\n",
    "overlap2list = []\n",
    "\n",
    "for index, row in train_df.iterrows():\n",
    "    #Cosine Similarity:\n",
    "    counter1 = Counter(row['Text_Cleaned1'])\n",
    "    counter2 = Counter(row['Text_Cleaned2'])\n",
    "    cosine_score = counter_cosine_similarity(counter1, counter2)\n",
    "    cosineOldlist.append(cosine_score)\n",
    "    \n",
    "    #Length Similarity:\n",
    "    lenc1 = sum(iter(counter1.values()))\n",
    "    lenc2 = sum(iter(counter2.values()))\n",
    "    lengthSim = min(lenc1, lenc2) / float(max(lenc1, lenc2))\n",
    "    lengthlist.append(lengthlist)\n",
    "    \n",
    "    #Overlapping Words/Sentence Length 1 - Overlapping Words/Sentence Length 2:\n",
    "    overlappingtermsCount = sum(((counter1)&(counter2)).values())\n",
    "    overlap_score = (overlappingtermsCount/lenc1) - (overlappingtermsCount/lenc2)\n",
    "    overlaplist.append(overlap_score)\n",
    "    \n",
    "    #Overlapping Words/(Sentence Length 1 + Sentence Length 2):\n",
    "    overlap2_score = (overlappingtermsCount/(lenc1+lenc2))\n",
    "    overlap2list.append(overlap2_score)\n",
    "    \n",
    "    #Similarity Score:\n",
    "    similarityScore = lengthSim * cosine_score\n",
    "    similaritylist.append(similarityScore)\n",
    "    \n",
    "train_df['cosine_similarity_score'] = cosineOldlist\n",
    "train_df['cosine/length_ratio'] = similaritylist\n",
    "train_df['length_similarity'] = lengthlist\n",
    "train_df['overlap_score'] = overlaplist\n",
    "train_df['overlap2_score'] = overlap2list    "
   ]
  },
  {
   "cell_type": "code",
   "execution_count": 24,
   "id": "890e47d5-06e2-4fc4-9800-549108f33a5f",
   "metadata": {},
   "outputs": [
    {
     "ename": "MemoryError",
     "evalue": "",
     "output_type": "error",
     "traceback": [
      "\u001b[1;31m---------------------------------------------------------------------------\u001b[0m",
      "\u001b[1;31mMemoryError\u001b[0m                               Traceback (most recent call last)",
      "\u001b[1;32m~\\anaconda3\\lib\\site-packages\\IPython\\core\\formatters.py\u001b[0m in \u001b[0;36m__call__\u001b[1;34m(self, obj)\u001b[0m\n\u001b[0;32m    700\u001b[0m                 \u001b[0mtype_pprinters\u001b[0m\u001b[1;33m=\u001b[0m\u001b[0mself\u001b[0m\u001b[1;33m.\u001b[0m\u001b[0mtype_printers\u001b[0m\u001b[1;33m,\u001b[0m\u001b[1;33m\u001b[0m\u001b[1;33m\u001b[0m\u001b[0m\n\u001b[0;32m    701\u001b[0m                 deferred_pprinters=self.deferred_printers)\n\u001b[1;32m--> 702\u001b[1;33m             \u001b[0mprinter\u001b[0m\u001b[1;33m.\u001b[0m\u001b[0mpretty\u001b[0m\u001b[1;33m(\u001b[0m\u001b[0mobj\u001b[0m\u001b[1;33m)\u001b[0m\u001b[1;33m\u001b[0m\u001b[1;33m\u001b[0m\u001b[0m\n\u001b[0m\u001b[0;32m    703\u001b[0m             \u001b[0mprinter\u001b[0m\u001b[1;33m.\u001b[0m\u001b[0mflush\u001b[0m\u001b[1;33m(\u001b[0m\u001b[1;33m)\u001b[0m\u001b[1;33m\u001b[0m\u001b[1;33m\u001b[0m\u001b[0m\n\u001b[0;32m    704\u001b[0m             \u001b[1;32mreturn\u001b[0m \u001b[0mstream\u001b[0m\u001b[1;33m.\u001b[0m\u001b[0mgetvalue\u001b[0m\u001b[1;33m(\u001b[0m\u001b[1;33m)\u001b[0m\u001b[1;33m\u001b[0m\u001b[1;33m\u001b[0m\u001b[0m\n",
      "\u001b[1;32m~\\anaconda3\\lib\\site-packages\\IPython\\lib\\pretty.py\u001b[0m in \u001b[0;36mpretty\u001b[1;34m(self, obj)\u001b[0m\n\u001b[0;32m    392\u001b[0m                         \u001b[1;32mif\u001b[0m \u001b[0mcls\u001b[0m \u001b[1;32mis\u001b[0m \u001b[1;32mnot\u001b[0m \u001b[0mobject\u001b[0m\u001b[0;31m \u001b[0m\u001b[0;31m\\\u001b[0m\u001b[1;33m\u001b[0m\u001b[1;33m\u001b[0m\u001b[0m\n\u001b[0;32m    393\u001b[0m                                 \u001b[1;32mand\u001b[0m \u001b[0mcallable\u001b[0m\u001b[1;33m(\u001b[0m\u001b[0mcls\u001b[0m\u001b[1;33m.\u001b[0m\u001b[0m__dict__\u001b[0m\u001b[1;33m.\u001b[0m\u001b[0mget\u001b[0m\u001b[1;33m(\u001b[0m\u001b[1;34m'__repr__'\u001b[0m\u001b[1;33m)\u001b[0m\u001b[1;33m)\u001b[0m\u001b[1;33m:\u001b[0m\u001b[1;33m\u001b[0m\u001b[1;33m\u001b[0m\u001b[0m\n\u001b[1;32m--> 394\u001b[1;33m                             \u001b[1;32mreturn\u001b[0m \u001b[0m_repr_pprint\u001b[0m\u001b[1;33m(\u001b[0m\u001b[0mobj\u001b[0m\u001b[1;33m,\u001b[0m \u001b[0mself\u001b[0m\u001b[1;33m,\u001b[0m \u001b[0mcycle\u001b[0m\u001b[1;33m)\u001b[0m\u001b[1;33m\u001b[0m\u001b[1;33m\u001b[0m\u001b[0m\n\u001b[0m\u001b[0;32m    395\u001b[0m \u001b[1;33m\u001b[0m\u001b[0m\n\u001b[0;32m    396\u001b[0m             \u001b[1;32mreturn\u001b[0m \u001b[0m_default_pprint\u001b[0m\u001b[1;33m(\u001b[0m\u001b[0mobj\u001b[0m\u001b[1;33m,\u001b[0m \u001b[0mself\u001b[0m\u001b[1;33m,\u001b[0m \u001b[0mcycle\u001b[0m\u001b[1;33m)\u001b[0m\u001b[1;33m\u001b[0m\u001b[1;33m\u001b[0m\u001b[0m\n",
      "\u001b[1;32m~\\anaconda3\\lib\\site-packages\\IPython\\lib\\pretty.py\u001b[0m in \u001b[0;36m_repr_pprint\u001b[1;34m(obj, p, cycle)\u001b[0m\n\u001b[0;32m    698\u001b[0m     \u001b[1;34m\"\"\"A pprint that just redirects to the normal repr function.\"\"\"\u001b[0m\u001b[1;33m\u001b[0m\u001b[1;33m\u001b[0m\u001b[0m\n\u001b[0;32m    699\u001b[0m     \u001b[1;31m# Find newlines and replace them with p.break_()\u001b[0m\u001b[1;33m\u001b[0m\u001b[1;33m\u001b[0m\u001b[1;33m\u001b[0m\u001b[0m\n\u001b[1;32m--> 700\u001b[1;33m     \u001b[0moutput\u001b[0m \u001b[1;33m=\u001b[0m \u001b[0mrepr\u001b[0m\u001b[1;33m(\u001b[0m\u001b[0mobj\u001b[0m\u001b[1;33m)\u001b[0m\u001b[1;33m\u001b[0m\u001b[1;33m\u001b[0m\u001b[0m\n\u001b[0m\u001b[0;32m    701\u001b[0m     \u001b[0mlines\u001b[0m \u001b[1;33m=\u001b[0m \u001b[0moutput\u001b[0m\u001b[1;33m.\u001b[0m\u001b[0msplitlines\u001b[0m\u001b[1;33m(\u001b[0m\u001b[1;33m)\u001b[0m\u001b[1;33m\u001b[0m\u001b[1;33m\u001b[0m\u001b[0m\n\u001b[0;32m    702\u001b[0m     \u001b[1;32mwith\u001b[0m \u001b[0mp\u001b[0m\u001b[1;33m.\u001b[0m\u001b[0mgroup\u001b[0m\u001b[1;33m(\u001b[0m\u001b[1;33m)\u001b[0m\u001b[1;33m:\u001b[0m\u001b[1;33m\u001b[0m\u001b[1;33m\u001b[0m\u001b[0m\n",
      "\u001b[1;32m~\\anaconda3\\lib\\site-packages\\pandas\\core\\frame.py\u001b[0m in \u001b[0;36m__repr__\u001b[1;34m(self)\u001b[0m\n\u001b[0;32m    801\u001b[0m         \u001b[1;32melse\u001b[0m\u001b[1;33m:\u001b[0m\u001b[1;33m\u001b[0m\u001b[1;33m\u001b[0m\u001b[0m\n\u001b[0;32m    802\u001b[0m             \u001b[0mwidth\u001b[0m \u001b[1;33m=\u001b[0m \u001b[1;32mNone\u001b[0m\u001b[1;33m\u001b[0m\u001b[1;33m\u001b[0m\u001b[0m\n\u001b[1;32m--> 803\u001b[1;33m         self.to_string(\n\u001b[0m\u001b[0;32m    804\u001b[0m             \u001b[0mbuf\u001b[0m\u001b[1;33m=\u001b[0m\u001b[0mbuf\u001b[0m\u001b[1;33m,\u001b[0m\u001b[1;33m\u001b[0m\u001b[1;33m\u001b[0m\u001b[0m\n\u001b[0;32m    805\u001b[0m             \u001b[0mmax_rows\u001b[0m\u001b[1;33m=\u001b[0m\u001b[0mmax_rows\u001b[0m\u001b[1;33m,\u001b[0m\u001b[1;33m\u001b[0m\u001b[1;33m\u001b[0m\u001b[0m\n",
      "\u001b[1;32m~\\anaconda3\\lib\\site-packages\\pandas\\core\\frame.py\u001b[0m in \u001b[0;36mto_string\u001b[1;34m(self, buf, columns, col_space, header, index, na_rep, formatters, float_format, sparsify, index_names, justify, max_rows, min_rows, max_cols, show_dimensions, decimal, line_width, max_colwidth, encoding)\u001b[0m\n\u001b[0;32m    937\u001b[0m                 \u001b[0mdecimal\u001b[0m\u001b[1;33m=\u001b[0m\u001b[0mdecimal\u001b[0m\u001b[1;33m,\u001b[0m\u001b[1;33m\u001b[0m\u001b[1;33m\u001b[0m\u001b[0m\n\u001b[0;32m    938\u001b[0m             )\n\u001b[1;32m--> 939\u001b[1;33m             return fmt.DataFrameRenderer(formatter).to_string(\n\u001b[0m\u001b[0;32m    940\u001b[0m                 \u001b[0mbuf\u001b[0m\u001b[1;33m=\u001b[0m\u001b[0mbuf\u001b[0m\u001b[1;33m,\u001b[0m\u001b[1;33m\u001b[0m\u001b[1;33m\u001b[0m\u001b[0m\n\u001b[0;32m    941\u001b[0m                 \u001b[0mencoding\u001b[0m\u001b[1;33m=\u001b[0m\u001b[0mencoding\u001b[0m\u001b[1;33m,\u001b[0m\u001b[1;33m\u001b[0m\u001b[1;33m\u001b[0m\u001b[0m\n",
      "\u001b[1;32m~\\anaconda3\\lib\\site-packages\\pandas\\io\\formats\\format.py\u001b[0m in \u001b[0;36mto_string\u001b[1;34m(self, buf, encoding, line_width)\u001b[0m\n\u001b[0;32m   1029\u001b[0m \u001b[1;33m\u001b[0m\u001b[0m\n\u001b[0;32m   1030\u001b[0m         \u001b[0mstring_formatter\u001b[0m \u001b[1;33m=\u001b[0m \u001b[0mStringFormatter\u001b[0m\u001b[1;33m(\u001b[0m\u001b[0mself\u001b[0m\u001b[1;33m.\u001b[0m\u001b[0mfmt\u001b[0m\u001b[1;33m,\u001b[0m \u001b[0mline_width\u001b[0m\u001b[1;33m=\u001b[0m\u001b[0mline_width\u001b[0m\u001b[1;33m)\u001b[0m\u001b[1;33m\u001b[0m\u001b[1;33m\u001b[0m\u001b[0m\n\u001b[1;32m-> 1031\u001b[1;33m         \u001b[0mstring\u001b[0m \u001b[1;33m=\u001b[0m \u001b[0mstring_formatter\u001b[0m\u001b[1;33m.\u001b[0m\u001b[0mto_string\u001b[0m\u001b[1;33m(\u001b[0m\u001b[1;33m)\u001b[0m\u001b[1;33m\u001b[0m\u001b[1;33m\u001b[0m\u001b[0m\n\u001b[0m\u001b[0;32m   1032\u001b[0m         \u001b[1;32mreturn\u001b[0m \u001b[0msave_to_buffer\u001b[0m\u001b[1;33m(\u001b[0m\u001b[0mstring\u001b[0m\u001b[1;33m,\u001b[0m \u001b[0mbuf\u001b[0m\u001b[1;33m=\u001b[0m\u001b[0mbuf\u001b[0m\u001b[1;33m,\u001b[0m \u001b[0mencoding\u001b[0m\u001b[1;33m=\u001b[0m\u001b[0mencoding\u001b[0m\u001b[1;33m)\u001b[0m\u001b[1;33m\u001b[0m\u001b[1;33m\u001b[0m\u001b[0m\n\u001b[0;32m   1033\u001b[0m \u001b[1;33m\u001b[0m\u001b[0m\n",
      "\u001b[1;32m~\\anaconda3\\lib\\site-packages\\pandas\\io\\formats\\string.py\u001b[0m in \u001b[0;36mto_string\u001b[1;34m(self)\u001b[0m\n\u001b[0;32m     21\u001b[0m \u001b[1;33m\u001b[0m\u001b[0m\n\u001b[0;32m     22\u001b[0m     \u001b[1;32mdef\u001b[0m \u001b[0mto_string\u001b[0m\u001b[1;33m(\u001b[0m\u001b[0mself\u001b[0m\u001b[1;33m)\u001b[0m \u001b[1;33m->\u001b[0m \u001b[0mstr\u001b[0m\u001b[1;33m:\u001b[0m\u001b[1;33m\u001b[0m\u001b[1;33m\u001b[0m\u001b[0m\n\u001b[1;32m---> 23\u001b[1;33m         \u001b[0mtext\u001b[0m \u001b[1;33m=\u001b[0m \u001b[0mself\u001b[0m\u001b[1;33m.\u001b[0m\u001b[0m_get_string_representation\u001b[0m\u001b[1;33m(\u001b[0m\u001b[1;33m)\u001b[0m\u001b[1;33m\u001b[0m\u001b[1;33m\u001b[0m\u001b[0m\n\u001b[0m\u001b[0;32m     24\u001b[0m         \u001b[1;32mif\u001b[0m \u001b[0mself\u001b[0m\u001b[1;33m.\u001b[0m\u001b[0mfmt\u001b[0m\u001b[1;33m.\u001b[0m\u001b[0mshould_show_dimensions\u001b[0m\u001b[1;33m:\u001b[0m\u001b[1;33m\u001b[0m\u001b[1;33m\u001b[0m\u001b[0m\n\u001b[0;32m     25\u001b[0m             \u001b[0mtext\u001b[0m \u001b[1;33m=\u001b[0m \u001b[1;34m\"\"\u001b[0m\u001b[1;33m.\u001b[0m\u001b[0mjoin\u001b[0m\u001b[1;33m(\u001b[0m\u001b[1;33m[\u001b[0m\u001b[0mtext\u001b[0m\u001b[1;33m,\u001b[0m \u001b[0mself\u001b[0m\u001b[1;33m.\u001b[0m\u001b[0mfmt\u001b[0m\u001b[1;33m.\u001b[0m\u001b[0mdimensions_info\u001b[0m\u001b[1;33m]\u001b[0m\u001b[1;33m)\u001b[0m\u001b[1;33m\u001b[0m\u001b[1;33m\u001b[0m\u001b[0m\n",
      "\u001b[1;32m~\\anaconda3\\lib\\site-packages\\pandas\\io\\formats\\string.py\u001b[0m in \u001b[0;36m_get_string_representation\u001b[1;34m(self)\u001b[0m\n\u001b[0;32m     36\u001b[0m             \u001b[1;32mreturn\u001b[0m \u001b[0mself\u001b[0m\u001b[1;33m.\u001b[0m\u001b[0m_empty_info_line\u001b[0m\u001b[1;33m\u001b[0m\u001b[1;33m\u001b[0m\u001b[0m\n\u001b[0;32m     37\u001b[0m \u001b[1;33m\u001b[0m\u001b[0m\n\u001b[1;32m---> 38\u001b[1;33m         \u001b[0mstrcols\u001b[0m \u001b[1;33m=\u001b[0m \u001b[0mself\u001b[0m\u001b[1;33m.\u001b[0m\u001b[0m_get_strcols\u001b[0m\u001b[1;33m(\u001b[0m\u001b[1;33m)\u001b[0m\u001b[1;33m\u001b[0m\u001b[1;33m\u001b[0m\u001b[0m\n\u001b[0m\u001b[0;32m     39\u001b[0m \u001b[1;33m\u001b[0m\u001b[0m\n\u001b[0;32m     40\u001b[0m         \u001b[1;32mif\u001b[0m \u001b[0mself\u001b[0m\u001b[1;33m.\u001b[0m\u001b[0mline_width\u001b[0m \u001b[1;32mis\u001b[0m \u001b[1;32mNone\u001b[0m\u001b[1;33m:\u001b[0m\u001b[1;33m\u001b[0m\u001b[1;33m\u001b[0m\u001b[0m\n",
      "\u001b[1;32m~\\anaconda3\\lib\\site-packages\\pandas\\io\\formats\\string.py\u001b[0m in \u001b[0;36m_get_strcols\u001b[1;34m(self)\u001b[0m\n\u001b[0;32m     27\u001b[0m \u001b[1;33m\u001b[0m\u001b[0m\n\u001b[0;32m     28\u001b[0m     \u001b[1;32mdef\u001b[0m \u001b[0m_get_strcols\u001b[0m\u001b[1;33m(\u001b[0m\u001b[0mself\u001b[0m\u001b[1;33m)\u001b[0m \u001b[1;33m->\u001b[0m \u001b[0mList\u001b[0m\u001b[1;33m[\u001b[0m\u001b[0mList\u001b[0m\u001b[1;33m[\u001b[0m\u001b[0mstr\u001b[0m\u001b[1;33m]\u001b[0m\u001b[1;33m]\u001b[0m\u001b[1;33m:\u001b[0m\u001b[1;33m\u001b[0m\u001b[1;33m\u001b[0m\u001b[0m\n\u001b[1;32m---> 29\u001b[1;33m         \u001b[0mstrcols\u001b[0m \u001b[1;33m=\u001b[0m \u001b[0mself\u001b[0m\u001b[1;33m.\u001b[0m\u001b[0mfmt\u001b[0m\u001b[1;33m.\u001b[0m\u001b[0mget_strcols\u001b[0m\u001b[1;33m(\u001b[0m\u001b[1;33m)\u001b[0m\u001b[1;33m\u001b[0m\u001b[1;33m\u001b[0m\u001b[0m\n\u001b[0m\u001b[0;32m     30\u001b[0m         \u001b[1;32mif\u001b[0m \u001b[0mself\u001b[0m\u001b[1;33m.\u001b[0m\u001b[0mfmt\u001b[0m\u001b[1;33m.\u001b[0m\u001b[0mis_truncated\u001b[0m\u001b[1;33m:\u001b[0m\u001b[1;33m\u001b[0m\u001b[1;33m\u001b[0m\u001b[0m\n\u001b[0;32m     31\u001b[0m             \u001b[0mstrcols\u001b[0m \u001b[1;33m=\u001b[0m \u001b[0mself\u001b[0m\u001b[1;33m.\u001b[0m\u001b[0m_insert_dot_separators\u001b[0m\u001b[1;33m(\u001b[0m\u001b[0mstrcols\u001b[0m\u001b[1;33m)\u001b[0m\u001b[1;33m\u001b[0m\u001b[1;33m\u001b[0m\u001b[0m\n",
      "\u001b[1;32m~\\anaconda3\\lib\\site-packages\\pandas\\io\\formats\\format.py\u001b[0m in \u001b[0;36mget_strcols\u001b[1;34m(self)\u001b[0m\n\u001b[0;32m    517\u001b[0m         \u001b[0mRender\u001b[0m \u001b[0ma\u001b[0m \u001b[0mDataFrame\u001b[0m \u001b[0mto\u001b[0m \u001b[0ma\u001b[0m \u001b[0mlist\u001b[0m \u001b[0mof\u001b[0m \u001b[0mcolumns\u001b[0m \u001b[1;33m(\u001b[0m\u001b[1;32mas\u001b[0m \u001b[0mlists\u001b[0m \u001b[0mof\u001b[0m \u001b[0mstrings\u001b[0m\u001b[1;33m)\u001b[0m\u001b[1;33m.\u001b[0m\u001b[1;33m\u001b[0m\u001b[1;33m\u001b[0m\u001b[0m\n\u001b[0;32m    518\u001b[0m         \"\"\"\n\u001b[1;32m--> 519\u001b[1;33m         \u001b[0mstrcols\u001b[0m \u001b[1;33m=\u001b[0m \u001b[0mself\u001b[0m\u001b[1;33m.\u001b[0m\u001b[0m_get_strcols_without_index\u001b[0m\u001b[1;33m(\u001b[0m\u001b[1;33m)\u001b[0m\u001b[1;33m\u001b[0m\u001b[1;33m\u001b[0m\u001b[0m\n\u001b[0m\u001b[0;32m    520\u001b[0m \u001b[1;33m\u001b[0m\u001b[0m\n\u001b[0;32m    521\u001b[0m         \u001b[1;32mif\u001b[0m \u001b[0mself\u001b[0m\u001b[1;33m.\u001b[0m\u001b[0mindex\u001b[0m\u001b[1;33m:\u001b[0m\u001b[1;33m\u001b[0m\u001b[1;33m\u001b[0m\u001b[0m\n",
      "\u001b[1;32m~\\anaconda3\\lib\\site-packages\\pandas\\io\\formats\\format.py\u001b[0m in \u001b[0;36m_get_strcols_without_index\u001b[1;34m(self)\u001b[0m\n\u001b[0;32m    783\u001b[0m                 \u001b[0mint\u001b[0m\u001b[1;33m(\u001b[0m\u001b[0mself\u001b[0m\u001b[1;33m.\u001b[0m\u001b[0mcol_space\u001b[0m\u001b[1;33m.\u001b[0m\u001b[0mget\u001b[0m\u001b[1;33m(\u001b[0m\u001b[0mc\u001b[0m\u001b[1;33m,\u001b[0m \u001b[1;36m0\u001b[0m\u001b[1;33m)\u001b[0m\u001b[1;33m)\u001b[0m\u001b[1;33m,\u001b[0m \u001b[1;33m*\u001b[0m\u001b[1;33m(\u001b[0m\u001b[0mself\u001b[0m\u001b[1;33m.\u001b[0m\u001b[0madj\u001b[0m\u001b[1;33m.\u001b[0m\u001b[0mlen\u001b[0m\u001b[1;33m(\u001b[0m\u001b[0mx\u001b[0m\u001b[1;33m)\u001b[0m \u001b[1;32mfor\u001b[0m \u001b[0mx\u001b[0m \u001b[1;32min\u001b[0m \u001b[0mcheader\u001b[0m\u001b[1;33m)\u001b[0m\u001b[1;33m\u001b[0m\u001b[1;33m\u001b[0m\u001b[0m\n\u001b[0;32m    784\u001b[0m             )\n\u001b[1;32m--> 785\u001b[1;33m             \u001b[0mfmt_values\u001b[0m \u001b[1;33m=\u001b[0m \u001b[0mself\u001b[0m\u001b[1;33m.\u001b[0m\u001b[0mformat_col\u001b[0m\u001b[1;33m(\u001b[0m\u001b[0mi\u001b[0m\u001b[1;33m)\u001b[0m\u001b[1;33m\u001b[0m\u001b[1;33m\u001b[0m\u001b[0m\n\u001b[0m\u001b[0;32m    786\u001b[0m             fmt_values = _make_fixed_width(\n\u001b[0;32m    787\u001b[0m                 \u001b[0mfmt_values\u001b[0m\u001b[1;33m,\u001b[0m \u001b[0mself\u001b[0m\u001b[1;33m.\u001b[0m\u001b[0mjustify\u001b[0m\u001b[1;33m,\u001b[0m \u001b[0mminimum\u001b[0m\u001b[1;33m=\u001b[0m\u001b[0mheader_colwidth\u001b[0m\u001b[1;33m,\u001b[0m \u001b[0madj\u001b[0m\u001b[1;33m=\u001b[0m\u001b[0mself\u001b[0m\u001b[1;33m.\u001b[0m\u001b[0madj\u001b[0m\u001b[1;33m\u001b[0m\u001b[1;33m\u001b[0m\u001b[0m\n",
      "\u001b[1;32m~\\anaconda3\\lib\\site-packages\\pandas\\io\\formats\\format.py\u001b[0m in \u001b[0;36mformat_col\u001b[1;34m(self, i)\u001b[0m\n\u001b[0;32m    797\u001b[0m         \u001b[0mframe\u001b[0m \u001b[1;33m=\u001b[0m \u001b[0mself\u001b[0m\u001b[1;33m.\u001b[0m\u001b[0mtr_frame\u001b[0m\u001b[1;33m\u001b[0m\u001b[1;33m\u001b[0m\u001b[0m\n\u001b[0;32m    798\u001b[0m         \u001b[0mformatter\u001b[0m \u001b[1;33m=\u001b[0m \u001b[0mself\u001b[0m\u001b[1;33m.\u001b[0m\u001b[0m_get_formatter\u001b[0m\u001b[1;33m(\u001b[0m\u001b[0mi\u001b[0m\u001b[1;33m)\u001b[0m\u001b[1;33m\u001b[0m\u001b[1;33m\u001b[0m\u001b[0m\n\u001b[1;32m--> 799\u001b[1;33m         return format_array(\n\u001b[0m\u001b[0;32m    800\u001b[0m             \u001b[0mframe\u001b[0m\u001b[1;33m.\u001b[0m\u001b[0miloc\u001b[0m\u001b[1;33m[\u001b[0m\u001b[1;33m:\u001b[0m\u001b[1;33m,\u001b[0m \u001b[0mi\u001b[0m\u001b[1;33m]\u001b[0m\u001b[1;33m.\u001b[0m\u001b[0m_values\u001b[0m\u001b[1;33m,\u001b[0m\u001b[1;33m\u001b[0m\u001b[1;33m\u001b[0m\u001b[0m\n\u001b[0;32m    801\u001b[0m             \u001b[0mformatter\u001b[0m\u001b[1;33m,\u001b[0m\u001b[1;33m\u001b[0m\u001b[1;33m\u001b[0m\u001b[0m\n",
      "\u001b[1;32m~\\anaconda3\\lib\\site-packages\\pandas\\io\\formats\\format.py\u001b[0m in \u001b[0;36mformat_array\u001b[1;34m(values, formatter, float_format, na_rep, digits, space, justify, decimal, leading_space, quoting)\u001b[0m\n\u001b[0;32m   1216\u001b[0m     )\n\u001b[0;32m   1217\u001b[0m \u001b[1;33m\u001b[0m\u001b[0m\n\u001b[1;32m-> 1218\u001b[1;33m     \u001b[1;32mreturn\u001b[0m \u001b[0mfmt_obj\u001b[0m\u001b[1;33m.\u001b[0m\u001b[0mget_result\u001b[0m\u001b[1;33m(\u001b[0m\u001b[1;33m)\u001b[0m\u001b[1;33m\u001b[0m\u001b[1;33m\u001b[0m\u001b[0m\n\u001b[0m\u001b[0;32m   1219\u001b[0m \u001b[1;33m\u001b[0m\u001b[0m\n\u001b[0;32m   1220\u001b[0m \u001b[1;33m\u001b[0m\u001b[0m\n",
      "\u001b[1;32m~\\anaconda3\\lib\\site-packages\\pandas\\io\\formats\\format.py\u001b[0m in \u001b[0;36mget_result\u001b[1;34m(self)\u001b[0m\n\u001b[0;32m   1247\u001b[0m \u001b[1;33m\u001b[0m\u001b[0m\n\u001b[0;32m   1248\u001b[0m     \u001b[1;32mdef\u001b[0m \u001b[0mget_result\u001b[0m\u001b[1;33m(\u001b[0m\u001b[0mself\u001b[0m\u001b[1;33m)\u001b[0m \u001b[1;33m->\u001b[0m \u001b[0mList\u001b[0m\u001b[1;33m[\u001b[0m\u001b[0mstr\u001b[0m\u001b[1;33m]\u001b[0m\u001b[1;33m:\u001b[0m\u001b[1;33m\u001b[0m\u001b[1;33m\u001b[0m\u001b[0m\n\u001b[1;32m-> 1249\u001b[1;33m         \u001b[0mfmt_values\u001b[0m \u001b[1;33m=\u001b[0m \u001b[0mself\u001b[0m\u001b[1;33m.\u001b[0m\u001b[0m_format_strings\u001b[0m\u001b[1;33m(\u001b[0m\u001b[1;33m)\u001b[0m\u001b[1;33m\u001b[0m\u001b[1;33m\u001b[0m\u001b[0m\n\u001b[0m\u001b[0;32m   1250\u001b[0m         \u001b[1;32mreturn\u001b[0m \u001b[0m_make_fixed_width\u001b[0m\u001b[1;33m(\u001b[0m\u001b[0mfmt_values\u001b[0m\u001b[1;33m,\u001b[0m \u001b[0mself\u001b[0m\u001b[1;33m.\u001b[0m\u001b[0mjustify\u001b[0m\u001b[1;33m)\u001b[0m\u001b[1;33m\u001b[0m\u001b[1;33m\u001b[0m\u001b[0m\n\u001b[0;32m   1251\u001b[0m \u001b[1;33m\u001b[0m\u001b[0m\n",
      "\u001b[1;32m~\\anaconda3\\lib\\site-packages\\pandas\\io\\formats\\format.py\u001b[0m in \u001b[0;36m_format_strings\u001b[1;34m(self)\u001b[0m\n\u001b[0;32m   1306\u001b[0m         \u001b[1;32mfor\u001b[0m \u001b[0mi\u001b[0m\u001b[1;33m,\u001b[0m \u001b[0mv\u001b[0m \u001b[1;32min\u001b[0m \u001b[0menumerate\u001b[0m\u001b[1;33m(\u001b[0m\u001b[0mvals\u001b[0m\u001b[1;33m)\u001b[0m\u001b[1;33m:\u001b[0m\u001b[1;33m\u001b[0m\u001b[1;33m\u001b[0m\u001b[0m\n\u001b[0;32m   1307\u001b[0m             \u001b[1;32mif\u001b[0m \u001b[1;32mnot\u001b[0m \u001b[0mis_float_type\u001b[0m\u001b[1;33m[\u001b[0m\u001b[0mi\u001b[0m\u001b[1;33m]\u001b[0m \u001b[1;32mand\u001b[0m \u001b[0mleading_space\u001b[0m\u001b[1;33m:\u001b[0m\u001b[1;33m\u001b[0m\u001b[1;33m\u001b[0m\u001b[0m\n\u001b[1;32m-> 1308\u001b[1;33m                 \u001b[0mfmt_values\u001b[0m\u001b[1;33m.\u001b[0m\u001b[0mappend\u001b[0m\u001b[1;33m(\u001b[0m\u001b[1;34mf\" {_format(v)}\"\u001b[0m\u001b[1;33m)\u001b[0m\u001b[1;33m\u001b[0m\u001b[1;33m\u001b[0m\u001b[0m\n\u001b[0m\u001b[0;32m   1309\u001b[0m             \u001b[1;32melif\u001b[0m \u001b[0mis_float_type\u001b[0m\u001b[1;33m[\u001b[0m\u001b[0mi\u001b[0m\u001b[1;33m]\u001b[0m\u001b[1;33m:\u001b[0m\u001b[1;33m\u001b[0m\u001b[1;33m\u001b[0m\u001b[0m\n\u001b[0;32m   1310\u001b[0m                 \u001b[0mfmt_values\u001b[0m\u001b[1;33m.\u001b[0m\u001b[0mappend\u001b[0m\u001b[1;33m(\u001b[0m\u001b[0mfloat_format\u001b[0m\u001b[1;33m(\u001b[0m\u001b[0mv\u001b[0m\u001b[1;33m)\u001b[0m\u001b[1;33m)\u001b[0m\u001b[1;33m\u001b[0m\u001b[1;33m\u001b[0m\u001b[0m\n",
      "\u001b[1;32m~\\anaconda3\\lib\\site-packages\\pandas\\io\\formats\\format.py\u001b[0m in \u001b[0;36m_format\u001b[1;34m(x)\u001b[0m\n\u001b[0;32m   1290\u001b[0m             \u001b[1;32melse\u001b[0m\u001b[1;33m:\u001b[0m\u001b[1;33m\u001b[0m\u001b[1;33m\u001b[0m\u001b[0m\n\u001b[0;32m   1291\u001b[0m                 \u001b[1;31m# object dtype\u001b[0m\u001b[1;33m\u001b[0m\u001b[1;33m\u001b[0m\u001b[1;33m\u001b[0m\u001b[0m\n\u001b[1;32m-> 1292\u001b[1;33m                 \u001b[1;32mreturn\u001b[0m \u001b[0mstr\u001b[0m\u001b[1;33m(\u001b[0m\u001b[0mformatter\u001b[0m\u001b[1;33m(\u001b[0m\u001b[0mx\u001b[0m\u001b[1;33m)\u001b[0m\u001b[1;33m)\u001b[0m\u001b[1;33m\u001b[0m\u001b[1;33m\u001b[0m\u001b[0m\n\u001b[0m\u001b[0;32m   1293\u001b[0m \u001b[1;33m\u001b[0m\u001b[0m\n\u001b[0;32m   1294\u001b[0m         \u001b[0mvals\u001b[0m \u001b[1;33m=\u001b[0m \u001b[0mextract_array\u001b[0m\u001b[1;33m(\u001b[0m\u001b[0mself\u001b[0m\u001b[1;33m.\u001b[0m\u001b[0mvalues\u001b[0m\u001b[1;33m,\u001b[0m \u001b[0mextract_numpy\u001b[0m\u001b[1;33m=\u001b[0m\u001b[1;32mTrue\u001b[0m\u001b[1;33m)\u001b[0m\u001b[1;33m\u001b[0m\u001b[1;33m\u001b[0m\u001b[0m\n",
      "\u001b[1;32m~\\anaconda3\\lib\\site-packages\\pandas\\io\\formats\\printing.py\u001b[0m in \u001b[0;36mpprint_thing\u001b[1;34m(thing, _nest_lvl, escape_chars, default_escapes, quote_strings, max_seq_items)\u001b[0m\n\u001b[0;32m    223\u001b[0m         )\n\u001b[0;32m    224\u001b[0m     \u001b[1;32melif\u001b[0m \u001b[0mis_sequence\u001b[0m\u001b[1;33m(\u001b[0m\u001b[0mthing\u001b[0m\u001b[1;33m)\u001b[0m \u001b[1;32mand\u001b[0m \u001b[0m_nest_lvl\u001b[0m \u001b[1;33m<\u001b[0m \u001b[0mget_option\u001b[0m\u001b[1;33m(\u001b[0m\u001b[1;34m\"display.pprint_nest_depth\"\u001b[0m\u001b[1;33m)\u001b[0m\u001b[1;33m:\u001b[0m\u001b[1;33m\u001b[0m\u001b[1;33m\u001b[0m\u001b[0m\n\u001b[1;32m--> 225\u001b[1;33m         result = _pprint_seq(\n\u001b[0m\u001b[0;32m    226\u001b[0m             \u001b[0mthing\u001b[0m\u001b[1;33m,\u001b[0m\u001b[1;33m\u001b[0m\u001b[1;33m\u001b[0m\u001b[0m\n\u001b[0;32m    227\u001b[0m             \u001b[0m_nest_lvl\u001b[0m\u001b[1;33m,\u001b[0m\u001b[1;33m\u001b[0m\u001b[1;33m\u001b[0m\u001b[0m\n",
      "\u001b[1;32m~\\anaconda3\\lib\\site-packages\\pandas\\io\\formats\\printing.py\u001b[0m in \u001b[0;36m_pprint_seq\u001b[1;34m(seq, _nest_lvl, max_seq_items, **kwds)\u001b[0m\n\u001b[0;32m    124\u001b[0m         \u001b[1;32mfor\u001b[0m \u001b[0mi\u001b[0m \u001b[1;32min\u001b[0m \u001b[0mrange\u001b[0m\u001b[1;33m(\u001b[0m\u001b[0mmin\u001b[0m\u001b[1;33m(\u001b[0m\u001b[0mnitems\u001b[0m\u001b[1;33m,\u001b[0m \u001b[0mlen\u001b[0m\u001b[1;33m(\u001b[0m\u001b[0mseq\u001b[0m\u001b[1;33m)\u001b[0m\u001b[1;33m)\u001b[0m\u001b[1;33m)\u001b[0m\u001b[1;33m\u001b[0m\u001b[1;33m\u001b[0m\u001b[0m\n\u001b[0;32m    125\u001b[0m     ]\n\u001b[1;32m--> 126\u001b[1;33m     \u001b[0mbody\u001b[0m \u001b[1;33m=\u001b[0m \u001b[1;34m\", \"\u001b[0m\u001b[1;33m.\u001b[0m\u001b[0mjoin\u001b[0m\u001b[1;33m(\u001b[0m\u001b[0mr\u001b[0m\u001b[1;33m)\u001b[0m\u001b[1;33m\u001b[0m\u001b[1;33m\u001b[0m\u001b[0m\n\u001b[0m\u001b[0;32m    127\u001b[0m \u001b[1;33m\u001b[0m\u001b[0m\n\u001b[0;32m    128\u001b[0m     \u001b[1;32mif\u001b[0m \u001b[0mnitems\u001b[0m \u001b[1;33m<\u001b[0m \u001b[0mlen\u001b[0m\u001b[1;33m(\u001b[0m\u001b[0mseq\u001b[0m\u001b[1;33m)\u001b[0m\u001b[1;33m:\u001b[0m\u001b[1;33m\u001b[0m\u001b[1;33m\u001b[0m\u001b[0m\n",
      "\u001b[1;31mMemoryError\u001b[0m: "
     ]
    },
    {
     "ename": "KeyboardInterrupt",
     "evalue": "",
     "output_type": "error",
     "traceback": [
      "\u001b[1;31m---------------------------------------------------------------------------\u001b[0m",
      "\u001b[1;31mKeyboardInterrupt\u001b[0m                         Traceback (most recent call last)",
      "\u001b[1;32m<ipython-input-24-ef797c2b3b5b>\u001b[0m in \u001b[0;36m<module>\u001b[1;34m\u001b[0m\n\u001b[1;32m----> 1\u001b[1;33m \u001b[0mtrain_df\u001b[0m\u001b[1;33m\u001b[0m\u001b[1;33m\u001b[0m\u001b[0m\n\u001b[0m",
      "\u001b[1;32m~\\anaconda3\\lib\\site-packages\\IPython\\core\\displayhook.py\u001b[0m in \u001b[0;36m__call__\u001b[1;34m(self, result)\u001b[0m\n\u001b[0;32m    260\u001b[0m             \u001b[0mself\u001b[0m\u001b[1;33m.\u001b[0m\u001b[0mstart_displayhook\u001b[0m\u001b[1;33m(\u001b[0m\u001b[1;33m)\u001b[0m\u001b[1;33m\u001b[0m\u001b[1;33m\u001b[0m\u001b[0m\n\u001b[0;32m    261\u001b[0m             \u001b[0mself\u001b[0m\u001b[1;33m.\u001b[0m\u001b[0mwrite_output_prompt\u001b[0m\u001b[1;33m(\u001b[0m\u001b[1;33m)\u001b[0m\u001b[1;33m\u001b[0m\u001b[1;33m\u001b[0m\u001b[0m\n\u001b[1;32m--> 262\u001b[1;33m             \u001b[0mformat_dict\u001b[0m\u001b[1;33m,\u001b[0m \u001b[0mmd_dict\u001b[0m \u001b[1;33m=\u001b[0m \u001b[0mself\u001b[0m\u001b[1;33m.\u001b[0m\u001b[0mcompute_format_data\u001b[0m\u001b[1;33m(\u001b[0m\u001b[0mresult\u001b[0m\u001b[1;33m)\u001b[0m\u001b[1;33m\u001b[0m\u001b[1;33m\u001b[0m\u001b[0m\n\u001b[0m\u001b[0;32m    263\u001b[0m             \u001b[0mself\u001b[0m\u001b[1;33m.\u001b[0m\u001b[0mupdate_user_ns\u001b[0m\u001b[1;33m(\u001b[0m\u001b[0mresult\u001b[0m\u001b[1;33m)\u001b[0m\u001b[1;33m\u001b[0m\u001b[1;33m\u001b[0m\u001b[0m\n\u001b[0;32m    264\u001b[0m             \u001b[0mself\u001b[0m\u001b[1;33m.\u001b[0m\u001b[0mfill_exec_result\u001b[0m\u001b[1;33m(\u001b[0m\u001b[0mresult\u001b[0m\u001b[1;33m)\u001b[0m\u001b[1;33m\u001b[0m\u001b[1;33m\u001b[0m\u001b[0m\n",
      "\u001b[1;32m~\\anaconda3\\lib\\site-packages\\IPython\\core\\displayhook.py\u001b[0m in \u001b[0;36mcompute_format_data\u001b[1;34m(self, result)\u001b[0m\n\u001b[0;32m    149\u001b[0m \u001b[1;33m\u001b[0m\u001b[0m\n\u001b[0;32m    150\u001b[0m         \"\"\"\n\u001b[1;32m--> 151\u001b[1;33m         \u001b[1;32mreturn\u001b[0m \u001b[0mself\u001b[0m\u001b[1;33m.\u001b[0m\u001b[0mshell\u001b[0m\u001b[1;33m.\u001b[0m\u001b[0mdisplay_formatter\u001b[0m\u001b[1;33m.\u001b[0m\u001b[0mformat\u001b[0m\u001b[1;33m(\u001b[0m\u001b[0mresult\u001b[0m\u001b[1;33m)\u001b[0m\u001b[1;33m\u001b[0m\u001b[1;33m\u001b[0m\u001b[0m\n\u001b[0m\u001b[0;32m    152\u001b[0m \u001b[1;33m\u001b[0m\u001b[0m\n\u001b[0;32m    153\u001b[0m     \u001b[1;31m# This can be set to True by the write_output_prompt method in a subclass\u001b[0m\u001b[1;33m\u001b[0m\u001b[1;33m\u001b[0m\u001b[1;33m\u001b[0m\u001b[0m\n",
      "\u001b[1;32m~\\anaconda3\\lib\\site-packages\\IPython\\core\\formatters.py\u001b[0m in \u001b[0;36mformat\u001b[1;34m(self, obj, include, exclude)\u001b[0m\n\u001b[0;32m    178\u001b[0m             \u001b[0mmd\u001b[0m \u001b[1;33m=\u001b[0m \u001b[1;32mNone\u001b[0m\u001b[1;33m\u001b[0m\u001b[1;33m\u001b[0m\u001b[0m\n\u001b[0;32m    179\u001b[0m             \u001b[1;32mtry\u001b[0m\u001b[1;33m:\u001b[0m\u001b[1;33m\u001b[0m\u001b[1;33m\u001b[0m\u001b[0m\n\u001b[1;32m--> 180\u001b[1;33m                 \u001b[0mdata\u001b[0m \u001b[1;33m=\u001b[0m \u001b[0mformatter\u001b[0m\u001b[1;33m(\u001b[0m\u001b[0mobj\u001b[0m\u001b[1;33m)\u001b[0m\u001b[1;33m\u001b[0m\u001b[1;33m\u001b[0m\u001b[0m\n\u001b[0m\u001b[0;32m    181\u001b[0m             \u001b[1;32mexcept\u001b[0m\u001b[1;33m:\u001b[0m\u001b[1;33m\u001b[0m\u001b[1;33m\u001b[0m\u001b[0m\n\u001b[0;32m    182\u001b[0m                 \u001b[1;31m# FIXME: log the exception\u001b[0m\u001b[1;33m\u001b[0m\u001b[1;33m\u001b[0m\u001b[1;33m\u001b[0m\u001b[0m\n",
      "\u001b[1;32m~\\anaconda3\\lib\\site-packages\\decorator.py\u001b[0m in \u001b[0;36mfun\u001b[1;34m(*args, **kw)\u001b[0m\n\u001b[0;32m    229\u001b[0m             \u001b[1;32mif\u001b[0m \u001b[1;32mnot\u001b[0m \u001b[0mkwsyntax\u001b[0m\u001b[1;33m:\u001b[0m\u001b[1;33m\u001b[0m\u001b[1;33m\u001b[0m\u001b[0m\n\u001b[0;32m    230\u001b[0m                 \u001b[0margs\u001b[0m\u001b[1;33m,\u001b[0m \u001b[0mkw\u001b[0m \u001b[1;33m=\u001b[0m \u001b[0mfix\u001b[0m\u001b[1;33m(\u001b[0m\u001b[0margs\u001b[0m\u001b[1;33m,\u001b[0m \u001b[0mkw\u001b[0m\u001b[1;33m,\u001b[0m \u001b[0msig\u001b[0m\u001b[1;33m)\u001b[0m\u001b[1;33m\u001b[0m\u001b[1;33m\u001b[0m\u001b[0m\n\u001b[1;32m--> 231\u001b[1;33m             \u001b[1;32mreturn\u001b[0m \u001b[0mcaller\u001b[0m\u001b[1;33m(\u001b[0m\u001b[0mfunc\u001b[0m\u001b[1;33m,\u001b[0m \u001b[1;33m*\u001b[0m\u001b[1;33m(\u001b[0m\u001b[0mextras\u001b[0m \u001b[1;33m+\u001b[0m \u001b[0margs\u001b[0m\u001b[1;33m)\u001b[0m\u001b[1;33m,\u001b[0m \u001b[1;33m**\u001b[0m\u001b[0mkw\u001b[0m\u001b[1;33m)\u001b[0m\u001b[1;33m\u001b[0m\u001b[1;33m\u001b[0m\u001b[0m\n\u001b[0m\u001b[0;32m    232\u001b[0m     \u001b[0mfun\u001b[0m\u001b[1;33m.\u001b[0m\u001b[0m__name__\u001b[0m \u001b[1;33m=\u001b[0m \u001b[0mfunc\u001b[0m\u001b[1;33m.\u001b[0m\u001b[0m__name__\u001b[0m\u001b[1;33m\u001b[0m\u001b[1;33m\u001b[0m\u001b[0m\n\u001b[0;32m    233\u001b[0m     \u001b[0mfun\u001b[0m\u001b[1;33m.\u001b[0m\u001b[0m__doc__\u001b[0m \u001b[1;33m=\u001b[0m \u001b[0mfunc\u001b[0m\u001b[1;33m.\u001b[0m\u001b[0m__doc__\u001b[0m\u001b[1;33m\u001b[0m\u001b[1;33m\u001b[0m\u001b[0m\n",
      "\u001b[1;32m~\\anaconda3\\lib\\site-packages\\IPython\\core\\formatters.py\u001b[0m in \u001b[0;36mcatch_format_error\u001b[1;34m(method, self, *args, **kwargs)\u001b[0m\n\u001b[0;32m    222\u001b[0m     \u001b[1;34m\"\"\"show traceback on failed format call\"\"\"\u001b[0m\u001b[1;33m\u001b[0m\u001b[1;33m\u001b[0m\u001b[0m\n\u001b[0;32m    223\u001b[0m     \u001b[1;32mtry\u001b[0m\u001b[1;33m:\u001b[0m\u001b[1;33m\u001b[0m\u001b[1;33m\u001b[0m\u001b[0m\n\u001b[1;32m--> 224\u001b[1;33m         \u001b[0mr\u001b[0m \u001b[1;33m=\u001b[0m \u001b[0mmethod\u001b[0m\u001b[1;33m(\u001b[0m\u001b[0mself\u001b[0m\u001b[1;33m,\u001b[0m \u001b[1;33m*\u001b[0m\u001b[0margs\u001b[0m\u001b[1;33m,\u001b[0m \u001b[1;33m**\u001b[0m\u001b[0mkwargs\u001b[0m\u001b[1;33m)\u001b[0m\u001b[1;33m\u001b[0m\u001b[1;33m\u001b[0m\u001b[0m\n\u001b[0m\u001b[0;32m    225\u001b[0m     \u001b[1;32mexcept\u001b[0m \u001b[0mNotImplementedError\u001b[0m\u001b[1;33m:\u001b[0m\u001b[1;33m\u001b[0m\u001b[1;33m\u001b[0m\u001b[0m\n\u001b[0;32m    226\u001b[0m         \u001b[1;31m# don't warn on NotImplementedErrors\u001b[0m\u001b[1;33m\u001b[0m\u001b[1;33m\u001b[0m\u001b[1;33m\u001b[0m\u001b[0m\n",
      "\u001b[1;32m~\\anaconda3\\lib\\site-packages\\IPython\\core\\formatters.py\u001b[0m in \u001b[0;36m__call__\u001b[1;34m(self, obj)\u001b[0m\n\u001b[0;32m    343\u001b[0m             \u001b[0mmethod\u001b[0m \u001b[1;33m=\u001b[0m \u001b[0mget_real_method\u001b[0m\u001b[1;33m(\u001b[0m\u001b[0mobj\u001b[0m\u001b[1;33m,\u001b[0m \u001b[0mself\u001b[0m\u001b[1;33m.\u001b[0m\u001b[0mprint_method\u001b[0m\u001b[1;33m)\u001b[0m\u001b[1;33m\u001b[0m\u001b[1;33m\u001b[0m\u001b[0m\n\u001b[0;32m    344\u001b[0m             \u001b[1;32mif\u001b[0m \u001b[0mmethod\u001b[0m \u001b[1;32mis\u001b[0m \u001b[1;32mnot\u001b[0m \u001b[1;32mNone\u001b[0m\u001b[1;33m:\u001b[0m\u001b[1;33m\u001b[0m\u001b[1;33m\u001b[0m\u001b[0m\n\u001b[1;32m--> 345\u001b[1;33m                 \u001b[1;32mreturn\u001b[0m \u001b[0mmethod\u001b[0m\u001b[1;33m(\u001b[0m\u001b[1;33m)\u001b[0m\u001b[1;33m\u001b[0m\u001b[1;33m\u001b[0m\u001b[0m\n\u001b[0m\u001b[0;32m    346\u001b[0m             \u001b[1;32mreturn\u001b[0m \u001b[1;32mNone\u001b[0m\u001b[1;33m\u001b[0m\u001b[1;33m\u001b[0m\u001b[0m\n\u001b[0;32m    347\u001b[0m         \u001b[1;32melse\u001b[0m\u001b[1;33m:\u001b[0m\u001b[1;33m\u001b[0m\u001b[1;33m\u001b[0m\u001b[0m\n",
      "\u001b[1;32m~\\anaconda3\\lib\\site-packages\\pandas\\core\\frame.py\u001b[0m in \u001b[0;36m_repr_html_\u001b[1;34m(self)\u001b[0m\n\u001b[0;32m    853\u001b[0m                 \u001b[0mdecimal\u001b[0m\u001b[1;33m=\u001b[0m\u001b[1;34m\".\"\u001b[0m\u001b[1;33m,\u001b[0m\u001b[1;33m\u001b[0m\u001b[1;33m\u001b[0m\u001b[0m\n\u001b[0;32m    854\u001b[0m             )\n\u001b[1;32m--> 855\u001b[1;33m             \u001b[1;32mreturn\u001b[0m \u001b[0mfmt\u001b[0m\u001b[1;33m.\u001b[0m\u001b[0mDataFrameRenderer\u001b[0m\u001b[1;33m(\u001b[0m\u001b[0mformatter\u001b[0m\u001b[1;33m)\u001b[0m\u001b[1;33m.\u001b[0m\u001b[0mto_html\u001b[0m\u001b[1;33m(\u001b[0m\u001b[0mnotebook\u001b[0m\u001b[1;33m=\u001b[0m\u001b[1;32mTrue\u001b[0m\u001b[1;33m)\u001b[0m\u001b[1;33m\u001b[0m\u001b[1;33m\u001b[0m\u001b[0m\n\u001b[0m\u001b[0;32m    856\u001b[0m         \u001b[1;32melse\u001b[0m\u001b[1;33m:\u001b[0m\u001b[1;33m\u001b[0m\u001b[1;33m\u001b[0m\u001b[0m\n\u001b[0;32m    857\u001b[0m             \u001b[1;32mreturn\u001b[0m \u001b[1;32mNone\u001b[0m\u001b[1;33m\u001b[0m\u001b[1;33m\u001b[0m\u001b[0m\n",
      "\u001b[1;32m~\\anaconda3\\lib\\site-packages\\pandas\\io\\formats\\format.py\u001b[0m in \u001b[0;36mto_html\u001b[1;34m(self, buf, encoding, classes, notebook, border, table_id, render_links)\u001b[0m\n\u001b[0;32m   1005\u001b[0m             \u001b[0mrender_links\u001b[0m\u001b[1;33m=\u001b[0m\u001b[0mrender_links\u001b[0m\u001b[1;33m,\u001b[0m\u001b[1;33m\u001b[0m\u001b[1;33m\u001b[0m\u001b[0m\n\u001b[0;32m   1006\u001b[0m         )\n\u001b[1;32m-> 1007\u001b[1;33m         \u001b[0mstring\u001b[0m \u001b[1;33m=\u001b[0m \u001b[0mhtml_formatter\u001b[0m\u001b[1;33m.\u001b[0m\u001b[0mto_string\u001b[0m\u001b[1;33m(\u001b[0m\u001b[1;33m)\u001b[0m\u001b[1;33m\u001b[0m\u001b[1;33m\u001b[0m\u001b[0m\n\u001b[0m\u001b[0;32m   1008\u001b[0m         \u001b[1;32mreturn\u001b[0m \u001b[0msave_to_buffer\u001b[0m\u001b[1;33m(\u001b[0m\u001b[0mstring\u001b[0m\u001b[1;33m,\u001b[0m \u001b[0mbuf\u001b[0m\u001b[1;33m=\u001b[0m\u001b[0mbuf\u001b[0m\u001b[1;33m,\u001b[0m \u001b[0mencoding\u001b[0m\u001b[1;33m=\u001b[0m\u001b[0mencoding\u001b[0m\u001b[1;33m)\u001b[0m\u001b[1;33m\u001b[0m\u001b[1;33m\u001b[0m\u001b[0m\n\u001b[0;32m   1009\u001b[0m \u001b[1;33m\u001b[0m\u001b[0m\n",
      "\u001b[1;32m~\\anaconda3\\lib\\site-packages\\pandas\\io\\formats\\html.py\u001b[0m in \u001b[0;36mto_string\u001b[1;34m(self)\u001b[0m\n\u001b[0;32m     58\u001b[0m \u001b[1;33m\u001b[0m\u001b[0m\n\u001b[0;32m     59\u001b[0m     \u001b[1;32mdef\u001b[0m \u001b[0mto_string\u001b[0m\u001b[1;33m(\u001b[0m\u001b[0mself\u001b[0m\u001b[1;33m)\u001b[0m \u001b[1;33m->\u001b[0m \u001b[0mstr\u001b[0m\u001b[1;33m:\u001b[0m\u001b[1;33m\u001b[0m\u001b[1;33m\u001b[0m\u001b[0m\n\u001b[1;32m---> 60\u001b[1;33m         \u001b[0mlines\u001b[0m \u001b[1;33m=\u001b[0m \u001b[0mself\u001b[0m\u001b[1;33m.\u001b[0m\u001b[0mrender\u001b[0m\u001b[1;33m(\u001b[0m\u001b[1;33m)\u001b[0m\u001b[1;33m\u001b[0m\u001b[1;33m\u001b[0m\u001b[0m\n\u001b[0m\u001b[0;32m     61\u001b[0m         \u001b[1;32mif\u001b[0m \u001b[0many\u001b[0m\u001b[1;33m(\u001b[0m\u001b[0misinstance\u001b[0m\u001b[1;33m(\u001b[0m\u001b[0mx\u001b[0m\u001b[1;33m,\u001b[0m \u001b[0mstr\u001b[0m\u001b[1;33m)\u001b[0m \u001b[1;32mfor\u001b[0m \u001b[0mx\u001b[0m \u001b[1;32min\u001b[0m \u001b[0mlines\u001b[0m\u001b[1;33m)\u001b[0m\u001b[1;33m:\u001b[0m\u001b[1;33m\u001b[0m\u001b[1;33m\u001b[0m\u001b[0m\n\u001b[0;32m     62\u001b[0m             \u001b[0mlines\u001b[0m \u001b[1;33m=\u001b[0m \u001b[1;33m[\u001b[0m\u001b[0mstr\u001b[0m\u001b[1;33m(\u001b[0m\u001b[0mx\u001b[0m\u001b[1;33m)\u001b[0m \u001b[1;32mfor\u001b[0m \u001b[0mx\u001b[0m \u001b[1;32min\u001b[0m \u001b[0mlines\u001b[0m\u001b[1;33m]\u001b[0m\u001b[1;33m\u001b[0m\u001b[1;33m\u001b[0m\u001b[0m\n",
      "\u001b[1;32m~\\anaconda3\\lib\\site-packages\\pandas\\io\\formats\\html.py\u001b[0m in \u001b[0;36mrender\u001b[1;34m(self)\u001b[0m\n\u001b[0;32m    606\u001b[0m         \u001b[0mself\u001b[0m\u001b[1;33m.\u001b[0m\u001b[0mwrite\u001b[0m\u001b[1;33m(\u001b[0m\u001b[1;34m\"<div>\"\u001b[0m\u001b[1;33m)\u001b[0m\u001b[1;33m\u001b[0m\u001b[1;33m\u001b[0m\u001b[0m\n\u001b[0;32m    607\u001b[0m         \u001b[0mself\u001b[0m\u001b[1;33m.\u001b[0m\u001b[0mwrite_style\u001b[0m\u001b[1;33m(\u001b[0m\u001b[1;33m)\u001b[0m\u001b[1;33m\u001b[0m\u001b[1;33m\u001b[0m\u001b[0m\n\u001b[1;32m--> 608\u001b[1;33m         \u001b[0msuper\u001b[0m\u001b[1;33m(\u001b[0m\u001b[1;33m)\u001b[0m\u001b[1;33m.\u001b[0m\u001b[0mrender\u001b[0m\u001b[1;33m(\u001b[0m\u001b[1;33m)\u001b[0m\u001b[1;33m\u001b[0m\u001b[1;33m\u001b[0m\u001b[0m\n\u001b[0m\u001b[0;32m    609\u001b[0m         \u001b[0mself\u001b[0m\u001b[1;33m.\u001b[0m\u001b[0mwrite\u001b[0m\u001b[1;33m(\u001b[0m\u001b[1;34m\"</div>\"\u001b[0m\u001b[1;33m)\u001b[0m\u001b[1;33m\u001b[0m\u001b[1;33m\u001b[0m\u001b[0m\n\u001b[0;32m    610\u001b[0m         \u001b[1;32mreturn\u001b[0m \u001b[0mself\u001b[0m\u001b[1;33m.\u001b[0m\u001b[0melements\u001b[0m\u001b[1;33m\u001b[0m\u001b[1;33m\u001b[0m\u001b[0m\n",
      "\u001b[1;32m~\\anaconda3\\lib\\site-packages\\pandas\\io\\formats\\html.py\u001b[0m in \u001b[0;36mrender\u001b[1;34m(self)\u001b[0m\n\u001b[0;32m     64\u001b[0m \u001b[1;33m\u001b[0m\u001b[0m\n\u001b[0;32m     65\u001b[0m     \u001b[1;32mdef\u001b[0m \u001b[0mrender\u001b[0m\u001b[1;33m(\u001b[0m\u001b[0mself\u001b[0m\u001b[1;33m)\u001b[0m \u001b[1;33m->\u001b[0m \u001b[0mList\u001b[0m\u001b[1;33m[\u001b[0m\u001b[0mstr\u001b[0m\u001b[1;33m]\u001b[0m\u001b[1;33m:\u001b[0m\u001b[1;33m\u001b[0m\u001b[1;33m\u001b[0m\u001b[0m\n\u001b[1;32m---> 66\u001b[1;33m         \u001b[0mself\u001b[0m\u001b[1;33m.\u001b[0m\u001b[0m_write_table\u001b[0m\u001b[1;33m(\u001b[0m\u001b[1;33m)\u001b[0m\u001b[1;33m\u001b[0m\u001b[1;33m\u001b[0m\u001b[0m\n\u001b[0m\u001b[0;32m     67\u001b[0m \u001b[1;33m\u001b[0m\u001b[0m\n\u001b[0;32m     68\u001b[0m         \u001b[1;32mif\u001b[0m \u001b[0mself\u001b[0m\u001b[1;33m.\u001b[0m\u001b[0mshould_show_dimensions\u001b[0m\u001b[1;33m:\u001b[0m\u001b[1;33m\u001b[0m\u001b[1;33m\u001b[0m\u001b[0m\n",
      "\u001b[1;32m~\\anaconda3\\lib\\site-packages\\pandas\\io\\formats\\html.py\u001b[0m in \u001b[0;36m_write_table\u001b[1;34m(self, indent)\u001b[0m\n\u001b[0;32m    234\u001b[0m             \u001b[0mself\u001b[0m\u001b[1;33m.\u001b[0m\u001b[0m_write_header\u001b[0m\u001b[1;33m(\u001b[0m\u001b[0mindent\u001b[0m \u001b[1;33m+\u001b[0m \u001b[0mself\u001b[0m\u001b[1;33m.\u001b[0m\u001b[0mindent_delta\u001b[0m\u001b[1;33m)\u001b[0m\u001b[1;33m\u001b[0m\u001b[1;33m\u001b[0m\u001b[0m\n\u001b[0;32m    235\u001b[0m \u001b[1;33m\u001b[0m\u001b[0m\n\u001b[1;32m--> 236\u001b[1;33m         \u001b[0mself\u001b[0m\u001b[1;33m.\u001b[0m\u001b[0m_write_body\u001b[0m\u001b[1;33m(\u001b[0m\u001b[0mindent\u001b[0m \u001b[1;33m+\u001b[0m \u001b[0mself\u001b[0m\u001b[1;33m.\u001b[0m\u001b[0mindent_delta\u001b[0m\u001b[1;33m)\u001b[0m\u001b[1;33m\u001b[0m\u001b[1;33m\u001b[0m\u001b[0m\n\u001b[0m\u001b[0;32m    237\u001b[0m \u001b[1;33m\u001b[0m\u001b[0m\n\u001b[0;32m    238\u001b[0m         \u001b[0mself\u001b[0m\u001b[1;33m.\u001b[0m\u001b[0mwrite\u001b[0m\u001b[1;33m(\u001b[0m\u001b[1;34m\"</table>\"\u001b[0m\u001b[1;33m,\u001b[0m \u001b[0mindent\u001b[0m\u001b[1;33m)\u001b[0m\u001b[1;33m\u001b[0m\u001b[1;33m\u001b[0m\u001b[0m\n",
      "\u001b[1;32m~\\anaconda3\\lib\\site-packages\\pandas\\io\\formats\\html.py\u001b[0m in \u001b[0;36m_write_body\u001b[1;34m(self, indent)\u001b[0m\n\u001b[0;32m    380\u001b[0m     \u001b[1;32mdef\u001b[0m \u001b[0m_write_body\u001b[0m\u001b[1;33m(\u001b[0m\u001b[0mself\u001b[0m\u001b[1;33m,\u001b[0m \u001b[0mindent\u001b[0m\u001b[1;33m:\u001b[0m \u001b[0mint\u001b[0m\u001b[1;33m)\u001b[0m \u001b[1;33m->\u001b[0m \u001b[1;32mNone\u001b[0m\u001b[1;33m:\u001b[0m\u001b[1;33m\u001b[0m\u001b[1;33m\u001b[0m\u001b[0m\n\u001b[0;32m    381\u001b[0m         \u001b[0mself\u001b[0m\u001b[1;33m.\u001b[0m\u001b[0mwrite\u001b[0m\u001b[1;33m(\u001b[0m\u001b[1;34m\"<tbody>\"\u001b[0m\u001b[1;33m,\u001b[0m \u001b[0mindent\u001b[0m\u001b[1;33m)\u001b[0m\u001b[1;33m\u001b[0m\u001b[1;33m\u001b[0m\u001b[0m\n\u001b[1;32m--> 382\u001b[1;33m         \u001b[0mfmt_values\u001b[0m \u001b[1;33m=\u001b[0m \u001b[0mself\u001b[0m\u001b[1;33m.\u001b[0m\u001b[0m_get_formatted_values\u001b[0m\u001b[1;33m(\u001b[0m\u001b[1;33m)\u001b[0m\u001b[1;33m\u001b[0m\u001b[1;33m\u001b[0m\u001b[0m\n\u001b[0m\u001b[0;32m    383\u001b[0m \u001b[1;33m\u001b[0m\u001b[0m\n\u001b[0;32m    384\u001b[0m         \u001b[1;31m# write values\u001b[0m\u001b[1;33m\u001b[0m\u001b[1;33m\u001b[0m\u001b[1;33m\u001b[0m\u001b[0m\n",
      "\u001b[1;32m~\\anaconda3\\lib\\site-packages\\pandas\\io\\formats\\html.py\u001b[0m in \u001b[0;36m_get_formatted_values\u001b[1;34m(self)\u001b[0m\n\u001b[0;32m    570\u001b[0m \u001b[1;33m\u001b[0m\u001b[0m\n\u001b[0;32m    571\u001b[0m     \u001b[1;32mdef\u001b[0m \u001b[0m_get_formatted_values\u001b[0m\u001b[1;33m(\u001b[0m\u001b[0mself\u001b[0m\u001b[1;33m)\u001b[0m \u001b[1;33m->\u001b[0m \u001b[0mDict\u001b[0m\u001b[1;33m[\u001b[0m\u001b[0mint\u001b[0m\u001b[1;33m,\u001b[0m \u001b[0mList\u001b[0m\u001b[1;33m[\u001b[0m\u001b[0mstr\u001b[0m\u001b[1;33m]\u001b[0m\u001b[1;33m]\u001b[0m\u001b[1;33m:\u001b[0m\u001b[1;33m\u001b[0m\u001b[1;33m\u001b[0m\u001b[0m\n\u001b[1;32m--> 572\u001b[1;33m         \u001b[1;32mreturn\u001b[0m \u001b[1;33m{\u001b[0m\u001b[0mi\u001b[0m\u001b[1;33m:\u001b[0m \u001b[0mself\u001b[0m\u001b[1;33m.\u001b[0m\u001b[0mfmt\u001b[0m\u001b[1;33m.\u001b[0m\u001b[0mformat_col\u001b[0m\u001b[1;33m(\u001b[0m\u001b[0mi\u001b[0m\u001b[1;33m)\u001b[0m \u001b[1;32mfor\u001b[0m \u001b[0mi\u001b[0m \u001b[1;32min\u001b[0m \u001b[0mrange\u001b[0m\u001b[1;33m(\u001b[0m\u001b[0mself\u001b[0m\u001b[1;33m.\u001b[0m\u001b[0mncols\u001b[0m\u001b[1;33m)\u001b[0m\u001b[1;33m}\u001b[0m\u001b[1;33m\u001b[0m\u001b[1;33m\u001b[0m\u001b[0m\n\u001b[0m\u001b[0;32m    573\u001b[0m \u001b[1;33m\u001b[0m\u001b[0m\n\u001b[0;32m    574\u001b[0m     \u001b[1;32mdef\u001b[0m \u001b[0m_get_columns_formatted_values\u001b[0m\u001b[1;33m(\u001b[0m\u001b[0mself\u001b[0m\u001b[1;33m)\u001b[0m \u001b[1;33m->\u001b[0m \u001b[0mList\u001b[0m\u001b[1;33m[\u001b[0m\u001b[0mstr\u001b[0m\u001b[1;33m]\u001b[0m\u001b[1;33m:\u001b[0m\u001b[1;33m\u001b[0m\u001b[1;33m\u001b[0m\u001b[0m\n",
      "\u001b[1;32m~\\anaconda3\\lib\\site-packages\\pandas\\io\\formats\\html.py\u001b[0m in \u001b[0;36m<dictcomp>\u001b[1;34m(.0)\u001b[0m\n\u001b[0;32m    570\u001b[0m \u001b[1;33m\u001b[0m\u001b[0m\n\u001b[0;32m    571\u001b[0m     \u001b[1;32mdef\u001b[0m \u001b[0m_get_formatted_values\u001b[0m\u001b[1;33m(\u001b[0m\u001b[0mself\u001b[0m\u001b[1;33m)\u001b[0m \u001b[1;33m->\u001b[0m \u001b[0mDict\u001b[0m\u001b[1;33m[\u001b[0m\u001b[0mint\u001b[0m\u001b[1;33m,\u001b[0m \u001b[0mList\u001b[0m\u001b[1;33m[\u001b[0m\u001b[0mstr\u001b[0m\u001b[1;33m]\u001b[0m\u001b[1;33m]\u001b[0m\u001b[1;33m:\u001b[0m\u001b[1;33m\u001b[0m\u001b[1;33m\u001b[0m\u001b[0m\n\u001b[1;32m--> 572\u001b[1;33m         \u001b[1;32mreturn\u001b[0m \u001b[1;33m{\u001b[0m\u001b[0mi\u001b[0m\u001b[1;33m:\u001b[0m \u001b[0mself\u001b[0m\u001b[1;33m.\u001b[0m\u001b[0mfmt\u001b[0m\u001b[1;33m.\u001b[0m\u001b[0mformat_col\u001b[0m\u001b[1;33m(\u001b[0m\u001b[0mi\u001b[0m\u001b[1;33m)\u001b[0m \u001b[1;32mfor\u001b[0m \u001b[0mi\u001b[0m \u001b[1;32min\u001b[0m \u001b[0mrange\u001b[0m\u001b[1;33m(\u001b[0m\u001b[0mself\u001b[0m\u001b[1;33m.\u001b[0m\u001b[0mncols\u001b[0m\u001b[1;33m)\u001b[0m\u001b[1;33m}\u001b[0m\u001b[1;33m\u001b[0m\u001b[1;33m\u001b[0m\u001b[0m\n\u001b[0m\u001b[0;32m    573\u001b[0m \u001b[1;33m\u001b[0m\u001b[0m\n\u001b[0;32m    574\u001b[0m     \u001b[1;32mdef\u001b[0m \u001b[0m_get_columns_formatted_values\u001b[0m\u001b[1;33m(\u001b[0m\u001b[0mself\u001b[0m\u001b[1;33m)\u001b[0m \u001b[1;33m->\u001b[0m \u001b[0mList\u001b[0m\u001b[1;33m[\u001b[0m\u001b[0mstr\u001b[0m\u001b[1;33m]\u001b[0m\u001b[1;33m:\u001b[0m\u001b[1;33m\u001b[0m\u001b[1;33m\u001b[0m\u001b[0m\n",
      "\u001b[1;32m~\\anaconda3\\lib\\site-packages\\pandas\\io\\formats\\format.py\u001b[0m in \u001b[0;36mformat_col\u001b[1;34m(self, i)\u001b[0m\n\u001b[0;32m    797\u001b[0m         \u001b[0mframe\u001b[0m \u001b[1;33m=\u001b[0m \u001b[0mself\u001b[0m\u001b[1;33m.\u001b[0m\u001b[0mtr_frame\u001b[0m\u001b[1;33m\u001b[0m\u001b[1;33m\u001b[0m\u001b[0m\n\u001b[0;32m    798\u001b[0m         \u001b[0mformatter\u001b[0m \u001b[1;33m=\u001b[0m \u001b[0mself\u001b[0m\u001b[1;33m.\u001b[0m\u001b[0m_get_formatter\u001b[0m\u001b[1;33m(\u001b[0m\u001b[0mi\u001b[0m\u001b[1;33m)\u001b[0m\u001b[1;33m\u001b[0m\u001b[1;33m\u001b[0m\u001b[0m\n\u001b[1;32m--> 799\u001b[1;33m         return format_array(\n\u001b[0m\u001b[0;32m    800\u001b[0m             \u001b[0mframe\u001b[0m\u001b[1;33m.\u001b[0m\u001b[0miloc\u001b[0m\u001b[1;33m[\u001b[0m\u001b[1;33m:\u001b[0m\u001b[1;33m,\u001b[0m \u001b[0mi\u001b[0m\u001b[1;33m]\u001b[0m\u001b[1;33m.\u001b[0m\u001b[0m_values\u001b[0m\u001b[1;33m,\u001b[0m\u001b[1;33m\u001b[0m\u001b[1;33m\u001b[0m\u001b[0m\n\u001b[0;32m    801\u001b[0m             \u001b[0mformatter\u001b[0m\u001b[1;33m,\u001b[0m\u001b[1;33m\u001b[0m\u001b[1;33m\u001b[0m\u001b[0m\n",
      "\u001b[1;32m~\\anaconda3\\lib\\site-packages\\pandas\\io\\formats\\format.py\u001b[0m in \u001b[0;36mformat_array\u001b[1;34m(values, formatter, float_format, na_rep, digits, space, justify, decimal, leading_space, quoting)\u001b[0m\n\u001b[0;32m   1216\u001b[0m     )\n\u001b[0;32m   1217\u001b[0m \u001b[1;33m\u001b[0m\u001b[0m\n\u001b[1;32m-> 1218\u001b[1;33m     \u001b[1;32mreturn\u001b[0m \u001b[0mfmt_obj\u001b[0m\u001b[1;33m.\u001b[0m\u001b[0mget_result\u001b[0m\u001b[1;33m(\u001b[0m\u001b[1;33m)\u001b[0m\u001b[1;33m\u001b[0m\u001b[1;33m\u001b[0m\u001b[0m\n\u001b[0m\u001b[0;32m   1219\u001b[0m \u001b[1;33m\u001b[0m\u001b[0m\n\u001b[0;32m   1220\u001b[0m \u001b[1;33m\u001b[0m\u001b[0m\n",
      "\u001b[1;32m~\\anaconda3\\lib\\site-packages\\pandas\\io\\formats\\format.py\u001b[0m in \u001b[0;36mget_result\u001b[1;34m(self)\u001b[0m\n\u001b[0;32m   1247\u001b[0m \u001b[1;33m\u001b[0m\u001b[0m\n\u001b[0;32m   1248\u001b[0m     \u001b[1;32mdef\u001b[0m \u001b[0mget_result\u001b[0m\u001b[1;33m(\u001b[0m\u001b[0mself\u001b[0m\u001b[1;33m)\u001b[0m \u001b[1;33m->\u001b[0m \u001b[0mList\u001b[0m\u001b[1;33m[\u001b[0m\u001b[0mstr\u001b[0m\u001b[1;33m]\u001b[0m\u001b[1;33m:\u001b[0m\u001b[1;33m\u001b[0m\u001b[1;33m\u001b[0m\u001b[0m\n\u001b[1;32m-> 1249\u001b[1;33m         \u001b[0mfmt_values\u001b[0m \u001b[1;33m=\u001b[0m \u001b[0mself\u001b[0m\u001b[1;33m.\u001b[0m\u001b[0m_format_strings\u001b[0m\u001b[1;33m(\u001b[0m\u001b[1;33m)\u001b[0m\u001b[1;33m\u001b[0m\u001b[1;33m\u001b[0m\u001b[0m\n\u001b[0m\u001b[0;32m   1250\u001b[0m         \u001b[1;32mreturn\u001b[0m \u001b[0m_make_fixed_width\u001b[0m\u001b[1;33m(\u001b[0m\u001b[0mfmt_values\u001b[0m\u001b[1;33m,\u001b[0m \u001b[0mself\u001b[0m\u001b[1;33m.\u001b[0m\u001b[0mjustify\u001b[0m\u001b[1;33m)\u001b[0m\u001b[1;33m\u001b[0m\u001b[1;33m\u001b[0m\u001b[0m\n\u001b[0;32m   1251\u001b[0m \u001b[1;33m\u001b[0m\u001b[0m\n",
      "\u001b[1;32m~\\anaconda3\\lib\\site-packages\\pandas\\io\\formats\\format.py\u001b[0m in \u001b[0;36m_format_strings\u001b[1;34m(self)\u001b[0m\n\u001b[0;32m   1306\u001b[0m         \u001b[1;32mfor\u001b[0m \u001b[0mi\u001b[0m\u001b[1;33m,\u001b[0m \u001b[0mv\u001b[0m \u001b[1;32min\u001b[0m \u001b[0menumerate\u001b[0m\u001b[1;33m(\u001b[0m\u001b[0mvals\u001b[0m\u001b[1;33m)\u001b[0m\u001b[1;33m:\u001b[0m\u001b[1;33m\u001b[0m\u001b[1;33m\u001b[0m\u001b[0m\n\u001b[0;32m   1307\u001b[0m             \u001b[1;32mif\u001b[0m \u001b[1;32mnot\u001b[0m \u001b[0mis_float_type\u001b[0m\u001b[1;33m[\u001b[0m\u001b[0mi\u001b[0m\u001b[1;33m]\u001b[0m \u001b[1;32mand\u001b[0m \u001b[0mleading_space\u001b[0m\u001b[1;33m:\u001b[0m\u001b[1;33m\u001b[0m\u001b[1;33m\u001b[0m\u001b[0m\n\u001b[1;32m-> 1308\u001b[1;33m                 \u001b[0mfmt_values\u001b[0m\u001b[1;33m.\u001b[0m\u001b[0mappend\u001b[0m\u001b[1;33m(\u001b[0m\u001b[1;34mf\" {_format(v)}\"\u001b[0m\u001b[1;33m)\u001b[0m\u001b[1;33m\u001b[0m\u001b[1;33m\u001b[0m\u001b[0m\n\u001b[0m\u001b[0;32m   1309\u001b[0m             \u001b[1;32melif\u001b[0m \u001b[0mis_float_type\u001b[0m\u001b[1;33m[\u001b[0m\u001b[0mi\u001b[0m\u001b[1;33m]\u001b[0m\u001b[1;33m:\u001b[0m\u001b[1;33m\u001b[0m\u001b[1;33m\u001b[0m\u001b[0m\n\u001b[0;32m   1310\u001b[0m                 \u001b[0mfmt_values\u001b[0m\u001b[1;33m.\u001b[0m\u001b[0mappend\u001b[0m\u001b[1;33m(\u001b[0m\u001b[0mfloat_format\u001b[0m\u001b[1;33m(\u001b[0m\u001b[0mv\u001b[0m\u001b[1;33m)\u001b[0m\u001b[1;33m)\u001b[0m\u001b[1;33m\u001b[0m\u001b[1;33m\u001b[0m\u001b[0m\n",
      "\u001b[1;32m~\\anaconda3\\lib\\site-packages\\pandas\\io\\formats\\format.py\u001b[0m in \u001b[0;36m_format\u001b[1;34m(x)\u001b[0m\n\u001b[0;32m   1290\u001b[0m             \u001b[1;32melse\u001b[0m\u001b[1;33m:\u001b[0m\u001b[1;33m\u001b[0m\u001b[1;33m\u001b[0m\u001b[0m\n\u001b[0;32m   1291\u001b[0m                 \u001b[1;31m# object dtype\u001b[0m\u001b[1;33m\u001b[0m\u001b[1;33m\u001b[0m\u001b[1;33m\u001b[0m\u001b[0m\n\u001b[1;32m-> 1292\u001b[1;33m                 \u001b[1;32mreturn\u001b[0m \u001b[0mstr\u001b[0m\u001b[1;33m(\u001b[0m\u001b[0mformatter\u001b[0m\u001b[1;33m(\u001b[0m\u001b[0mx\u001b[0m\u001b[1;33m)\u001b[0m\u001b[1;33m)\u001b[0m\u001b[1;33m\u001b[0m\u001b[1;33m\u001b[0m\u001b[0m\n\u001b[0m\u001b[0;32m   1293\u001b[0m \u001b[1;33m\u001b[0m\u001b[0m\n\u001b[0;32m   1294\u001b[0m         \u001b[0mvals\u001b[0m \u001b[1;33m=\u001b[0m \u001b[0mextract_array\u001b[0m\u001b[1;33m(\u001b[0m\u001b[0mself\u001b[0m\u001b[1;33m.\u001b[0m\u001b[0mvalues\u001b[0m\u001b[1;33m,\u001b[0m \u001b[0mextract_numpy\u001b[0m\u001b[1;33m=\u001b[0m\u001b[1;32mTrue\u001b[0m\u001b[1;33m)\u001b[0m\u001b[1;33m\u001b[0m\u001b[1;33m\u001b[0m\u001b[0m\n",
      "\u001b[1;32m~\\anaconda3\\lib\\site-packages\\pandas\\io\\formats\\printing.py\u001b[0m in \u001b[0;36mpprint_thing\u001b[1;34m(thing, _nest_lvl, escape_chars, default_escapes, quote_strings, max_seq_items)\u001b[0m\n\u001b[0;32m    223\u001b[0m         )\n\u001b[0;32m    224\u001b[0m     \u001b[1;32melif\u001b[0m \u001b[0mis_sequence\u001b[0m\u001b[1;33m(\u001b[0m\u001b[0mthing\u001b[0m\u001b[1;33m)\u001b[0m \u001b[1;32mand\u001b[0m \u001b[0m_nest_lvl\u001b[0m \u001b[1;33m<\u001b[0m \u001b[0mget_option\u001b[0m\u001b[1;33m(\u001b[0m\u001b[1;34m\"display.pprint_nest_depth\"\u001b[0m\u001b[1;33m)\u001b[0m\u001b[1;33m:\u001b[0m\u001b[1;33m\u001b[0m\u001b[1;33m\u001b[0m\u001b[0m\n\u001b[1;32m--> 225\u001b[1;33m         result = _pprint_seq(\n\u001b[0m\u001b[0;32m    226\u001b[0m             \u001b[0mthing\u001b[0m\u001b[1;33m,\u001b[0m\u001b[1;33m\u001b[0m\u001b[1;33m\u001b[0m\u001b[0m\n\u001b[0;32m    227\u001b[0m             \u001b[0m_nest_lvl\u001b[0m\u001b[1;33m,\u001b[0m\u001b[1;33m\u001b[0m\u001b[1;33m\u001b[0m\u001b[0m\n",
      "\u001b[1;32m~\\anaconda3\\lib\\site-packages\\pandas\\io\\formats\\printing.py\u001b[0m in \u001b[0;36m_pprint_seq\u001b[1;34m(seq, _nest_lvl, max_seq_items, **kwds)\u001b[0m\n\u001b[0;32m    120\u001b[0m     \u001b[0ms\u001b[0m \u001b[1;33m=\u001b[0m \u001b[0miter\u001b[0m\u001b[1;33m(\u001b[0m\u001b[0mseq\u001b[0m\u001b[1;33m)\u001b[0m\u001b[1;33m\u001b[0m\u001b[1;33m\u001b[0m\u001b[0m\n\u001b[0;32m    121\u001b[0m     \u001b[1;31m# handle sets, no slicing\u001b[0m\u001b[1;33m\u001b[0m\u001b[1;33m\u001b[0m\u001b[1;33m\u001b[0m\u001b[0m\n\u001b[1;32m--> 122\u001b[1;33m     r = [\n\u001b[0m\u001b[0;32m    123\u001b[0m         \u001b[0mpprint_thing\u001b[0m\u001b[1;33m(\u001b[0m\u001b[0mnext\u001b[0m\u001b[1;33m(\u001b[0m\u001b[0ms\u001b[0m\u001b[1;33m)\u001b[0m\u001b[1;33m,\u001b[0m \u001b[0m_nest_lvl\u001b[0m \u001b[1;33m+\u001b[0m \u001b[1;36m1\u001b[0m\u001b[1;33m,\u001b[0m \u001b[0mmax_seq_items\u001b[0m\u001b[1;33m=\u001b[0m\u001b[0mmax_seq_items\u001b[0m\u001b[1;33m,\u001b[0m \u001b[1;33m**\u001b[0m\u001b[0mkwds\u001b[0m\u001b[1;33m)\u001b[0m\u001b[1;33m\u001b[0m\u001b[1;33m\u001b[0m\u001b[0m\n\u001b[0;32m    124\u001b[0m         \u001b[1;32mfor\u001b[0m \u001b[0mi\u001b[0m \u001b[1;32min\u001b[0m \u001b[0mrange\u001b[0m\u001b[1;33m(\u001b[0m\u001b[0mmin\u001b[0m\u001b[1;33m(\u001b[0m\u001b[0mnitems\u001b[0m\u001b[1;33m,\u001b[0m \u001b[0mlen\u001b[0m\u001b[1;33m(\u001b[0m\u001b[0mseq\u001b[0m\u001b[1;33m)\u001b[0m\u001b[1;33m)\u001b[0m\u001b[1;33m)\u001b[0m\u001b[1;33m\u001b[0m\u001b[1;33m\u001b[0m\u001b[0m\n",
      "\u001b[1;32m~\\anaconda3\\lib\\site-packages\\pandas\\io\\formats\\printing.py\u001b[0m in \u001b[0;36m<listcomp>\u001b[1;34m(.0)\u001b[0m\n\u001b[0;32m    121\u001b[0m     \u001b[1;31m# handle sets, no slicing\u001b[0m\u001b[1;33m\u001b[0m\u001b[1;33m\u001b[0m\u001b[1;33m\u001b[0m\u001b[0m\n\u001b[0;32m    122\u001b[0m     r = [\n\u001b[1;32m--> 123\u001b[1;33m         \u001b[0mpprint_thing\u001b[0m\u001b[1;33m(\u001b[0m\u001b[0mnext\u001b[0m\u001b[1;33m(\u001b[0m\u001b[0ms\u001b[0m\u001b[1;33m)\u001b[0m\u001b[1;33m,\u001b[0m \u001b[0m_nest_lvl\u001b[0m \u001b[1;33m+\u001b[0m \u001b[1;36m1\u001b[0m\u001b[1;33m,\u001b[0m \u001b[0mmax_seq_items\u001b[0m\u001b[1;33m=\u001b[0m\u001b[0mmax_seq_items\u001b[0m\u001b[1;33m,\u001b[0m \u001b[1;33m**\u001b[0m\u001b[0mkwds\u001b[0m\u001b[1;33m)\u001b[0m\u001b[1;33m\u001b[0m\u001b[1;33m\u001b[0m\u001b[0m\n\u001b[0m\u001b[0;32m    124\u001b[0m         \u001b[1;32mfor\u001b[0m \u001b[0mi\u001b[0m \u001b[1;32min\u001b[0m \u001b[0mrange\u001b[0m\u001b[1;33m(\u001b[0m\u001b[0mmin\u001b[0m\u001b[1;33m(\u001b[0m\u001b[0mnitems\u001b[0m\u001b[1;33m,\u001b[0m \u001b[0mlen\u001b[0m\u001b[1;33m(\u001b[0m\u001b[0mseq\u001b[0m\u001b[1;33m)\u001b[0m\u001b[1;33m)\u001b[0m\u001b[1;33m)\u001b[0m\u001b[1;33m\u001b[0m\u001b[1;33m\u001b[0m\u001b[0m\n\u001b[0;32m    125\u001b[0m     ]\n",
      "\u001b[1;32m~\\anaconda3\\lib\\site-packages\\pandas\\io\\formats\\printing.py\u001b[0m in \u001b[0;36mpprint_thing\u001b[1;34m(thing, _nest_lvl, escape_chars, default_escapes, quote_strings, max_seq_items)\u001b[0m\n\u001b[0;32m    223\u001b[0m         )\n\u001b[0;32m    224\u001b[0m     \u001b[1;32melif\u001b[0m \u001b[0mis_sequence\u001b[0m\u001b[1;33m(\u001b[0m\u001b[0mthing\u001b[0m\u001b[1;33m)\u001b[0m \u001b[1;32mand\u001b[0m \u001b[0m_nest_lvl\u001b[0m \u001b[1;33m<\u001b[0m \u001b[0mget_option\u001b[0m\u001b[1;33m(\u001b[0m\u001b[1;34m\"display.pprint_nest_depth\"\u001b[0m\u001b[1;33m)\u001b[0m\u001b[1;33m:\u001b[0m\u001b[1;33m\u001b[0m\u001b[1;33m\u001b[0m\u001b[0m\n\u001b[1;32m--> 225\u001b[1;33m         result = _pprint_seq(\n\u001b[0m\u001b[0;32m    226\u001b[0m             \u001b[0mthing\u001b[0m\u001b[1;33m,\u001b[0m\u001b[1;33m\u001b[0m\u001b[1;33m\u001b[0m\u001b[0m\n\u001b[0;32m    227\u001b[0m             \u001b[0m_nest_lvl\u001b[0m\u001b[1;33m,\u001b[0m\u001b[1;33m\u001b[0m\u001b[1;33m\u001b[0m\u001b[0m\n",
      "\u001b[1;32m~\\anaconda3\\lib\\site-packages\\pandas\\io\\formats\\printing.py\u001b[0m in \u001b[0;36m_pprint_seq\u001b[1;34m(seq, _nest_lvl, max_seq_items, **kwds)\u001b[0m\n\u001b[0;32m    120\u001b[0m     \u001b[0ms\u001b[0m \u001b[1;33m=\u001b[0m \u001b[0miter\u001b[0m\u001b[1;33m(\u001b[0m\u001b[0mseq\u001b[0m\u001b[1;33m)\u001b[0m\u001b[1;33m\u001b[0m\u001b[1;33m\u001b[0m\u001b[0m\n\u001b[0;32m    121\u001b[0m     \u001b[1;31m# handle sets, no slicing\u001b[0m\u001b[1;33m\u001b[0m\u001b[1;33m\u001b[0m\u001b[1;33m\u001b[0m\u001b[0m\n\u001b[1;32m--> 122\u001b[1;33m     r = [\n\u001b[0m\u001b[0;32m    123\u001b[0m         \u001b[0mpprint_thing\u001b[0m\u001b[1;33m(\u001b[0m\u001b[0mnext\u001b[0m\u001b[1;33m(\u001b[0m\u001b[0ms\u001b[0m\u001b[1;33m)\u001b[0m\u001b[1;33m,\u001b[0m \u001b[0m_nest_lvl\u001b[0m \u001b[1;33m+\u001b[0m \u001b[1;36m1\u001b[0m\u001b[1;33m,\u001b[0m \u001b[0mmax_seq_items\u001b[0m\u001b[1;33m=\u001b[0m\u001b[0mmax_seq_items\u001b[0m\u001b[1;33m,\u001b[0m \u001b[1;33m**\u001b[0m\u001b[0mkwds\u001b[0m\u001b[1;33m)\u001b[0m\u001b[1;33m\u001b[0m\u001b[1;33m\u001b[0m\u001b[0m\n\u001b[0;32m    124\u001b[0m         \u001b[1;32mfor\u001b[0m \u001b[0mi\u001b[0m \u001b[1;32min\u001b[0m \u001b[0mrange\u001b[0m\u001b[1;33m(\u001b[0m\u001b[0mmin\u001b[0m\u001b[1;33m(\u001b[0m\u001b[0mnitems\u001b[0m\u001b[1;33m,\u001b[0m \u001b[0mlen\u001b[0m\u001b[1;33m(\u001b[0m\u001b[0mseq\u001b[0m\u001b[1;33m)\u001b[0m\u001b[1;33m)\u001b[0m\u001b[1;33m)\u001b[0m\u001b[1;33m\u001b[0m\u001b[1;33m\u001b[0m\u001b[0m\n",
      "\u001b[1;32m~\\anaconda3\\lib\\site-packages\\pandas\\io\\formats\\printing.py\u001b[0m in \u001b[0;36m<listcomp>\u001b[1;34m(.0)\u001b[0m\n\u001b[0;32m    121\u001b[0m     \u001b[1;31m# handle sets, no slicing\u001b[0m\u001b[1;33m\u001b[0m\u001b[1;33m\u001b[0m\u001b[1;33m\u001b[0m\u001b[0m\n\u001b[0;32m    122\u001b[0m     r = [\n\u001b[1;32m--> 123\u001b[1;33m         \u001b[0mpprint_thing\u001b[0m\u001b[1;33m(\u001b[0m\u001b[0mnext\u001b[0m\u001b[1;33m(\u001b[0m\u001b[0ms\u001b[0m\u001b[1;33m)\u001b[0m\u001b[1;33m,\u001b[0m \u001b[0m_nest_lvl\u001b[0m \u001b[1;33m+\u001b[0m \u001b[1;36m1\u001b[0m\u001b[1;33m,\u001b[0m \u001b[0mmax_seq_items\u001b[0m\u001b[1;33m=\u001b[0m\u001b[0mmax_seq_items\u001b[0m\u001b[1;33m,\u001b[0m \u001b[1;33m**\u001b[0m\u001b[0mkwds\u001b[0m\u001b[1;33m)\u001b[0m\u001b[1;33m\u001b[0m\u001b[1;33m\u001b[0m\u001b[0m\n\u001b[0m\u001b[0;32m    124\u001b[0m         \u001b[1;32mfor\u001b[0m \u001b[0mi\u001b[0m \u001b[1;32min\u001b[0m \u001b[0mrange\u001b[0m\u001b[1;33m(\u001b[0m\u001b[0mmin\u001b[0m\u001b[1;33m(\u001b[0m\u001b[0mnitems\u001b[0m\u001b[1;33m,\u001b[0m \u001b[0mlen\u001b[0m\u001b[1;33m(\u001b[0m\u001b[0mseq\u001b[0m\u001b[1;33m)\u001b[0m\u001b[1;33m)\u001b[0m\u001b[1;33m)\u001b[0m\u001b[1;33m\u001b[0m\u001b[1;33m\u001b[0m\u001b[0m\n\u001b[0;32m    125\u001b[0m     ]\n",
      "\u001b[1;32m~\\anaconda3\\lib\\site-packages\\pandas\\io\\formats\\printing.py\u001b[0m in \u001b[0;36mpprint_thing\u001b[1;34m(thing, _nest_lvl, escape_chars, default_escapes, quote_strings, max_seq_items)\u001b[0m\n\u001b[0;32m    223\u001b[0m         )\n\u001b[0;32m    224\u001b[0m     \u001b[1;32melif\u001b[0m \u001b[0mis_sequence\u001b[0m\u001b[1;33m(\u001b[0m\u001b[0mthing\u001b[0m\u001b[1;33m)\u001b[0m \u001b[1;32mand\u001b[0m \u001b[0m_nest_lvl\u001b[0m \u001b[1;33m<\u001b[0m \u001b[0mget_option\u001b[0m\u001b[1;33m(\u001b[0m\u001b[1;34m\"display.pprint_nest_depth\"\u001b[0m\u001b[1;33m)\u001b[0m\u001b[1;33m:\u001b[0m\u001b[1;33m\u001b[0m\u001b[1;33m\u001b[0m\u001b[0m\n\u001b[1;32m--> 225\u001b[1;33m         result = _pprint_seq(\n\u001b[0m\u001b[0;32m    226\u001b[0m             \u001b[0mthing\u001b[0m\u001b[1;33m,\u001b[0m\u001b[1;33m\u001b[0m\u001b[1;33m\u001b[0m\u001b[0m\n\u001b[0;32m    227\u001b[0m             \u001b[0m_nest_lvl\u001b[0m\u001b[1;33m,\u001b[0m\u001b[1;33m\u001b[0m\u001b[1;33m\u001b[0m\u001b[0m\n",
      "\u001b[1;32m~\\anaconda3\\lib\\site-packages\\pandas\\io\\formats\\printing.py\u001b[0m in \u001b[0;36m_pprint_seq\u001b[1;34m(seq, _nest_lvl, max_seq_items, **kwds)\u001b[0m\n\u001b[0;32m    120\u001b[0m     \u001b[0ms\u001b[0m \u001b[1;33m=\u001b[0m \u001b[0miter\u001b[0m\u001b[1;33m(\u001b[0m\u001b[0mseq\u001b[0m\u001b[1;33m)\u001b[0m\u001b[1;33m\u001b[0m\u001b[1;33m\u001b[0m\u001b[0m\n\u001b[0;32m    121\u001b[0m     \u001b[1;31m# handle sets, no slicing\u001b[0m\u001b[1;33m\u001b[0m\u001b[1;33m\u001b[0m\u001b[1;33m\u001b[0m\u001b[0m\n\u001b[1;32m--> 122\u001b[1;33m     r = [\n\u001b[0m\u001b[0;32m    123\u001b[0m         \u001b[0mpprint_thing\u001b[0m\u001b[1;33m(\u001b[0m\u001b[0mnext\u001b[0m\u001b[1;33m(\u001b[0m\u001b[0ms\u001b[0m\u001b[1;33m)\u001b[0m\u001b[1;33m,\u001b[0m \u001b[0m_nest_lvl\u001b[0m \u001b[1;33m+\u001b[0m \u001b[1;36m1\u001b[0m\u001b[1;33m,\u001b[0m \u001b[0mmax_seq_items\u001b[0m\u001b[1;33m=\u001b[0m\u001b[0mmax_seq_items\u001b[0m\u001b[1;33m,\u001b[0m \u001b[1;33m**\u001b[0m\u001b[0mkwds\u001b[0m\u001b[1;33m)\u001b[0m\u001b[1;33m\u001b[0m\u001b[1;33m\u001b[0m\u001b[0m\n\u001b[0;32m    124\u001b[0m         \u001b[1;32mfor\u001b[0m \u001b[0mi\u001b[0m \u001b[1;32min\u001b[0m \u001b[0mrange\u001b[0m\u001b[1;33m(\u001b[0m\u001b[0mmin\u001b[0m\u001b[1;33m(\u001b[0m\u001b[0mnitems\u001b[0m\u001b[1;33m,\u001b[0m \u001b[0mlen\u001b[0m\u001b[1;33m(\u001b[0m\u001b[0mseq\u001b[0m\u001b[1;33m)\u001b[0m\u001b[1;33m)\u001b[0m\u001b[1;33m)\u001b[0m\u001b[1;33m\u001b[0m\u001b[1;33m\u001b[0m\u001b[0m\n",
      "\u001b[1;32m~\\anaconda3\\lib\\site-packages\\pandas\\io\\formats\\printing.py\u001b[0m in \u001b[0;36m<listcomp>\u001b[1;34m(.0)\u001b[0m\n\u001b[0;32m    121\u001b[0m     \u001b[1;31m# handle sets, no slicing\u001b[0m\u001b[1;33m\u001b[0m\u001b[1;33m\u001b[0m\u001b[1;33m\u001b[0m\u001b[0m\n\u001b[0;32m    122\u001b[0m     r = [\n\u001b[1;32m--> 123\u001b[1;33m         \u001b[0mpprint_thing\u001b[0m\u001b[1;33m(\u001b[0m\u001b[0mnext\u001b[0m\u001b[1;33m(\u001b[0m\u001b[0ms\u001b[0m\u001b[1;33m)\u001b[0m\u001b[1;33m,\u001b[0m \u001b[0m_nest_lvl\u001b[0m \u001b[1;33m+\u001b[0m \u001b[1;36m1\u001b[0m\u001b[1;33m,\u001b[0m \u001b[0mmax_seq_items\u001b[0m\u001b[1;33m=\u001b[0m\u001b[0mmax_seq_items\u001b[0m\u001b[1;33m,\u001b[0m \u001b[1;33m**\u001b[0m\u001b[0mkwds\u001b[0m\u001b[1;33m)\u001b[0m\u001b[1;33m\u001b[0m\u001b[1;33m\u001b[0m\u001b[0m\n\u001b[0m\u001b[0;32m    124\u001b[0m         \u001b[1;32mfor\u001b[0m \u001b[0mi\u001b[0m \u001b[1;32min\u001b[0m \u001b[0mrange\u001b[0m\u001b[1;33m(\u001b[0m\u001b[0mmin\u001b[0m\u001b[1;33m(\u001b[0m\u001b[0mnitems\u001b[0m\u001b[1;33m,\u001b[0m \u001b[0mlen\u001b[0m\u001b[1;33m(\u001b[0m\u001b[0mseq\u001b[0m\u001b[1;33m)\u001b[0m\u001b[1;33m)\u001b[0m\u001b[1;33m)\u001b[0m\u001b[1;33m\u001b[0m\u001b[1;33m\u001b[0m\u001b[0m\n\u001b[0;32m    125\u001b[0m     ]\n",
      "\u001b[1;32m~\\anaconda3\\lib\\site-packages\\pandas\\io\\formats\\printing.py\u001b[0m in \u001b[0;36mpprint_thing\u001b[1;34m(thing, _nest_lvl, escape_chars, default_escapes, quote_strings, max_seq_items)\u001b[0m\n\u001b[0;32m    233\u001b[0m         \u001b[0mresult\u001b[0m \u001b[1;33m=\u001b[0m \u001b[1;34mf\"'{as_escaped_string(thing)}'\"\u001b[0m\u001b[1;33m\u001b[0m\u001b[1;33m\u001b[0m\u001b[0m\n\u001b[0;32m    234\u001b[0m     \u001b[1;32melse\u001b[0m\u001b[1;33m:\u001b[0m\u001b[1;33m\u001b[0m\u001b[1;33m\u001b[0m\u001b[0m\n\u001b[1;32m--> 235\u001b[1;33m         \u001b[0mresult\u001b[0m \u001b[1;33m=\u001b[0m \u001b[0mas_escaped_string\u001b[0m\u001b[1;33m(\u001b[0m\u001b[0mthing\u001b[0m\u001b[1;33m)\u001b[0m\u001b[1;33m\u001b[0m\u001b[1;33m\u001b[0m\u001b[0m\n\u001b[0m\u001b[0;32m    236\u001b[0m \u001b[1;33m\u001b[0m\u001b[0m\n\u001b[0;32m    237\u001b[0m     \u001b[1;32mreturn\u001b[0m \u001b[0mresult\u001b[0m\u001b[1;33m\u001b[0m\u001b[1;33m\u001b[0m\u001b[0m\n",
      "\u001b[1;32m~\\anaconda3\\lib\\site-packages\\pandas\\io\\formats\\printing.py\u001b[0m in \u001b[0;36mas_escaped_string\u001b[1;34m(thing, escape_chars)\u001b[0m\n\u001b[0;32m    211\u001b[0m         \u001b[0mresult\u001b[0m \u001b[1;33m=\u001b[0m \u001b[0mstr\u001b[0m\u001b[1;33m(\u001b[0m\u001b[0mthing\u001b[0m\u001b[1;33m)\u001b[0m\u001b[1;33m\u001b[0m\u001b[1;33m\u001b[0m\u001b[0m\n\u001b[0;32m    212\u001b[0m         \u001b[1;32mfor\u001b[0m \u001b[0mc\u001b[0m \u001b[1;32min\u001b[0m \u001b[0mescape_chars\u001b[0m\u001b[1;33m:\u001b[0m\u001b[1;33m\u001b[0m\u001b[1;33m\u001b[0m\u001b[0m\n\u001b[1;32m--> 213\u001b[1;33m             \u001b[0mresult\u001b[0m \u001b[1;33m=\u001b[0m \u001b[0mresult\u001b[0m\u001b[1;33m.\u001b[0m\u001b[0mreplace\u001b[0m\u001b[1;33m(\u001b[0m\u001b[0mc\u001b[0m\u001b[1;33m,\u001b[0m \u001b[0mtranslate\u001b[0m\u001b[1;33m[\u001b[0m\u001b[0mc\u001b[0m\u001b[1;33m]\u001b[0m\u001b[1;33m)\u001b[0m\u001b[1;33m\u001b[0m\u001b[1;33m\u001b[0m\u001b[0m\n\u001b[0m\u001b[0;32m    214\u001b[0m         \u001b[1;32mreturn\u001b[0m \u001b[0mresult\u001b[0m\u001b[1;33m\u001b[0m\u001b[1;33m\u001b[0m\u001b[0m\n\u001b[0;32m    215\u001b[0m \u001b[1;33m\u001b[0m\u001b[0m\n",
      "\u001b[1;31mKeyboardInterrupt\u001b[0m: "
     ]
    }
   ],
   "source": [
    "train_df"
   ]
  },
  {
   "cell_type": "code",
   "execution_count": 25,
   "id": "36843d82-fe03-47da-8e33-7c7502783265",
   "metadata": {
    "tags": []
   },
   "outputs": [
    {
     "ename": "KeyboardInterrupt",
     "evalue": "",
     "output_type": "error",
     "traceback": [
      "\u001b[1;31m---------------------------------------------------------------------------\u001b[0m",
      "\u001b[1;31mKeyboardInterrupt\u001b[0m                         Traceback (most recent call last)",
      "\u001b[1;32m<ipython-input-25-7ca3474f569b>\u001b[0m in \u001b[0;36m<module>\u001b[1;34m\u001b[0m\n\u001b[0;32m     18\u001b[0m \u001b[0mtrain_df\u001b[0m\u001b[1;33m[\u001b[0m\u001b[1;34m'lemma_jaccard_score'\u001b[0m\u001b[1;33m]\u001b[0m \u001b[1;33m=\u001b[0m \u001b[0mlemmajaccardlist\u001b[0m\u001b[1;33m\u001b[0m\u001b[1;33m\u001b[0m\u001b[0m\n\u001b[0;32m     19\u001b[0m \u001b[0mtrain_df\u001b[0m\u001b[1;33m[\u001b[0m\u001b[1;34m'overall_sim_score'\u001b[0m\u001b[1;33m]\u001b[0m \u001b[1;33m=\u001b[0m \u001b[0moverallsimilaritylist\u001b[0m\u001b[1;33m\u001b[0m\u001b[1;33m\u001b[0m\u001b[0m\n\u001b[1;32m---> 20\u001b[1;33m \u001b[0mtrain_df\u001b[0m\u001b[1;33m\u001b[0m\u001b[1;33m\u001b[0m\u001b[0m\n\u001b[0m",
      "\u001b[1;32m~\\anaconda3\\lib\\site-packages\\IPython\\core\\displayhook.py\u001b[0m in \u001b[0;36m__call__\u001b[1;34m(self, result)\u001b[0m\n\u001b[0;32m    260\u001b[0m             \u001b[0mself\u001b[0m\u001b[1;33m.\u001b[0m\u001b[0mstart_displayhook\u001b[0m\u001b[1;33m(\u001b[0m\u001b[1;33m)\u001b[0m\u001b[1;33m\u001b[0m\u001b[1;33m\u001b[0m\u001b[0m\n\u001b[0;32m    261\u001b[0m             \u001b[0mself\u001b[0m\u001b[1;33m.\u001b[0m\u001b[0mwrite_output_prompt\u001b[0m\u001b[1;33m(\u001b[0m\u001b[1;33m)\u001b[0m\u001b[1;33m\u001b[0m\u001b[1;33m\u001b[0m\u001b[0m\n\u001b[1;32m--> 262\u001b[1;33m             \u001b[0mformat_dict\u001b[0m\u001b[1;33m,\u001b[0m \u001b[0mmd_dict\u001b[0m \u001b[1;33m=\u001b[0m \u001b[0mself\u001b[0m\u001b[1;33m.\u001b[0m\u001b[0mcompute_format_data\u001b[0m\u001b[1;33m(\u001b[0m\u001b[0mresult\u001b[0m\u001b[1;33m)\u001b[0m\u001b[1;33m\u001b[0m\u001b[1;33m\u001b[0m\u001b[0m\n\u001b[0m\u001b[0;32m    263\u001b[0m             \u001b[0mself\u001b[0m\u001b[1;33m.\u001b[0m\u001b[0mupdate_user_ns\u001b[0m\u001b[1;33m(\u001b[0m\u001b[0mresult\u001b[0m\u001b[1;33m)\u001b[0m\u001b[1;33m\u001b[0m\u001b[1;33m\u001b[0m\u001b[0m\n\u001b[0;32m    264\u001b[0m             \u001b[0mself\u001b[0m\u001b[1;33m.\u001b[0m\u001b[0mfill_exec_result\u001b[0m\u001b[1;33m(\u001b[0m\u001b[0mresult\u001b[0m\u001b[1;33m)\u001b[0m\u001b[1;33m\u001b[0m\u001b[1;33m\u001b[0m\u001b[0m\n",
      "\u001b[1;32m~\\anaconda3\\lib\\site-packages\\IPython\\core\\displayhook.py\u001b[0m in \u001b[0;36mcompute_format_data\u001b[1;34m(self, result)\u001b[0m\n\u001b[0;32m    149\u001b[0m \u001b[1;33m\u001b[0m\u001b[0m\n\u001b[0;32m    150\u001b[0m         \"\"\"\n\u001b[1;32m--> 151\u001b[1;33m         \u001b[1;32mreturn\u001b[0m \u001b[0mself\u001b[0m\u001b[1;33m.\u001b[0m\u001b[0mshell\u001b[0m\u001b[1;33m.\u001b[0m\u001b[0mdisplay_formatter\u001b[0m\u001b[1;33m.\u001b[0m\u001b[0mformat\u001b[0m\u001b[1;33m(\u001b[0m\u001b[0mresult\u001b[0m\u001b[1;33m)\u001b[0m\u001b[1;33m\u001b[0m\u001b[1;33m\u001b[0m\u001b[0m\n\u001b[0m\u001b[0;32m    152\u001b[0m \u001b[1;33m\u001b[0m\u001b[0m\n\u001b[0;32m    153\u001b[0m     \u001b[1;31m# This can be set to True by the write_output_prompt method in a subclass\u001b[0m\u001b[1;33m\u001b[0m\u001b[1;33m\u001b[0m\u001b[1;33m\u001b[0m\u001b[0m\n",
      "\u001b[1;32m~\\anaconda3\\lib\\site-packages\\IPython\\core\\formatters.py\u001b[0m in \u001b[0;36mformat\u001b[1;34m(self, obj, include, exclude)\u001b[0m\n\u001b[0;32m    178\u001b[0m             \u001b[0mmd\u001b[0m \u001b[1;33m=\u001b[0m \u001b[1;32mNone\u001b[0m\u001b[1;33m\u001b[0m\u001b[1;33m\u001b[0m\u001b[0m\n\u001b[0;32m    179\u001b[0m             \u001b[1;32mtry\u001b[0m\u001b[1;33m:\u001b[0m\u001b[1;33m\u001b[0m\u001b[1;33m\u001b[0m\u001b[0m\n\u001b[1;32m--> 180\u001b[1;33m                 \u001b[0mdata\u001b[0m \u001b[1;33m=\u001b[0m \u001b[0mformatter\u001b[0m\u001b[1;33m(\u001b[0m\u001b[0mobj\u001b[0m\u001b[1;33m)\u001b[0m\u001b[1;33m\u001b[0m\u001b[1;33m\u001b[0m\u001b[0m\n\u001b[0m\u001b[0;32m    181\u001b[0m             \u001b[1;32mexcept\u001b[0m\u001b[1;33m:\u001b[0m\u001b[1;33m\u001b[0m\u001b[1;33m\u001b[0m\u001b[0m\n\u001b[0;32m    182\u001b[0m                 \u001b[1;31m# FIXME: log the exception\u001b[0m\u001b[1;33m\u001b[0m\u001b[1;33m\u001b[0m\u001b[1;33m\u001b[0m\u001b[0m\n",
      "\u001b[1;32m~\\anaconda3\\lib\\site-packages\\decorator.py\u001b[0m in \u001b[0;36mfun\u001b[1;34m(*args, **kw)\u001b[0m\n\u001b[0;32m    229\u001b[0m             \u001b[1;32mif\u001b[0m \u001b[1;32mnot\u001b[0m \u001b[0mkwsyntax\u001b[0m\u001b[1;33m:\u001b[0m\u001b[1;33m\u001b[0m\u001b[1;33m\u001b[0m\u001b[0m\n\u001b[0;32m    230\u001b[0m                 \u001b[0margs\u001b[0m\u001b[1;33m,\u001b[0m \u001b[0mkw\u001b[0m \u001b[1;33m=\u001b[0m \u001b[0mfix\u001b[0m\u001b[1;33m(\u001b[0m\u001b[0margs\u001b[0m\u001b[1;33m,\u001b[0m \u001b[0mkw\u001b[0m\u001b[1;33m,\u001b[0m \u001b[0msig\u001b[0m\u001b[1;33m)\u001b[0m\u001b[1;33m\u001b[0m\u001b[1;33m\u001b[0m\u001b[0m\n\u001b[1;32m--> 231\u001b[1;33m             \u001b[1;32mreturn\u001b[0m \u001b[0mcaller\u001b[0m\u001b[1;33m(\u001b[0m\u001b[0mfunc\u001b[0m\u001b[1;33m,\u001b[0m \u001b[1;33m*\u001b[0m\u001b[1;33m(\u001b[0m\u001b[0mextras\u001b[0m \u001b[1;33m+\u001b[0m \u001b[0margs\u001b[0m\u001b[1;33m)\u001b[0m\u001b[1;33m,\u001b[0m \u001b[1;33m**\u001b[0m\u001b[0mkw\u001b[0m\u001b[1;33m)\u001b[0m\u001b[1;33m\u001b[0m\u001b[1;33m\u001b[0m\u001b[0m\n\u001b[0m\u001b[0;32m    232\u001b[0m     \u001b[0mfun\u001b[0m\u001b[1;33m.\u001b[0m\u001b[0m__name__\u001b[0m \u001b[1;33m=\u001b[0m \u001b[0mfunc\u001b[0m\u001b[1;33m.\u001b[0m\u001b[0m__name__\u001b[0m\u001b[1;33m\u001b[0m\u001b[1;33m\u001b[0m\u001b[0m\n\u001b[0;32m    233\u001b[0m     \u001b[0mfun\u001b[0m\u001b[1;33m.\u001b[0m\u001b[0m__doc__\u001b[0m \u001b[1;33m=\u001b[0m \u001b[0mfunc\u001b[0m\u001b[1;33m.\u001b[0m\u001b[0m__doc__\u001b[0m\u001b[1;33m\u001b[0m\u001b[1;33m\u001b[0m\u001b[0m\n",
      "\u001b[1;32m~\\anaconda3\\lib\\site-packages\\IPython\\core\\formatters.py\u001b[0m in \u001b[0;36mcatch_format_error\u001b[1;34m(method, self, *args, **kwargs)\u001b[0m\n\u001b[0;32m    222\u001b[0m     \u001b[1;34m\"\"\"show traceback on failed format call\"\"\"\u001b[0m\u001b[1;33m\u001b[0m\u001b[1;33m\u001b[0m\u001b[0m\n\u001b[0;32m    223\u001b[0m     \u001b[1;32mtry\u001b[0m\u001b[1;33m:\u001b[0m\u001b[1;33m\u001b[0m\u001b[1;33m\u001b[0m\u001b[0m\n\u001b[1;32m--> 224\u001b[1;33m         \u001b[0mr\u001b[0m \u001b[1;33m=\u001b[0m \u001b[0mmethod\u001b[0m\u001b[1;33m(\u001b[0m\u001b[0mself\u001b[0m\u001b[1;33m,\u001b[0m \u001b[1;33m*\u001b[0m\u001b[0margs\u001b[0m\u001b[1;33m,\u001b[0m \u001b[1;33m**\u001b[0m\u001b[0mkwargs\u001b[0m\u001b[1;33m)\u001b[0m\u001b[1;33m\u001b[0m\u001b[1;33m\u001b[0m\u001b[0m\n\u001b[0m\u001b[0;32m    225\u001b[0m     \u001b[1;32mexcept\u001b[0m \u001b[0mNotImplementedError\u001b[0m\u001b[1;33m:\u001b[0m\u001b[1;33m\u001b[0m\u001b[1;33m\u001b[0m\u001b[0m\n\u001b[0;32m    226\u001b[0m         \u001b[1;31m# don't warn on NotImplementedErrors\u001b[0m\u001b[1;33m\u001b[0m\u001b[1;33m\u001b[0m\u001b[1;33m\u001b[0m\u001b[0m\n",
      "\u001b[1;32m~\\anaconda3\\lib\\site-packages\\IPython\\core\\formatters.py\u001b[0m in \u001b[0;36m__call__\u001b[1;34m(self, obj)\u001b[0m\n\u001b[0;32m    700\u001b[0m                 \u001b[0mtype_pprinters\u001b[0m\u001b[1;33m=\u001b[0m\u001b[0mself\u001b[0m\u001b[1;33m.\u001b[0m\u001b[0mtype_printers\u001b[0m\u001b[1;33m,\u001b[0m\u001b[1;33m\u001b[0m\u001b[1;33m\u001b[0m\u001b[0m\n\u001b[0;32m    701\u001b[0m                 deferred_pprinters=self.deferred_printers)\n\u001b[1;32m--> 702\u001b[1;33m             \u001b[0mprinter\u001b[0m\u001b[1;33m.\u001b[0m\u001b[0mpretty\u001b[0m\u001b[1;33m(\u001b[0m\u001b[0mobj\u001b[0m\u001b[1;33m)\u001b[0m\u001b[1;33m\u001b[0m\u001b[1;33m\u001b[0m\u001b[0m\n\u001b[0m\u001b[0;32m    703\u001b[0m             \u001b[0mprinter\u001b[0m\u001b[1;33m.\u001b[0m\u001b[0mflush\u001b[0m\u001b[1;33m(\u001b[0m\u001b[1;33m)\u001b[0m\u001b[1;33m\u001b[0m\u001b[1;33m\u001b[0m\u001b[0m\n\u001b[0;32m    704\u001b[0m             \u001b[1;32mreturn\u001b[0m \u001b[0mstream\u001b[0m\u001b[1;33m.\u001b[0m\u001b[0mgetvalue\u001b[0m\u001b[1;33m(\u001b[0m\u001b[1;33m)\u001b[0m\u001b[1;33m\u001b[0m\u001b[1;33m\u001b[0m\u001b[0m\n",
      "\u001b[1;32m~\\anaconda3\\lib\\site-packages\\IPython\\lib\\pretty.py\u001b[0m in \u001b[0;36mpretty\u001b[1;34m(self, obj)\u001b[0m\n\u001b[0;32m    392\u001b[0m                         \u001b[1;32mif\u001b[0m \u001b[0mcls\u001b[0m \u001b[1;32mis\u001b[0m \u001b[1;32mnot\u001b[0m \u001b[0mobject\u001b[0m\u001b[0;31m \u001b[0m\u001b[0;31m\\\u001b[0m\u001b[1;33m\u001b[0m\u001b[1;33m\u001b[0m\u001b[0m\n\u001b[0;32m    393\u001b[0m                                 \u001b[1;32mand\u001b[0m \u001b[0mcallable\u001b[0m\u001b[1;33m(\u001b[0m\u001b[0mcls\u001b[0m\u001b[1;33m.\u001b[0m\u001b[0m__dict__\u001b[0m\u001b[1;33m.\u001b[0m\u001b[0mget\u001b[0m\u001b[1;33m(\u001b[0m\u001b[1;34m'__repr__'\u001b[0m\u001b[1;33m)\u001b[0m\u001b[1;33m)\u001b[0m\u001b[1;33m:\u001b[0m\u001b[1;33m\u001b[0m\u001b[1;33m\u001b[0m\u001b[0m\n\u001b[1;32m--> 394\u001b[1;33m                             \u001b[1;32mreturn\u001b[0m \u001b[0m_repr_pprint\u001b[0m\u001b[1;33m(\u001b[0m\u001b[0mobj\u001b[0m\u001b[1;33m,\u001b[0m \u001b[0mself\u001b[0m\u001b[1;33m,\u001b[0m \u001b[0mcycle\u001b[0m\u001b[1;33m)\u001b[0m\u001b[1;33m\u001b[0m\u001b[1;33m\u001b[0m\u001b[0m\n\u001b[0m\u001b[0;32m    395\u001b[0m \u001b[1;33m\u001b[0m\u001b[0m\n\u001b[0;32m    396\u001b[0m             \u001b[1;32mreturn\u001b[0m \u001b[0m_default_pprint\u001b[0m\u001b[1;33m(\u001b[0m\u001b[0mobj\u001b[0m\u001b[1;33m,\u001b[0m \u001b[0mself\u001b[0m\u001b[1;33m,\u001b[0m \u001b[0mcycle\u001b[0m\u001b[1;33m)\u001b[0m\u001b[1;33m\u001b[0m\u001b[1;33m\u001b[0m\u001b[0m\n",
      "\u001b[1;32m~\\anaconda3\\lib\\site-packages\\IPython\\lib\\pretty.py\u001b[0m in \u001b[0;36m_repr_pprint\u001b[1;34m(obj, p, cycle)\u001b[0m\n\u001b[0;32m    698\u001b[0m     \u001b[1;34m\"\"\"A pprint that just redirects to the normal repr function.\"\"\"\u001b[0m\u001b[1;33m\u001b[0m\u001b[1;33m\u001b[0m\u001b[0m\n\u001b[0;32m    699\u001b[0m     \u001b[1;31m# Find newlines and replace them with p.break_()\u001b[0m\u001b[1;33m\u001b[0m\u001b[1;33m\u001b[0m\u001b[1;33m\u001b[0m\u001b[0m\n\u001b[1;32m--> 700\u001b[1;33m     \u001b[0moutput\u001b[0m \u001b[1;33m=\u001b[0m \u001b[0mrepr\u001b[0m\u001b[1;33m(\u001b[0m\u001b[0mobj\u001b[0m\u001b[1;33m)\u001b[0m\u001b[1;33m\u001b[0m\u001b[1;33m\u001b[0m\u001b[0m\n\u001b[0m\u001b[0;32m    701\u001b[0m     \u001b[0mlines\u001b[0m \u001b[1;33m=\u001b[0m \u001b[0moutput\u001b[0m\u001b[1;33m.\u001b[0m\u001b[0msplitlines\u001b[0m\u001b[1;33m(\u001b[0m\u001b[1;33m)\u001b[0m\u001b[1;33m\u001b[0m\u001b[1;33m\u001b[0m\u001b[0m\n\u001b[0;32m    702\u001b[0m     \u001b[1;32mwith\u001b[0m \u001b[0mp\u001b[0m\u001b[1;33m.\u001b[0m\u001b[0mgroup\u001b[0m\u001b[1;33m(\u001b[0m\u001b[1;33m)\u001b[0m\u001b[1;33m:\u001b[0m\u001b[1;33m\u001b[0m\u001b[1;33m\u001b[0m\u001b[0m\n",
      "\u001b[1;32m~\\anaconda3\\lib\\site-packages\\pandas\\core\\frame.py\u001b[0m in \u001b[0;36m__repr__\u001b[1;34m(self)\u001b[0m\n\u001b[0;32m    801\u001b[0m         \u001b[1;32melse\u001b[0m\u001b[1;33m:\u001b[0m\u001b[1;33m\u001b[0m\u001b[1;33m\u001b[0m\u001b[0m\n\u001b[0;32m    802\u001b[0m             \u001b[0mwidth\u001b[0m \u001b[1;33m=\u001b[0m \u001b[1;32mNone\u001b[0m\u001b[1;33m\u001b[0m\u001b[1;33m\u001b[0m\u001b[0m\n\u001b[1;32m--> 803\u001b[1;33m         self.to_string(\n\u001b[0m\u001b[0;32m    804\u001b[0m             \u001b[0mbuf\u001b[0m\u001b[1;33m=\u001b[0m\u001b[0mbuf\u001b[0m\u001b[1;33m,\u001b[0m\u001b[1;33m\u001b[0m\u001b[1;33m\u001b[0m\u001b[0m\n\u001b[0;32m    805\u001b[0m             \u001b[0mmax_rows\u001b[0m\u001b[1;33m=\u001b[0m\u001b[0mmax_rows\u001b[0m\u001b[1;33m,\u001b[0m\u001b[1;33m\u001b[0m\u001b[1;33m\u001b[0m\u001b[0m\n",
      "\u001b[1;32m~\\anaconda3\\lib\\site-packages\\pandas\\core\\frame.py\u001b[0m in \u001b[0;36mto_string\u001b[1;34m(self, buf, columns, col_space, header, index, na_rep, formatters, float_format, sparsify, index_names, justify, max_rows, min_rows, max_cols, show_dimensions, decimal, line_width, max_colwidth, encoding)\u001b[0m\n\u001b[0;32m    937\u001b[0m                 \u001b[0mdecimal\u001b[0m\u001b[1;33m=\u001b[0m\u001b[0mdecimal\u001b[0m\u001b[1;33m,\u001b[0m\u001b[1;33m\u001b[0m\u001b[1;33m\u001b[0m\u001b[0m\n\u001b[0;32m    938\u001b[0m             )\n\u001b[1;32m--> 939\u001b[1;33m             return fmt.DataFrameRenderer(formatter).to_string(\n\u001b[0m\u001b[0;32m    940\u001b[0m                 \u001b[0mbuf\u001b[0m\u001b[1;33m=\u001b[0m\u001b[0mbuf\u001b[0m\u001b[1;33m,\u001b[0m\u001b[1;33m\u001b[0m\u001b[1;33m\u001b[0m\u001b[0m\n\u001b[0;32m    941\u001b[0m                 \u001b[0mencoding\u001b[0m\u001b[1;33m=\u001b[0m\u001b[0mencoding\u001b[0m\u001b[1;33m,\u001b[0m\u001b[1;33m\u001b[0m\u001b[1;33m\u001b[0m\u001b[0m\n",
      "\u001b[1;32m~\\anaconda3\\lib\\site-packages\\pandas\\io\\formats\\format.py\u001b[0m in \u001b[0;36mto_string\u001b[1;34m(self, buf, encoding, line_width)\u001b[0m\n\u001b[0;32m   1029\u001b[0m \u001b[1;33m\u001b[0m\u001b[0m\n\u001b[0;32m   1030\u001b[0m         \u001b[0mstring_formatter\u001b[0m \u001b[1;33m=\u001b[0m \u001b[0mStringFormatter\u001b[0m\u001b[1;33m(\u001b[0m\u001b[0mself\u001b[0m\u001b[1;33m.\u001b[0m\u001b[0mfmt\u001b[0m\u001b[1;33m,\u001b[0m \u001b[0mline_width\u001b[0m\u001b[1;33m=\u001b[0m\u001b[0mline_width\u001b[0m\u001b[1;33m)\u001b[0m\u001b[1;33m\u001b[0m\u001b[1;33m\u001b[0m\u001b[0m\n\u001b[1;32m-> 1031\u001b[1;33m         \u001b[0mstring\u001b[0m \u001b[1;33m=\u001b[0m \u001b[0mstring_formatter\u001b[0m\u001b[1;33m.\u001b[0m\u001b[0mto_string\u001b[0m\u001b[1;33m(\u001b[0m\u001b[1;33m)\u001b[0m\u001b[1;33m\u001b[0m\u001b[1;33m\u001b[0m\u001b[0m\n\u001b[0m\u001b[0;32m   1032\u001b[0m         \u001b[1;32mreturn\u001b[0m \u001b[0msave_to_buffer\u001b[0m\u001b[1;33m(\u001b[0m\u001b[0mstring\u001b[0m\u001b[1;33m,\u001b[0m \u001b[0mbuf\u001b[0m\u001b[1;33m=\u001b[0m\u001b[0mbuf\u001b[0m\u001b[1;33m,\u001b[0m \u001b[0mencoding\u001b[0m\u001b[1;33m=\u001b[0m\u001b[0mencoding\u001b[0m\u001b[1;33m)\u001b[0m\u001b[1;33m\u001b[0m\u001b[1;33m\u001b[0m\u001b[0m\n\u001b[0;32m   1033\u001b[0m \u001b[1;33m\u001b[0m\u001b[0m\n",
      "\u001b[1;32m~\\anaconda3\\lib\\site-packages\\pandas\\io\\formats\\string.py\u001b[0m in \u001b[0;36mto_string\u001b[1;34m(self)\u001b[0m\n\u001b[0;32m     21\u001b[0m \u001b[1;33m\u001b[0m\u001b[0m\n\u001b[0;32m     22\u001b[0m     \u001b[1;32mdef\u001b[0m \u001b[0mto_string\u001b[0m\u001b[1;33m(\u001b[0m\u001b[0mself\u001b[0m\u001b[1;33m)\u001b[0m \u001b[1;33m->\u001b[0m \u001b[0mstr\u001b[0m\u001b[1;33m:\u001b[0m\u001b[1;33m\u001b[0m\u001b[1;33m\u001b[0m\u001b[0m\n\u001b[1;32m---> 23\u001b[1;33m         \u001b[0mtext\u001b[0m \u001b[1;33m=\u001b[0m \u001b[0mself\u001b[0m\u001b[1;33m.\u001b[0m\u001b[0m_get_string_representation\u001b[0m\u001b[1;33m(\u001b[0m\u001b[1;33m)\u001b[0m\u001b[1;33m\u001b[0m\u001b[1;33m\u001b[0m\u001b[0m\n\u001b[0m\u001b[0;32m     24\u001b[0m         \u001b[1;32mif\u001b[0m \u001b[0mself\u001b[0m\u001b[1;33m.\u001b[0m\u001b[0mfmt\u001b[0m\u001b[1;33m.\u001b[0m\u001b[0mshould_show_dimensions\u001b[0m\u001b[1;33m:\u001b[0m\u001b[1;33m\u001b[0m\u001b[1;33m\u001b[0m\u001b[0m\n\u001b[0;32m     25\u001b[0m             \u001b[0mtext\u001b[0m \u001b[1;33m=\u001b[0m \u001b[1;34m\"\"\u001b[0m\u001b[1;33m.\u001b[0m\u001b[0mjoin\u001b[0m\u001b[1;33m(\u001b[0m\u001b[1;33m[\u001b[0m\u001b[0mtext\u001b[0m\u001b[1;33m,\u001b[0m \u001b[0mself\u001b[0m\u001b[1;33m.\u001b[0m\u001b[0mfmt\u001b[0m\u001b[1;33m.\u001b[0m\u001b[0mdimensions_info\u001b[0m\u001b[1;33m]\u001b[0m\u001b[1;33m)\u001b[0m\u001b[1;33m\u001b[0m\u001b[1;33m\u001b[0m\u001b[0m\n",
      "\u001b[1;32m~\\anaconda3\\lib\\site-packages\\pandas\\io\\formats\\string.py\u001b[0m in \u001b[0;36m_get_string_representation\u001b[1;34m(self)\u001b[0m\n\u001b[0;32m     36\u001b[0m             \u001b[1;32mreturn\u001b[0m \u001b[0mself\u001b[0m\u001b[1;33m.\u001b[0m\u001b[0m_empty_info_line\u001b[0m\u001b[1;33m\u001b[0m\u001b[1;33m\u001b[0m\u001b[0m\n\u001b[0;32m     37\u001b[0m \u001b[1;33m\u001b[0m\u001b[0m\n\u001b[1;32m---> 38\u001b[1;33m         \u001b[0mstrcols\u001b[0m \u001b[1;33m=\u001b[0m \u001b[0mself\u001b[0m\u001b[1;33m.\u001b[0m\u001b[0m_get_strcols\u001b[0m\u001b[1;33m(\u001b[0m\u001b[1;33m)\u001b[0m\u001b[1;33m\u001b[0m\u001b[1;33m\u001b[0m\u001b[0m\n\u001b[0m\u001b[0;32m     39\u001b[0m \u001b[1;33m\u001b[0m\u001b[0m\n\u001b[0;32m     40\u001b[0m         \u001b[1;32mif\u001b[0m \u001b[0mself\u001b[0m\u001b[1;33m.\u001b[0m\u001b[0mline_width\u001b[0m \u001b[1;32mis\u001b[0m \u001b[1;32mNone\u001b[0m\u001b[1;33m:\u001b[0m\u001b[1;33m\u001b[0m\u001b[1;33m\u001b[0m\u001b[0m\n",
      "\u001b[1;32m~\\anaconda3\\lib\\site-packages\\pandas\\io\\formats\\string.py\u001b[0m in \u001b[0;36m_get_strcols\u001b[1;34m(self)\u001b[0m\n\u001b[0;32m     27\u001b[0m \u001b[1;33m\u001b[0m\u001b[0m\n\u001b[0;32m     28\u001b[0m     \u001b[1;32mdef\u001b[0m \u001b[0m_get_strcols\u001b[0m\u001b[1;33m(\u001b[0m\u001b[0mself\u001b[0m\u001b[1;33m)\u001b[0m \u001b[1;33m->\u001b[0m \u001b[0mList\u001b[0m\u001b[1;33m[\u001b[0m\u001b[0mList\u001b[0m\u001b[1;33m[\u001b[0m\u001b[0mstr\u001b[0m\u001b[1;33m]\u001b[0m\u001b[1;33m]\u001b[0m\u001b[1;33m:\u001b[0m\u001b[1;33m\u001b[0m\u001b[1;33m\u001b[0m\u001b[0m\n\u001b[1;32m---> 29\u001b[1;33m         \u001b[0mstrcols\u001b[0m \u001b[1;33m=\u001b[0m \u001b[0mself\u001b[0m\u001b[1;33m.\u001b[0m\u001b[0mfmt\u001b[0m\u001b[1;33m.\u001b[0m\u001b[0mget_strcols\u001b[0m\u001b[1;33m(\u001b[0m\u001b[1;33m)\u001b[0m\u001b[1;33m\u001b[0m\u001b[1;33m\u001b[0m\u001b[0m\n\u001b[0m\u001b[0;32m     30\u001b[0m         \u001b[1;32mif\u001b[0m \u001b[0mself\u001b[0m\u001b[1;33m.\u001b[0m\u001b[0mfmt\u001b[0m\u001b[1;33m.\u001b[0m\u001b[0mis_truncated\u001b[0m\u001b[1;33m:\u001b[0m\u001b[1;33m\u001b[0m\u001b[1;33m\u001b[0m\u001b[0m\n\u001b[0;32m     31\u001b[0m             \u001b[0mstrcols\u001b[0m \u001b[1;33m=\u001b[0m \u001b[0mself\u001b[0m\u001b[1;33m.\u001b[0m\u001b[0m_insert_dot_separators\u001b[0m\u001b[1;33m(\u001b[0m\u001b[0mstrcols\u001b[0m\u001b[1;33m)\u001b[0m\u001b[1;33m\u001b[0m\u001b[1;33m\u001b[0m\u001b[0m\n",
      "\u001b[1;32m~\\anaconda3\\lib\\site-packages\\pandas\\io\\formats\\format.py\u001b[0m in \u001b[0;36mget_strcols\u001b[1;34m(self)\u001b[0m\n\u001b[0;32m    517\u001b[0m         \u001b[0mRender\u001b[0m \u001b[0ma\u001b[0m \u001b[0mDataFrame\u001b[0m \u001b[0mto\u001b[0m \u001b[0ma\u001b[0m \u001b[0mlist\u001b[0m \u001b[0mof\u001b[0m \u001b[0mcolumns\u001b[0m \u001b[1;33m(\u001b[0m\u001b[1;32mas\u001b[0m \u001b[0mlists\u001b[0m \u001b[0mof\u001b[0m \u001b[0mstrings\u001b[0m\u001b[1;33m)\u001b[0m\u001b[1;33m.\u001b[0m\u001b[1;33m\u001b[0m\u001b[1;33m\u001b[0m\u001b[0m\n\u001b[0;32m    518\u001b[0m         \"\"\"\n\u001b[1;32m--> 519\u001b[1;33m         \u001b[0mstrcols\u001b[0m \u001b[1;33m=\u001b[0m \u001b[0mself\u001b[0m\u001b[1;33m.\u001b[0m\u001b[0m_get_strcols_without_index\u001b[0m\u001b[1;33m(\u001b[0m\u001b[1;33m)\u001b[0m\u001b[1;33m\u001b[0m\u001b[1;33m\u001b[0m\u001b[0m\n\u001b[0m\u001b[0;32m    520\u001b[0m \u001b[1;33m\u001b[0m\u001b[0m\n\u001b[0;32m    521\u001b[0m         \u001b[1;32mif\u001b[0m \u001b[0mself\u001b[0m\u001b[1;33m.\u001b[0m\u001b[0mindex\u001b[0m\u001b[1;33m:\u001b[0m\u001b[1;33m\u001b[0m\u001b[1;33m\u001b[0m\u001b[0m\n",
      "\u001b[1;32m~\\anaconda3\\lib\\site-packages\\pandas\\io\\formats\\format.py\u001b[0m in \u001b[0;36m_get_strcols_without_index\u001b[1;34m(self)\u001b[0m\n\u001b[0;32m    783\u001b[0m                 \u001b[0mint\u001b[0m\u001b[1;33m(\u001b[0m\u001b[0mself\u001b[0m\u001b[1;33m.\u001b[0m\u001b[0mcol_space\u001b[0m\u001b[1;33m.\u001b[0m\u001b[0mget\u001b[0m\u001b[1;33m(\u001b[0m\u001b[0mc\u001b[0m\u001b[1;33m,\u001b[0m \u001b[1;36m0\u001b[0m\u001b[1;33m)\u001b[0m\u001b[1;33m)\u001b[0m\u001b[1;33m,\u001b[0m \u001b[1;33m*\u001b[0m\u001b[1;33m(\u001b[0m\u001b[0mself\u001b[0m\u001b[1;33m.\u001b[0m\u001b[0madj\u001b[0m\u001b[1;33m.\u001b[0m\u001b[0mlen\u001b[0m\u001b[1;33m(\u001b[0m\u001b[0mx\u001b[0m\u001b[1;33m)\u001b[0m \u001b[1;32mfor\u001b[0m \u001b[0mx\u001b[0m \u001b[1;32min\u001b[0m \u001b[0mcheader\u001b[0m\u001b[1;33m)\u001b[0m\u001b[1;33m\u001b[0m\u001b[1;33m\u001b[0m\u001b[0m\n\u001b[0;32m    784\u001b[0m             )\n\u001b[1;32m--> 785\u001b[1;33m             \u001b[0mfmt_values\u001b[0m \u001b[1;33m=\u001b[0m \u001b[0mself\u001b[0m\u001b[1;33m.\u001b[0m\u001b[0mformat_col\u001b[0m\u001b[1;33m(\u001b[0m\u001b[0mi\u001b[0m\u001b[1;33m)\u001b[0m\u001b[1;33m\u001b[0m\u001b[1;33m\u001b[0m\u001b[0m\n\u001b[0m\u001b[0;32m    786\u001b[0m             fmt_values = _make_fixed_width(\n\u001b[0;32m    787\u001b[0m                 \u001b[0mfmt_values\u001b[0m\u001b[1;33m,\u001b[0m \u001b[0mself\u001b[0m\u001b[1;33m.\u001b[0m\u001b[0mjustify\u001b[0m\u001b[1;33m,\u001b[0m \u001b[0mminimum\u001b[0m\u001b[1;33m=\u001b[0m\u001b[0mheader_colwidth\u001b[0m\u001b[1;33m,\u001b[0m \u001b[0madj\u001b[0m\u001b[1;33m=\u001b[0m\u001b[0mself\u001b[0m\u001b[1;33m.\u001b[0m\u001b[0madj\u001b[0m\u001b[1;33m\u001b[0m\u001b[1;33m\u001b[0m\u001b[0m\n",
      "\u001b[1;32m~\\anaconda3\\lib\\site-packages\\pandas\\io\\formats\\format.py\u001b[0m in \u001b[0;36mformat_col\u001b[1;34m(self, i)\u001b[0m\n\u001b[0;32m    797\u001b[0m         \u001b[0mframe\u001b[0m \u001b[1;33m=\u001b[0m \u001b[0mself\u001b[0m\u001b[1;33m.\u001b[0m\u001b[0mtr_frame\u001b[0m\u001b[1;33m\u001b[0m\u001b[1;33m\u001b[0m\u001b[0m\n\u001b[0;32m    798\u001b[0m         \u001b[0mformatter\u001b[0m \u001b[1;33m=\u001b[0m \u001b[0mself\u001b[0m\u001b[1;33m.\u001b[0m\u001b[0m_get_formatter\u001b[0m\u001b[1;33m(\u001b[0m\u001b[0mi\u001b[0m\u001b[1;33m)\u001b[0m\u001b[1;33m\u001b[0m\u001b[1;33m\u001b[0m\u001b[0m\n\u001b[1;32m--> 799\u001b[1;33m         return format_array(\n\u001b[0m\u001b[0;32m    800\u001b[0m             \u001b[0mframe\u001b[0m\u001b[1;33m.\u001b[0m\u001b[0miloc\u001b[0m\u001b[1;33m[\u001b[0m\u001b[1;33m:\u001b[0m\u001b[1;33m,\u001b[0m \u001b[0mi\u001b[0m\u001b[1;33m]\u001b[0m\u001b[1;33m.\u001b[0m\u001b[0m_values\u001b[0m\u001b[1;33m,\u001b[0m\u001b[1;33m\u001b[0m\u001b[1;33m\u001b[0m\u001b[0m\n\u001b[0;32m    801\u001b[0m             \u001b[0mformatter\u001b[0m\u001b[1;33m,\u001b[0m\u001b[1;33m\u001b[0m\u001b[1;33m\u001b[0m\u001b[0m\n",
      "\u001b[1;32m~\\anaconda3\\lib\\site-packages\\pandas\\io\\formats\\format.py\u001b[0m in \u001b[0;36mformat_array\u001b[1;34m(values, formatter, float_format, na_rep, digits, space, justify, decimal, leading_space, quoting)\u001b[0m\n\u001b[0;32m   1216\u001b[0m     )\n\u001b[0;32m   1217\u001b[0m \u001b[1;33m\u001b[0m\u001b[0m\n\u001b[1;32m-> 1218\u001b[1;33m     \u001b[1;32mreturn\u001b[0m \u001b[0mfmt_obj\u001b[0m\u001b[1;33m.\u001b[0m\u001b[0mget_result\u001b[0m\u001b[1;33m(\u001b[0m\u001b[1;33m)\u001b[0m\u001b[1;33m\u001b[0m\u001b[1;33m\u001b[0m\u001b[0m\n\u001b[0m\u001b[0;32m   1219\u001b[0m \u001b[1;33m\u001b[0m\u001b[0m\n\u001b[0;32m   1220\u001b[0m \u001b[1;33m\u001b[0m\u001b[0m\n",
      "\u001b[1;32m~\\anaconda3\\lib\\site-packages\\pandas\\io\\formats\\format.py\u001b[0m in \u001b[0;36mget_result\u001b[1;34m(self)\u001b[0m\n\u001b[0;32m   1247\u001b[0m \u001b[1;33m\u001b[0m\u001b[0m\n\u001b[0;32m   1248\u001b[0m     \u001b[1;32mdef\u001b[0m \u001b[0mget_result\u001b[0m\u001b[1;33m(\u001b[0m\u001b[0mself\u001b[0m\u001b[1;33m)\u001b[0m \u001b[1;33m->\u001b[0m \u001b[0mList\u001b[0m\u001b[1;33m[\u001b[0m\u001b[0mstr\u001b[0m\u001b[1;33m]\u001b[0m\u001b[1;33m:\u001b[0m\u001b[1;33m\u001b[0m\u001b[1;33m\u001b[0m\u001b[0m\n\u001b[1;32m-> 1249\u001b[1;33m         \u001b[0mfmt_values\u001b[0m \u001b[1;33m=\u001b[0m \u001b[0mself\u001b[0m\u001b[1;33m.\u001b[0m\u001b[0m_format_strings\u001b[0m\u001b[1;33m(\u001b[0m\u001b[1;33m)\u001b[0m\u001b[1;33m\u001b[0m\u001b[1;33m\u001b[0m\u001b[0m\n\u001b[0m\u001b[0;32m   1250\u001b[0m         \u001b[1;32mreturn\u001b[0m \u001b[0m_make_fixed_width\u001b[0m\u001b[1;33m(\u001b[0m\u001b[0mfmt_values\u001b[0m\u001b[1;33m,\u001b[0m \u001b[0mself\u001b[0m\u001b[1;33m.\u001b[0m\u001b[0mjustify\u001b[0m\u001b[1;33m)\u001b[0m\u001b[1;33m\u001b[0m\u001b[1;33m\u001b[0m\u001b[0m\n\u001b[0;32m   1251\u001b[0m \u001b[1;33m\u001b[0m\u001b[0m\n",
      "\u001b[1;32m~\\anaconda3\\lib\\site-packages\\pandas\\io\\formats\\format.py\u001b[0m in \u001b[0;36m_format_strings\u001b[1;34m(self)\u001b[0m\n\u001b[0;32m   1306\u001b[0m         \u001b[1;32mfor\u001b[0m \u001b[0mi\u001b[0m\u001b[1;33m,\u001b[0m \u001b[0mv\u001b[0m \u001b[1;32min\u001b[0m \u001b[0menumerate\u001b[0m\u001b[1;33m(\u001b[0m\u001b[0mvals\u001b[0m\u001b[1;33m)\u001b[0m\u001b[1;33m:\u001b[0m\u001b[1;33m\u001b[0m\u001b[1;33m\u001b[0m\u001b[0m\n\u001b[0;32m   1307\u001b[0m             \u001b[1;32mif\u001b[0m \u001b[1;32mnot\u001b[0m \u001b[0mis_float_type\u001b[0m\u001b[1;33m[\u001b[0m\u001b[0mi\u001b[0m\u001b[1;33m]\u001b[0m \u001b[1;32mand\u001b[0m \u001b[0mleading_space\u001b[0m\u001b[1;33m:\u001b[0m\u001b[1;33m\u001b[0m\u001b[1;33m\u001b[0m\u001b[0m\n\u001b[1;32m-> 1308\u001b[1;33m                 \u001b[0mfmt_values\u001b[0m\u001b[1;33m.\u001b[0m\u001b[0mappend\u001b[0m\u001b[1;33m(\u001b[0m\u001b[1;34mf\" {_format(v)}\"\u001b[0m\u001b[1;33m)\u001b[0m\u001b[1;33m\u001b[0m\u001b[1;33m\u001b[0m\u001b[0m\n\u001b[0m\u001b[0;32m   1309\u001b[0m             \u001b[1;32melif\u001b[0m \u001b[0mis_float_type\u001b[0m\u001b[1;33m[\u001b[0m\u001b[0mi\u001b[0m\u001b[1;33m]\u001b[0m\u001b[1;33m:\u001b[0m\u001b[1;33m\u001b[0m\u001b[1;33m\u001b[0m\u001b[0m\n\u001b[0;32m   1310\u001b[0m                 \u001b[0mfmt_values\u001b[0m\u001b[1;33m.\u001b[0m\u001b[0mappend\u001b[0m\u001b[1;33m(\u001b[0m\u001b[0mfloat_format\u001b[0m\u001b[1;33m(\u001b[0m\u001b[0mv\u001b[0m\u001b[1;33m)\u001b[0m\u001b[1;33m)\u001b[0m\u001b[1;33m\u001b[0m\u001b[1;33m\u001b[0m\u001b[0m\n",
      "\u001b[1;32m~\\anaconda3\\lib\\site-packages\\pandas\\io\\formats\\format.py\u001b[0m in \u001b[0;36m_format\u001b[1;34m(x)\u001b[0m\n\u001b[0;32m   1290\u001b[0m             \u001b[1;32melse\u001b[0m\u001b[1;33m:\u001b[0m\u001b[1;33m\u001b[0m\u001b[1;33m\u001b[0m\u001b[0m\n\u001b[0;32m   1291\u001b[0m                 \u001b[1;31m# object dtype\u001b[0m\u001b[1;33m\u001b[0m\u001b[1;33m\u001b[0m\u001b[1;33m\u001b[0m\u001b[0m\n\u001b[1;32m-> 1292\u001b[1;33m                 \u001b[1;32mreturn\u001b[0m \u001b[0mstr\u001b[0m\u001b[1;33m(\u001b[0m\u001b[0mformatter\u001b[0m\u001b[1;33m(\u001b[0m\u001b[0mx\u001b[0m\u001b[1;33m)\u001b[0m\u001b[1;33m)\u001b[0m\u001b[1;33m\u001b[0m\u001b[1;33m\u001b[0m\u001b[0m\n\u001b[0m\u001b[0;32m   1293\u001b[0m \u001b[1;33m\u001b[0m\u001b[0m\n\u001b[0;32m   1294\u001b[0m         \u001b[0mvals\u001b[0m \u001b[1;33m=\u001b[0m \u001b[0mextract_array\u001b[0m\u001b[1;33m(\u001b[0m\u001b[0mself\u001b[0m\u001b[1;33m.\u001b[0m\u001b[0mvalues\u001b[0m\u001b[1;33m,\u001b[0m \u001b[0mextract_numpy\u001b[0m\u001b[1;33m=\u001b[0m\u001b[1;32mTrue\u001b[0m\u001b[1;33m)\u001b[0m\u001b[1;33m\u001b[0m\u001b[1;33m\u001b[0m\u001b[0m\n",
      "\u001b[1;32m~\\anaconda3\\lib\\site-packages\\pandas\\io\\formats\\printing.py\u001b[0m in \u001b[0;36mpprint_thing\u001b[1;34m(thing, _nest_lvl, escape_chars, default_escapes, quote_strings, max_seq_items)\u001b[0m\n\u001b[0;32m    223\u001b[0m         )\n\u001b[0;32m    224\u001b[0m     \u001b[1;32melif\u001b[0m \u001b[0mis_sequence\u001b[0m\u001b[1;33m(\u001b[0m\u001b[0mthing\u001b[0m\u001b[1;33m)\u001b[0m \u001b[1;32mand\u001b[0m \u001b[0m_nest_lvl\u001b[0m \u001b[1;33m<\u001b[0m \u001b[0mget_option\u001b[0m\u001b[1;33m(\u001b[0m\u001b[1;34m\"display.pprint_nest_depth\"\u001b[0m\u001b[1;33m)\u001b[0m\u001b[1;33m:\u001b[0m\u001b[1;33m\u001b[0m\u001b[1;33m\u001b[0m\u001b[0m\n\u001b[1;32m--> 225\u001b[1;33m         result = _pprint_seq(\n\u001b[0m\u001b[0;32m    226\u001b[0m             \u001b[0mthing\u001b[0m\u001b[1;33m,\u001b[0m\u001b[1;33m\u001b[0m\u001b[1;33m\u001b[0m\u001b[0m\n\u001b[0;32m    227\u001b[0m             \u001b[0m_nest_lvl\u001b[0m\u001b[1;33m,\u001b[0m\u001b[1;33m\u001b[0m\u001b[1;33m\u001b[0m\u001b[0m\n",
      "\u001b[1;32m~\\anaconda3\\lib\\site-packages\\pandas\\io\\formats\\printing.py\u001b[0m in \u001b[0;36m_pprint_seq\u001b[1;34m(seq, _nest_lvl, max_seq_items, **kwds)\u001b[0m\n\u001b[0;32m    120\u001b[0m     \u001b[0ms\u001b[0m \u001b[1;33m=\u001b[0m \u001b[0miter\u001b[0m\u001b[1;33m(\u001b[0m\u001b[0mseq\u001b[0m\u001b[1;33m)\u001b[0m\u001b[1;33m\u001b[0m\u001b[1;33m\u001b[0m\u001b[0m\n\u001b[0;32m    121\u001b[0m     \u001b[1;31m# handle sets, no slicing\u001b[0m\u001b[1;33m\u001b[0m\u001b[1;33m\u001b[0m\u001b[1;33m\u001b[0m\u001b[0m\n\u001b[1;32m--> 122\u001b[1;33m     r = [\n\u001b[0m\u001b[0;32m    123\u001b[0m         \u001b[0mpprint_thing\u001b[0m\u001b[1;33m(\u001b[0m\u001b[0mnext\u001b[0m\u001b[1;33m(\u001b[0m\u001b[0ms\u001b[0m\u001b[1;33m)\u001b[0m\u001b[1;33m,\u001b[0m \u001b[0m_nest_lvl\u001b[0m \u001b[1;33m+\u001b[0m \u001b[1;36m1\u001b[0m\u001b[1;33m,\u001b[0m \u001b[0mmax_seq_items\u001b[0m\u001b[1;33m=\u001b[0m\u001b[0mmax_seq_items\u001b[0m\u001b[1;33m,\u001b[0m \u001b[1;33m**\u001b[0m\u001b[0mkwds\u001b[0m\u001b[1;33m)\u001b[0m\u001b[1;33m\u001b[0m\u001b[1;33m\u001b[0m\u001b[0m\n\u001b[0;32m    124\u001b[0m         \u001b[1;32mfor\u001b[0m \u001b[0mi\u001b[0m \u001b[1;32min\u001b[0m \u001b[0mrange\u001b[0m\u001b[1;33m(\u001b[0m\u001b[0mmin\u001b[0m\u001b[1;33m(\u001b[0m\u001b[0mnitems\u001b[0m\u001b[1;33m,\u001b[0m \u001b[0mlen\u001b[0m\u001b[1;33m(\u001b[0m\u001b[0mseq\u001b[0m\u001b[1;33m)\u001b[0m\u001b[1;33m)\u001b[0m\u001b[1;33m)\u001b[0m\u001b[1;33m\u001b[0m\u001b[1;33m\u001b[0m\u001b[0m\n",
      "\u001b[1;32m~\\anaconda3\\lib\\site-packages\\pandas\\io\\formats\\printing.py\u001b[0m in \u001b[0;36m<listcomp>\u001b[1;34m(.0)\u001b[0m\n\u001b[0;32m    121\u001b[0m     \u001b[1;31m# handle sets, no slicing\u001b[0m\u001b[1;33m\u001b[0m\u001b[1;33m\u001b[0m\u001b[1;33m\u001b[0m\u001b[0m\n\u001b[0;32m    122\u001b[0m     r = [\n\u001b[1;32m--> 123\u001b[1;33m         \u001b[0mpprint_thing\u001b[0m\u001b[1;33m(\u001b[0m\u001b[0mnext\u001b[0m\u001b[1;33m(\u001b[0m\u001b[0ms\u001b[0m\u001b[1;33m)\u001b[0m\u001b[1;33m,\u001b[0m \u001b[0m_nest_lvl\u001b[0m \u001b[1;33m+\u001b[0m \u001b[1;36m1\u001b[0m\u001b[1;33m,\u001b[0m \u001b[0mmax_seq_items\u001b[0m\u001b[1;33m=\u001b[0m\u001b[0mmax_seq_items\u001b[0m\u001b[1;33m,\u001b[0m \u001b[1;33m**\u001b[0m\u001b[0mkwds\u001b[0m\u001b[1;33m)\u001b[0m\u001b[1;33m\u001b[0m\u001b[1;33m\u001b[0m\u001b[0m\n\u001b[0m\u001b[0;32m    124\u001b[0m         \u001b[1;32mfor\u001b[0m \u001b[0mi\u001b[0m \u001b[1;32min\u001b[0m \u001b[0mrange\u001b[0m\u001b[1;33m(\u001b[0m\u001b[0mmin\u001b[0m\u001b[1;33m(\u001b[0m\u001b[0mnitems\u001b[0m\u001b[1;33m,\u001b[0m \u001b[0mlen\u001b[0m\u001b[1;33m(\u001b[0m\u001b[0mseq\u001b[0m\u001b[1;33m)\u001b[0m\u001b[1;33m)\u001b[0m\u001b[1;33m)\u001b[0m\u001b[1;33m\u001b[0m\u001b[1;33m\u001b[0m\u001b[0m\n\u001b[0;32m    125\u001b[0m     ]\n",
      "\u001b[1;32m~\\anaconda3\\lib\\site-packages\\pandas\\io\\formats\\printing.py\u001b[0m in \u001b[0;36mpprint_thing\u001b[1;34m(thing, _nest_lvl, escape_chars, default_escapes, quote_strings, max_seq_items)\u001b[0m\n\u001b[0;32m    223\u001b[0m         )\n\u001b[0;32m    224\u001b[0m     \u001b[1;32melif\u001b[0m \u001b[0mis_sequence\u001b[0m\u001b[1;33m(\u001b[0m\u001b[0mthing\u001b[0m\u001b[1;33m)\u001b[0m \u001b[1;32mand\u001b[0m \u001b[0m_nest_lvl\u001b[0m \u001b[1;33m<\u001b[0m \u001b[0mget_option\u001b[0m\u001b[1;33m(\u001b[0m\u001b[1;34m\"display.pprint_nest_depth\"\u001b[0m\u001b[1;33m)\u001b[0m\u001b[1;33m:\u001b[0m\u001b[1;33m\u001b[0m\u001b[1;33m\u001b[0m\u001b[0m\n\u001b[1;32m--> 225\u001b[1;33m         result = _pprint_seq(\n\u001b[0m\u001b[0;32m    226\u001b[0m             \u001b[0mthing\u001b[0m\u001b[1;33m,\u001b[0m\u001b[1;33m\u001b[0m\u001b[1;33m\u001b[0m\u001b[0m\n\u001b[0;32m    227\u001b[0m             \u001b[0m_nest_lvl\u001b[0m\u001b[1;33m,\u001b[0m\u001b[1;33m\u001b[0m\u001b[1;33m\u001b[0m\u001b[0m\n",
      "\u001b[1;32m~\\anaconda3\\lib\\site-packages\\pandas\\io\\formats\\printing.py\u001b[0m in \u001b[0;36m_pprint_seq\u001b[1;34m(seq, _nest_lvl, max_seq_items, **kwds)\u001b[0m\n\u001b[0;32m    120\u001b[0m     \u001b[0ms\u001b[0m \u001b[1;33m=\u001b[0m \u001b[0miter\u001b[0m\u001b[1;33m(\u001b[0m\u001b[0mseq\u001b[0m\u001b[1;33m)\u001b[0m\u001b[1;33m\u001b[0m\u001b[1;33m\u001b[0m\u001b[0m\n\u001b[0;32m    121\u001b[0m     \u001b[1;31m# handle sets, no slicing\u001b[0m\u001b[1;33m\u001b[0m\u001b[1;33m\u001b[0m\u001b[1;33m\u001b[0m\u001b[0m\n\u001b[1;32m--> 122\u001b[1;33m     r = [\n\u001b[0m\u001b[0;32m    123\u001b[0m         \u001b[0mpprint_thing\u001b[0m\u001b[1;33m(\u001b[0m\u001b[0mnext\u001b[0m\u001b[1;33m(\u001b[0m\u001b[0ms\u001b[0m\u001b[1;33m)\u001b[0m\u001b[1;33m,\u001b[0m \u001b[0m_nest_lvl\u001b[0m \u001b[1;33m+\u001b[0m \u001b[1;36m1\u001b[0m\u001b[1;33m,\u001b[0m \u001b[0mmax_seq_items\u001b[0m\u001b[1;33m=\u001b[0m\u001b[0mmax_seq_items\u001b[0m\u001b[1;33m,\u001b[0m \u001b[1;33m**\u001b[0m\u001b[0mkwds\u001b[0m\u001b[1;33m)\u001b[0m\u001b[1;33m\u001b[0m\u001b[1;33m\u001b[0m\u001b[0m\n\u001b[0;32m    124\u001b[0m         \u001b[1;32mfor\u001b[0m \u001b[0mi\u001b[0m \u001b[1;32min\u001b[0m \u001b[0mrange\u001b[0m\u001b[1;33m(\u001b[0m\u001b[0mmin\u001b[0m\u001b[1;33m(\u001b[0m\u001b[0mnitems\u001b[0m\u001b[1;33m,\u001b[0m \u001b[0mlen\u001b[0m\u001b[1;33m(\u001b[0m\u001b[0mseq\u001b[0m\u001b[1;33m)\u001b[0m\u001b[1;33m)\u001b[0m\u001b[1;33m)\u001b[0m\u001b[1;33m\u001b[0m\u001b[1;33m\u001b[0m\u001b[0m\n",
      "\u001b[1;32m~\\anaconda3\\lib\\site-packages\\pandas\\io\\formats\\printing.py\u001b[0m in \u001b[0;36m<listcomp>\u001b[1;34m(.0)\u001b[0m\n\u001b[0;32m    121\u001b[0m     \u001b[1;31m# handle sets, no slicing\u001b[0m\u001b[1;33m\u001b[0m\u001b[1;33m\u001b[0m\u001b[1;33m\u001b[0m\u001b[0m\n\u001b[0;32m    122\u001b[0m     r = [\n\u001b[1;32m--> 123\u001b[1;33m         \u001b[0mpprint_thing\u001b[0m\u001b[1;33m(\u001b[0m\u001b[0mnext\u001b[0m\u001b[1;33m(\u001b[0m\u001b[0ms\u001b[0m\u001b[1;33m)\u001b[0m\u001b[1;33m,\u001b[0m \u001b[0m_nest_lvl\u001b[0m \u001b[1;33m+\u001b[0m \u001b[1;36m1\u001b[0m\u001b[1;33m,\u001b[0m \u001b[0mmax_seq_items\u001b[0m\u001b[1;33m=\u001b[0m\u001b[0mmax_seq_items\u001b[0m\u001b[1;33m,\u001b[0m \u001b[1;33m**\u001b[0m\u001b[0mkwds\u001b[0m\u001b[1;33m)\u001b[0m\u001b[1;33m\u001b[0m\u001b[1;33m\u001b[0m\u001b[0m\n\u001b[0m\u001b[0;32m    124\u001b[0m         \u001b[1;32mfor\u001b[0m \u001b[0mi\u001b[0m \u001b[1;32min\u001b[0m \u001b[0mrange\u001b[0m\u001b[1;33m(\u001b[0m\u001b[0mmin\u001b[0m\u001b[1;33m(\u001b[0m\u001b[0mnitems\u001b[0m\u001b[1;33m,\u001b[0m \u001b[0mlen\u001b[0m\u001b[1;33m(\u001b[0m\u001b[0mseq\u001b[0m\u001b[1;33m)\u001b[0m\u001b[1;33m)\u001b[0m\u001b[1;33m)\u001b[0m\u001b[1;33m\u001b[0m\u001b[1;33m\u001b[0m\u001b[0m\n\u001b[0;32m    125\u001b[0m     ]\n",
      "\u001b[1;32m~\\anaconda3\\lib\\site-packages\\pandas\\io\\formats\\printing.py\u001b[0m in \u001b[0;36mpprint_thing\u001b[1;34m(thing, _nest_lvl, escape_chars, default_escapes, quote_strings, max_seq_items)\u001b[0m\n\u001b[0;32m    223\u001b[0m         )\n\u001b[0;32m    224\u001b[0m     \u001b[1;32melif\u001b[0m \u001b[0mis_sequence\u001b[0m\u001b[1;33m(\u001b[0m\u001b[0mthing\u001b[0m\u001b[1;33m)\u001b[0m \u001b[1;32mand\u001b[0m \u001b[0m_nest_lvl\u001b[0m \u001b[1;33m<\u001b[0m \u001b[0mget_option\u001b[0m\u001b[1;33m(\u001b[0m\u001b[1;34m\"display.pprint_nest_depth\"\u001b[0m\u001b[1;33m)\u001b[0m\u001b[1;33m:\u001b[0m\u001b[1;33m\u001b[0m\u001b[1;33m\u001b[0m\u001b[0m\n\u001b[1;32m--> 225\u001b[1;33m         result = _pprint_seq(\n\u001b[0m\u001b[0;32m    226\u001b[0m             \u001b[0mthing\u001b[0m\u001b[1;33m,\u001b[0m\u001b[1;33m\u001b[0m\u001b[1;33m\u001b[0m\u001b[0m\n\u001b[0;32m    227\u001b[0m             \u001b[0m_nest_lvl\u001b[0m\u001b[1;33m,\u001b[0m\u001b[1;33m\u001b[0m\u001b[1;33m\u001b[0m\u001b[0m\n",
      "\u001b[1;32m~\\anaconda3\\lib\\site-packages\\pandas\\io\\formats\\printing.py\u001b[0m in \u001b[0;36m_pprint_seq\u001b[1;34m(seq, _nest_lvl, max_seq_items, **kwds)\u001b[0m\n\u001b[0;32m    120\u001b[0m     \u001b[0ms\u001b[0m \u001b[1;33m=\u001b[0m \u001b[0miter\u001b[0m\u001b[1;33m(\u001b[0m\u001b[0mseq\u001b[0m\u001b[1;33m)\u001b[0m\u001b[1;33m\u001b[0m\u001b[1;33m\u001b[0m\u001b[0m\n\u001b[0;32m    121\u001b[0m     \u001b[1;31m# handle sets, no slicing\u001b[0m\u001b[1;33m\u001b[0m\u001b[1;33m\u001b[0m\u001b[1;33m\u001b[0m\u001b[0m\n\u001b[1;32m--> 122\u001b[1;33m     r = [\n\u001b[0m\u001b[0;32m    123\u001b[0m         \u001b[0mpprint_thing\u001b[0m\u001b[1;33m(\u001b[0m\u001b[0mnext\u001b[0m\u001b[1;33m(\u001b[0m\u001b[0ms\u001b[0m\u001b[1;33m)\u001b[0m\u001b[1;33m,\u001b[0m \u001b[0m_nest_lvl\u001b[0m \u001b[1;33m+\u001b[0m \u001b[1;36m1\u001b[0m\u001b[1;33m,\u001b[0m \u001b[0mmax_seq_items\u001b[0m\u001b[1;33m=\u001b[0m\u001b[0mmax_seq_items\u001b[0m\u001b[1;33m,\u001b[0m \u001b[1;33m**\u001b[0m\u001b[0mkwds\u001b[0m\u001b[1;33m)\u001b[0m\u001b[1;33m\u001b[0m\u001b[1;33m\u001b[0m\u001b[0m\n\u001b[0;32m    124\u001b[0m         \u001b[1;32mfor\u001b[0m \u001b[0mi\u001b[0m \u001b[1;32min\u001b[0m \u001b[0mrange\u001b[0m\u001b[1;33m(\u001b[0m\u001b[0mmin\u001b[0m\u001b[1;33m(\u001b[0m\u001b[0mnitems\u001b[0m\u001b[1;33m,\u001b[0m \u001b[0mlen\u001b[0m\u001b[1;33m(\u001b[0m\u001b[0mseq\u001b[0m\u001b[1;33m)\u001b[0m\u001b[1;33m)\u001b[0m\u001b[1;33m)\u001b[0m\u001b[1;33m\u001b[0m\u001b[1;33m\u001b[0m\u001b[0m\n",
      "\u001b[1;32m~\\anaconda3\\lib\\site-packages\\pandas\\io\\formats\\printing.py\u001b[0m in \u001b[0;36m<listcomp>\u001b[1;34m(.0)\u001b[0m\n\u001b[0;32m    121\u001b[0m     \u001b[1;31m# handle sets, no slicing\u001b[0m\u001b[1;33m\u001b[0m\u001b[1;33m\u001b[0m\u001b[1;33m\u001b[0m\u001b[0m\n\u001b[0;32m    122\u001b[0m     r = [\n\u001b[1;32m--> 123\u001b[1;33m         \u001b[0mpprint_thing\u001b[0m\u001b[1;33m(\u001b[0m\u001b[0mnext\u001b[0m\u001b[1;33m(\u001b[0m\u001b[0ms\u001b[0m\u001b[1;33m)\u001b[0m\u001b[1;33m,\u001b[0m \u001b[0m_nest_lvl\u001b[0m \u001b[1;33m+\u001b[0m \u001b[1;36m1\u001b[0m\u001b[1;33m,\u001b[0m \u001b[0mmax_seq_items\u001b[0m\u001b[1;33m=\u001b[0m\u001b[0mmax_seq_items\u001b[0m\u001b[1;33m,\u001b[0m \u001b[1;33m**\u001b[0m\u001b[0mkwds\u001b[0m\u001b[1;33m)\u001b[0m\u001b[1;33m\u001b[0m\u001b[1;33m\u001b[0m\u001b[0m\n\u001b[0m\u001b[0;32m    124\u001b[0m         \u001b[1;32mfor\u001b[0m \u001b[0mi\u001b[0m \u001b[1;32min\u001b[0m \u001b[0mrange\u001b[0m\u001b[1;33m(\u001b[0m\u001b[0mmin\u001b[0m\u001b[1;33m(\u001b[0m\u001b[0mnitems\u001b[0m\u001b[1;33m,\u001b[0m \u001b[0mlen\u001b[0m\u001b[1;33m(\u001b[0m\u001b[0mseq\u001b[0m\u001b[1;33m)\u001b[0m\u001b[1;33m)\u001b[0m\u001b[1;33m)\u001b[0m\u001b[1;33m\u001b[0m\u001b[1;33m\u001b[0m\u001b[0m\n\u001b[0;32m    125\u001b[0m     ]\n",
      "\u001b[1;32m~\\anaconda3\\lib\\site-packages\\pandas\\io\\formats\\printing.py\u001b[0m in \u001b[0;36mpprint_thing\u001b[1;34m(thing, _nest_lvl, escape_chars, default_escapes, quote_strings, max_seq_items)\u001b[0m\n\u001b[0;32m    233\u001b[0m         \u001b[0mresult\u001b[0m \u001b[1;33m=\u001b[0m \u001b[1;34mf\"'{as_escaped_string(thing)}'\"\u001b[0m\u001b[1;33m\u001b[0m\u001b[1;33m\u001b[0m\u001b[0m\n\u001b[0;32m    234\u001b[0m     \u001b[1;32melse\u001b[0m\u001b[1;33m:\u001b[0m\u001b[1;33m\u001b[0m\u001b[1;33m\u001b[0m\u001b[0m\n\u001b[1;32m--> 235\u001b[1;33m         \u001b[0mresult\u001b[0m \u001b[1;33m=\u001b[0m \u001b[0mas_escaped_string\u001b[0m\u001b[1;33m(\u001b[0m\u001b[0mthing\u001b[0m\u001b[1;33m)\u001b[0m\u001b[1;33m\u001b[0m\u001b[1;33m\u001b[0m\u001b[0m\n\u001b[0m\u001b[0;32m    236\u001b[0m \u001b[1;33m\u001b[0m\u001b[0m\n\u001b[0;32m    237\u001b[0m     \u001b[1;32mreturn\u001b[0m \u001b[0mresult\u001b[0m\u001b[1;33m\u001b[0m\u001b[1;33m\u001b[0m\u001b[0m\n",
      "\u001b[1;32m~\\anaconda3\\lib\\site-packages\\pandas\\io\\formats\\printing.py\u001b[0m in \u001b[0;36mas_escaped_string\u001b[1;34m(thing, escape_chars)\u001b[0m\n\u001b[0;32m    211\u001b[0m         \u001b[0mresult\u001b[0m \u001b[1;33m=\u001b[0m \u001b[0mstr\u001b[0m\u001b[1;33m(\u001b[0m\u001b[0mthing\u001b[0m\u001b[1;33m)\u001b[0m\u001b[1;33m\u001b[0m\u001b[1;33m\u001b[0m\u001b[0m\n\u001b[0;32m    212\u001b[0m         \u001b[1;32mfor\u001b[0m \u001b[0mc\u001b[0m \u001b[1;32min\u001b[0m \u001b[0mescape_chars\u001b[0m\u001b[1;33m:\u001b[0m\u001b[1;33m\u001b[0m\u001b[1;33m\u001b[0m\u001b[0m\n\u001b[1;32m--> 213\u001b[1;33m             \u001b[0mresult\u001b[0m \u001b[1;33m=\u001b[0m \u001b[0mresult\u001b[0m\u001b[1;33m.\u001b[0m\u001b[0mreplace\u001b[0m\u001b[1;33m(\u001b[0m\u001b[0mc\u001b[0m\u001b[1;33m,\u001b[0m \u001b[0mtranslate\u001b[0m\u001b[1;33m[\u001b[0m\u001b[0mc\u001b[0m\u001b[1;33m]\u001b[0m\u001b[1;33m)\u001b[0m\u001b[1;33m\u001b[0m\u001b[1;33m\u001b[0m\u001b[0m\n\u001b[0m\u001b[0;32m    214\u001b[0m         \u001b[1;32mreturn\u001b[0m \u001b[0mresult\u001b[0m\u001b[1;33m\u001b[0m\u001b[1;33m\u001b[0m\u001b[0m\n\u001b[0;32m    215\u001b[0m \u001b[1;33m\u001b[0m\u001b[0m\n",
      "\u001b[1;31mKeyboardInterrupt\u001b[0m: "
     ]
    }
   ],
   "source": [
    "#Syntactic Features More Scores:\n",
    "cosinelist = []\n",
    "jaccardlist = []\n",
    "lemmajaccardlist = []\n",
    "overallsimilaritylist = []\n",
    "\n",
    "for index, row in train_df.iterrows():\n",
    "    cosine_score = compute_cosine_similarity(row['Text_Cleaned1'], row['Text_Cleaned2'])\n",
    "    jaccard_score = compute_jaccard_similarity(row['Text_Cleaned1'], row['Text_Cleaned2'])\n",
    "    lemma_jaccard_score = compute_lemma_jaccard_similarity(row['lemmatized_text1'], row['lemmatized_text2'])\n",
    "    overall_sim_score = overall_similarity_combined(row['Text_Cleaned1'], row['Text_Cleaned2'], row['lemmatized_text1'], row['lemmatized_text2'])\n",
    "    cosinelist.append(cosine_score)\n",
    "    jaccardlist.append(jaccard_score)\n",
    "    lemmajaccardlist.append(lemma_jaccard_score)\n",
    "    overallsimilaritylist.append(overall_sim_score)\n",
    "train_df['cosine_similarity_score2'] = cosinelist\n",
    "train_df['jaccard_similarity_score'] = jaccardlist\n",
    "train_df['lemma_jaccard_score'] = lemmajaccardlist\n",
    "train_df['overall_sim_score'] = overallsimilaritylist\n",
    "train_df"
   ]
  },
  {
   "cell_type": "code",
   "execution_count": 39,
   "id": "0cb58aff-dd0a-46e9-82ef-9e94d19a00cd",
   "metadata": {},
   "outputs": [],
   "source": [
    "df1 = train_df.iloc[:800]\n",
    "df2 = train_df.iloc[800:1600]\n",
    "df3 = train_df.iloc[1600:2400]\n",
    "df4 = train_df.iloc[2400:3200]\n",
    "df5 = train_df.iloc[3200:4077]"
   ]
  },
  {
   "cell_type": "code",
   "execution_count": 40,
   "id": "d8ff300b-ad79-4100-a91a-9d5e24b45f51",
   "metadata": {
    "tags": []
   },
   "outputs": [],
   "source": [
    "#Semantic Features:\n",
    "overallSimCombined = []\n",
    "overallSimWUP = []\n",
    "overallSimPath = []\n",
    "for index, row in df1.iterrows():\n",
    "    R3 = overall_similarity_combined_semantic(row['lemmatized_text1'], row['lemmatized_text2'])\n",
    "    R4 = overall_similarity_wup_similarity(row['lemmatized_text1'], row['lemmatized_text2'])\n",
    "    R5 = overall_similarity_path_similarity(row['lemmatized_text1'], row['lemmatized_text2'])\n",
    "    overallSimCombined.append(R3)\n",
    "    overallSimWUP.append(R4)\n",
    "    overallSimPath.append(R5)"
   ]
  },
  {
   "cell_type": "code",
   "execution_count": 41,
   "id": "6c928fff-2a73-4be8-b50b-bbc6b012423c",
   "metadata": {},
   "outputs": [],
   "source": [
    "for index, row in df2.iterrows():\n",
    "    R3 = overall_similarity_combined_semantic(row['lemmatized_text1'], row['lemmatized_text2'])\n",
    "    R4 = overall_similarity_wup_similarity(row['lemmatized_text1'], row['lemmatized_text2'])\n",
    "    R5 = overall_similarity_path_similarity(row['lemmatized_text1'], row['lemmatized_text2'])\n",
    "    overallSimCombined.append(R3)\n",
    "    overallSimWUP.append(R4)\n",
    "    overallSimPath.append(R5)"
   ]
  },
  {
   "cell_type": "code",
   "execution_count": 42,
   "id": "f77f8562-d9de-4fc9-a254-2c0fc268acf0",
   "metadata": {},
   "outputs": [],
   "source": [
    "for index, row in df3.iterrows():\n",
    "    R3 = overall_similarity_combined_semantic(row['lemmatized_text1'], row['lemmatized_text2'])\n",
    "    R4 = overall_similarity_wup_similarity(row['lemmatized_text1'], row['lemmatized_text2'])\n",
    "    R5 = overall_similarity_path_similarity(row['lemmatized_text1'], row['lemmatized_text2'])\n",
    "    overallSimCombined.append(R3)\n",
    "    overallSimWUP.append(R4)\n",
    "    overallSimPath.append(R5)"
   ]
  },
  {
   "cell_type": "code",
   "execution_count": 43,
   "id": "b78e8353-7596-4895-8339-e12b7fd80b34",
   "metadata": {},
   "outputs": [],
   "source": [
    "for index, row in df4.iterrows():\n",
    "    R3 = overall_similarity_combined_semantic(row['lemmatized_text1'], row['lemmatized_text2'])\n",
    "    R4 = overall_similarity_wup_similarity(row['lemmatized_text1'], row['lemmatized_text2'])\n",
    "    R5 = overall_similarity_path_similarity(row['lemmatized_text1'], row['lemmatized_text2'])\n",
    "    overallSimCombined.append(R3)\n",
    "    overallSimWUP.append(R4)\n",
    "    overallSimPath.append(R5)"
   ]
  },
  {
   "cell_type": "code",
   "execution_count": 44,
   "id": "66ff224d-9f3c-4025-8b63-53743f5fed3a",
   "metadata": {},
   "outputs": [],
   "source": [
    "for index, row in df5.iterrows():\n",
    "    R3 = overall_similarity_combined_semantic(row['lemmatized_text1'], row['lemmatized_text2'])\n",
    "    R4 = overall_similarity_wup_similarity(row['lemmatized_text1'], row['lemmatized_text2'])\n",
    "    R5 = overall_similarity_path_similarity(row['lemmatized_text1'], row['lemmatized_text2'])\n",
    "    overallSimCombined.append(R3)\n",
    "    overallSimWUP.append(R4)\n",
    "    overallSimPath.append(R5)"
   ]
  },
  {
   "cell_type": "code",
   "execution_count": 45,
   "id": "6e80d00a-7f42-4f70-9640-b14374e70a5e",
   "metadata": {},
   "outputs": [],
   "source": [
    "train_df = df1.append(df2).append(df3).append(df4).append(df5)"
   ]
  },
  {
   "cell_type": "code",
   "execution_count": 46,
   "id": "0966d830-9488-470d-842a-92390e2438e5",
   "metadata": {},
   "outputs": [
    {
     "data": {
      "text/html": [
       "<div>\n",
       "<style scoped>\n",
       "    .dataframe tbody tr th:only-of-type {\n",
       "        vertical-align: middle;\n",
       "    }\n",
       "\n",
       "    .dataframe tbody tr th {\n",
       "        vertical-align: top;\n",
       "    }\n",
       "\n",
       "    .dataframe thead th {\n",
       "        text-align: right;\n",
       "    }\n",
       "</style>\n",
       "<table border=\"1\" class=\"dataframe\">\n",
       "  <thead>\n",
       "    <tr style=\"text-align: right;\">\n",
       "      <th></th>\n",
       "      <th>id</th>\n",
       "      <th>sentence1</th>\n",
       "      <th>sentence2</th>\n",
       "      <th>classification</th>\n",
       "      <th>Text_Cleaned1</th>\n",
       "      <th>lemmatized_text1</th>\n",
       "      <th>Text_Cleaned2</th>\n",
       "      <th>lemmatized_text2</th>\n",
       "      <th>cosine_similarity_score</th>\n",
       "      <th>overall_similarity_score</th>\n",
       "      <th>cosine_similarity_score2</th>\n",
       "      <th>jaccard_similarity_score</th>\n",
       "      <th>lemma_jaccard_score</th>\n",
       "      <th>overall_sim_score</th>\n",
       "      <th>overall_similarity_combined_semantic</th>\n",
       "      <th>overall_similarity_wup_semantic</th>\n",
       "      <th>overall_similarity_path_semantic</th>\n",
       "    </tr>\n",
       "  </thead>\n",
       "  <tbody>\n",
       "    <tr>\n",
       "      <th>0</th>\n",
       "      <td>train_id_0</td>\n",
       "      <td>The Democratic candidates also began announcin...</td>\n",
       "      <td>The Democratic candidates also began announcin...</td>\n",
       "      <td>1</td>\n",
       "      <td>[democratic, candidates, also, began, announci...</td>\n",
       "      <td>[democratic, candidate, also, began, announcin...</td>\n",
       "      <td>[democratic, candidates, also, began, announci...</td>\n",
       "      <td>[democratic, candidate, also, began, announcin...</td>\n",
       "      <td>0.909509</td>\n",
       "      <td>0.856008</td>\n",
       "      <td>0.970143</td>\n",
       "      <td>0.833333</td>\n",
       "      <td>0.833333</td>\n",
       "      <td>0.878936</td>\n",
       "      <td>0.917869</td>\n",
       "      <td>0.919913</td>\n",
       "      <td>0.915825</td>\n",
       "    </tr>\n",
       "    <tr>\n",
       "      <th>1</th>\n",
       "      <td>train_id_1</td>\n",
       "      <td>The woman was exposed to the SARS virus while ...</td>\n",
       "      <td>The woman was exposed to the SARS virus while ...</td>\n",
       "      <td>1</td>\n",
       "      <td>[woman, exposed, sars, virus, hospital, health...</td>\n",
       "      <td>[woman, exposed, sars, virus, hospital, health...</td>\n",
       "      <td>[woman, exposed, sars, virus, hospital, health...</td>\n",
       "      <td>[woman, exposed, sars, virus, hospital, health...</td>\n",
       "      <td>0.904534</td>\n",
       "      <td>0.804030</td>\n",
       "      <td>0.954786</td>\n",
       "      <td>0.937500</td>\n",
       "      <td>0.937500</td>\n",
       "      <td>0.943262</td>\n",
       "      <td>0.873775</td>\n",
       "      <td>0.870098</td>\n",
       "      <td>0.877451</td>\n",
       "    </tr>\n",
       "    <tr>\n",
       "      <th>2</th>\n",
       "      <td>train_id_2</td>\n",
       "      <td>He said the problem needs to be corrected befo...</td>\n",
       "      <td>He said the prob lem needs to be corrected bef...</td>\n",
       "      <td>1</td>\n",
       "      <td>[said, problem, needs, corrected, space, shutt...</td>\n",
       "      <td>[said, problem, need, corrected, space, shuttl...</td>\n",
       "      <td>[said, prob, lem, needs, corrected, space, shu...</td>\n",
       "      <td>[said, prob, lem, need, corrected, space, shut...</td>\n",
       "      <td>0.666667</td>\n",
       "      <td>0.666667</td>\n",
       "      <td>1.000000</td>\n",
       "      <td>0.500000</td>\n",
       "      <td>0.636364</td>\n",
       "      <td>0.712121</td>\n",
       "      <td>0.780159</td>\n",
       "      <td>0.825926</td>\n",
       "      <td>0.741799</td>\n",
       "    </tr>\n",
       "    <tr>\n",
       "      <th>3</th>\n",
       "      <td>train_id_3</td>\n",
       "      <td>A representative for Phoenix-based U-Haul decl...</td>\n",
       "      <td>Anthony Citrano , a representative for WhenU ,...</td>\n",
       "      <td>0</td>\n",
       "      <td>[representative, phoenix, based, u, haul, decl...</td>\n",
       "      <td>[representative, phoenix, based, u, haul, decl...</td>\n",
       "      <td>[anthony, citrano, representative, whenu, decl...</td>\n",
       "      <td>[anthony, citrano, representative, whenu, decl...</td>\n",
       "      <td>0.455842</td>\n",
       "      <td>0.290081</td>\n",
       "      <td>0.797724</td>\n",
       "      <td>0.285714</td>\n",
       "      <td>0.285714</td>\n",
       "      <td>0.456384</td>\n",
       "      <td>0.577681</td>\n",
       "      <td>0.681597</td>\n",
       "      <td>0.526984</td>\n",
       "    </tr>\n",
       "    <tr>\n",
       "      <th>4</th>\n",
       "      <td>train_id_4</td>\n",
       "      <td>The biggest threat to order seemed to be looti...</td>\n",
       "      <td>The biggest threat to order seemed to be looti...</td>\n",
       "      <td>1</td>\n",
       "      <td>[biggest, threat, order, seemed, looting, crim...</td>\n",
       "      <td>[biggest, threat, order, seemed, looting, crim...</td>\n",
       "      <td>[biggest, threat, order, seemed, looting, crim...</td>\n",
       "      <td>[biggest, threat, order, seemed, looting, crim...</td>\n",
       "      <td>0.721688</td>\n",
       "      <td>0.541266</td>\n",
       "      <td>0.866025</td>\n",
       "      <td>0.555556</td>\n",
       "      <td>0.555556</td>\n",
       "      <td>0.659046</td>\n",
       "      <td>0.806662</td>\n",
       "      <td>0.818681</td>\n",
       "      <td>0.794643</td>\n",
       "    </tr>\n",
       "    <tr>\n",
       "      <th>...</th>\n",
       "      <td>...</td>\n",
       "      <td>...</td>\n",
       "      <td>...</td>\n",
       "      <td>...</td>\n",
       "      <td>...</td>\n",
       "      <td>...</td>\n",
       "      <td>...</td>\n",
       "      <td>...</td>\n",
       "      <td>...</td>\n",
       "      <td>...</td>\n",
       "      <td>...</td>\n",
       "      <td>...</td>\n",
       "      <td>...</td>\n",
       "      <td>...</td>\n",
       "      <td>...</td>\n",
       "      <td>...</td>\n",
       "      <td>...</td>\n",
       "    </tr>\n",
       "    <tr>\n",
       "      <th>4072</th>\n",
       "      <td>train_id_4072</td>\n",
       "      <td>Axelrod died in his sleep of heart failure , s...</td>\n",
       "      <td>Axelrod died of heart failure while asleep at ...</td>\n",
       "      <td>1</td>\n",
       "      <td>[axelrod, died, sleep, heart, failure, said, d...</td>\n",
       "      <td>[axelrod, died, sleep, heart, failure, said, d...</td>\n",
       "      <td>[axelrod, died, heart, failure, asleep, los, a...</td>\n",
       "      <td>[axelrod, died, heart, failure, asleep, los, a...</td>\n",
       "      <td>0.805823</td>\n",
       "      <td>0.604367</td>\n",
       "      <td>0.886405</td>\n",
       "      <td>0.583333</td>\n",
       "      <td>0.583333</td>\n",
       "      <td>0.684357</td>\n",
       "      <td>0.504819</td>\n",
       "      <td>0.534127</td>\n",
       "      <td>0.485714</td>\n",
       "    </tr>\n",
       "    <tr>\n",
       "      <th>4073</th>\n",
       "      <td>train_id_4073</td>\n",
       "      <td>Saddam 's other son , Odai , surrendered Frida...</td>\n",
       "      <td>Hussein 's other son , Uday , surrendered yest...</td>\n",
       "      <td>1</td>\n",
       "      <td>[saddam, son, odai, surrendered, friday, ameri...</td>\n",
       "      <td>[saddam, son, odai, surrendered, friday, ameri...</td>\n",
       "      <td>[hussein, son, uday, surrendered, yesterday, a...</td>\n",
       "      <td>[hussein, son, uday, surrendered, yesterday, a...</td>\n",
       "      <td>0.600000</td>\n",
       "      <td>0.600000</td>\n",
       "      <td>1.000000</td>\n",
       "      <td>0.428571</td>\n",
       "      <td>0.538462</td>\n",
       "      <td>0.655678</td>\n",
       "      <td>0.883333</td>\n",
       "      <td>0.883333</td>\n",
       "      <td>0.883333</td>\n",
       "    </tr>\n",
       "    <tr>\n",
       "      <th>4074</th>\n",
       "      <td>train_id_4074</td>\n",
       "      <td>If Senator Clinton does decide to run in 2008 ...</td>\n",
       "      <td>If Mrs Clinton does decide to contest the 2008...</td>\n",
       "      <td>1</td>\n",
       "      <td>[senator, clinton, decide, run, 2008, cannot, ...</td>\n",
       "      <td>[senator, clinton, decide, run, 2008, cannot, ...</td>\n",
       "      <td>[mrs, clinton, decide, contest, 2008, election...</td>\n",
       "      <td>[mr, clinton, decide, contest, 2008, election,...</td>\n",
       "      <td>0.819892</td>\n",
       "      <td>0.756823</td>\n",
       "      <td>0.968963</td>\n",
       "      <td>0.714286</td>\n",
       "      <td>0.714286</td>\n",
       "      <td>0.799178</td>\n",
       "      <td>0.758261</td>\n",
       "      <td>0.791613</td>\n",
       "      <td>0.740000</td>\n",
       "    </tr>\n",
       "    <tr>\n",
       "      <th>4075</th>\n",
       "      <td>train_id_4075</td>\n",
       "      <td>The Iranian refugee who sewed up his eyes , li...</td>\n",
       "      <td>An Iranian Kurd who stitched up his eyes , lip...</td>\n",
       "      <td>1</td>\n",
       "      <td>[iranian, refugee, sewed, eyes, lips, ears, pr...</td>\n",
       "      <td>[iranian, refugee, sewed, eye, lip, ear, prote...</td>\n",
       "      <td>[iranian, kurd, stitched, eyes, lips, ears, pr...</td>\n",
       "      <td>[iranian, kurd, stitched, eye, lip, ear, prote...</td>\n",
       "      <td>0.560449</td>\n",
       "      <td>0.517337</td>\n",
       "      <td>0.960769</td>\n",
       "      <td>0.388889</td>\n",
       "      <td>0.388889</td>\n",
       "      <td>0.579516</td>\n",
       "      <td>0.631617</td>\n",
       "      <td>0.700889</td>\n",
       "      <td>0.562857</td>\n",
       "    </tr>\n",
       "    <tr>\n",
       "      <th>4076</th>\n",
       "      <td>train_id_4076</td>\n",
       "      <td>Gemstar 's shares gathered up 2.6 percent , ad...</td>\n",
       "      <td>Gemstar shares moved higher on the news , clos...</td>\n",
       "      <td>1</td>\n",
       "      <td>[gemstar, shares, gathered, 2, 6, percent, add...</td>\n",
       "      <td>[gemstar, share, gathered, 2, 6, percent, addi...</td>\n",
       "      <td>[gemstar, shares, moved, higher, news, closing...</td>\n",
       "      <td>[gemstar, share, moved, higher, news, closing,...</td>\n",
       "      <td>0.583333</td>\n",
       "      <td>0.583333</td>\n",
       "      <td>1.000000</td>\n",
       "      <td>0.411765</td>\n",
       "      <td>0.411765</td>\n",
       "      <td>0.607843</td>\n",
       "      <td>0.631049</td>\n",
       "      <td>0.687302</td>\n",
       "      <td>0.592460</td>\n",
       "    </tr>\n",
       "  </tbody>\n",
       "</table>\n",
       "<p>4077 rows × 17 columns</p>\n",
       "</div>"
      ],
      "text/plain": [
       "                 id                                          sentence1  \\\n",
       "0        train_id_0  The Democratic candidates also began announcin...   \n",
       "1        train_id_1  The woman was exposed to the SARS virus while ...   \n",
       "2        train_id_2  He said the problem needs to be corrected befo...   \n",
       "3        train_id_3  A representative for Phoenix-based U-Haul decl...   \n",
       "4        train_id_4  The biggest threat to order seemed to be looti...   \n",
       "...             ...                                                ...   \n",
       "4072  train_id_4072  Axelrod died in his sleep of heart failure , s...   \n",
       "4073  train_id_4073  Saddam 's other son , Odai , surrendered Frida...   \n",
       "4074  train_id_4074  If Senator Clinton does decide to run in 2008 ...   \n",
       "4075  train_id_4075  The Iranian refugee who sewed up his eyes , li...   \n",
       "4076  train_id_4076  Gemstar 's shares gathered up 2.6 percent , ad...   \n",
       "\n",
       "                                              sentence2  classification  \\\n",
       "0     The Democratic candidates also began announcin...               1   \n",
       "1     The woman was exposed to the SARS virus while ...               1   \n",
       "2     He said the prob lem needs to be corrected bef...               1   \n",
       "3     Anthony Citrano , a representative for WhenU ,...               0   \n",
       "4     The biggest threat to order seemed to be looti...               1   \n",
       "...                                                 ...             ...   \n",
       "4072  Axelrod died of heart failure while asleep at ...               1   \n",
       "4073  Hussein 's other son , Uday , surrendered yest...               1   \n",
       "4074  If Mrs Clinton does decide to contest the 2008...               1   \n",
       "4075  An Iranian Kurd who stitched up his eyes , lip...               1   \n",
       "4076  Gemstar shares moved higher on the news , clos...               1   \n",
       "\n",
       "                                          Text_Cleaned1  \\\n",
       "0     [democratic, candidates, also, began, announci...   \n",
       "1     [woman, exposed, sars, virus, hospital, health...   \n",
       "2     [said, problem, needs, corrected, space, shutt...   \n",
       "3     [representative, phoenix, based, u, haul, decl...   \n",
       "4     [biggest, threat, order, seemed, looting, crim...   \n",
       "...                                                 ...   \n",
       "4072  [axelrod, died, sleep, heart, failure, said, d...   \n",
       "4073  [saddam, son, odai, surrendered, friday, ameri...   \n",
       "4074  [senator, clinton, decide, run, 2008, cannot, ...   \n",
       "4075  [iranian, refugee, sewed, eyes, lips, ears, pr...   \n",
       "4076  [gemstar, shares, gathered, 2, 6, percent, add...   \n",
       "\n",
       "                                       lemmatized_text1  \\\n",
       "0     [democratic, candidate, also, began, announcin...   \n",
       "1     [woman, exposed, sars, virus, hospital, health...   \n",
       "2     [said, problem, need, corrected, space, shuttl...   \n",
       "3     [representative, phoenix, based, u, haul, decl...   \n",
       "4     [biggest, threat, order, seemed, looting, crim...   \n",
       "...                                                 ...   \n",
       "4072  [axelrod, died, sleep, heart, failure, said, d...   \n",
       "4073  [saddam, son, odai, surrendered, friday, ameri...   \n",
       "4074  [senator, clinton, decide, run, 2008, cannot, ...   \n",
       "4075  [iranian, refugee, sewed, eye, lip, ear, prote...   \n",
       "4076  [gemstar, share, gathered, 2, 6, percent, addi...   \n",
       "\n",
       "                                          Text_Cleaned2  \\\n",
       "0     [democratic, candidates, also, began, announci...   \n",
       "1     [woman, exposed, sars, virus, hospital, health...   \n",
       "2     [said, prob, lem, needs, corrected, space, shu...   \n",
       "3     [anthony, citrano, representative, whenu, decl...   \n",
       "4     [biggest, threat, order, seemed, looting, crim...   \n",
       "...                                                 ...   \n",
       "4072  [axelrod, died, heart, failure, asleep, los, a...   \n",
       "4073  [hussein, son, uday, surrendered, yesterday, a...   \n",
       "4074  [mrs, clinton, decide, contest, 2008, election...   \n",
       "4075  [iranian, kurd, stitched, eyes, lips, ears, pr...   \n",
       "4076  [gemstar, shares, moved, higher, news, closing...   \n",
       "\n",
       "                                       lemmatized_text2  \\\n",
       "0     [democratic, candidate, also, began, announcin...   \n",
       "1     [woman, exposed, sars, virus, hospital, health...   \n",
       "2     [said, prob, lem, need, corrected, space, shut...   \n",
       "3     [anthony, citrano, representative, whenu, decl...   \n",
       "4     [biggest, threat, order, seemed, looting, crim...   \n",
       "...                                                 ...   \n",
       "4072  [axelrod, died, heart, failure, asleep, los, a...   \n",
       "4073  [hussein, son, uday, surrendered, yesterday, a...   \n",
       "4074  [mr, clinton, decide, contest, 2008, election,...   \n",
       "4075  [iranian, kurd, stitched, eye, lip, ear, prote...   \n",
       "4076  [gemstar, share, moved, higher, news, closing,...   \n",
       "\n",
       "      cosine_similarity_score  overall_similarity_score  \\\n",
       "0                    0.909509                  0.856008   \n",
       "1                    0.904534                  0.804030   \n",
       "2                    0.666667                  0.666667   \n",
       "3                    0.455842                  0.290081   \n",
       "4                    0.721688                  0.541266   \n",
       "...                       ...                       ...   \n",
       "4072                 0.805823                  0.604367   \n",
       "4073                 0.600000                  0.600000   \n",
       "4074                 0.819892                  0.756823   \n",
       "4075                 0.560449                  0.517337   \n",
       "4076                 0.583333                  0.583333   \n",
       "\n",
       "      cosine_similarity_score2  jaccard_similarity_score  lemma_jaccard_score  \\\n",
       "0                     0.970143                  0.833333             0.833333   \n",
       "1                     0.954786                  0.937500             0.937500   \n",
       "2                     1.000000                  0.500000             0.636364   \n",
       "3                     0.797724                  0.285714             0.285714   \n",
       "4                     0.866025                  0.555556             0.555556   \n",
       "...                        ...                       ...                  ...   \n",
       "4072                  0.886405                  0.583333             0.583333   \n",
       "4073                  1.000000                  0.428571             0.538462   \n",
       "4074                  0.968963                  0.714286             0.714286   \n",
       "4075                  0.960769                  0.388889             0.388889   \n",
       "4076                  1.000000                  0.411765             0.411765   \n",
       "\n",
       "      overall_sim_score  overall_similarity_combined_semantic  \\\n",
       "0              0.878936                              0.917869   \n",
       "1              0.943262                              0.873775   \n",
       "2              0.712121                              0.780159   \n",
       "3              0.456384                              0.577681   \n",
       "4              0.659046                              0.806662   \n",
       "...                 ...                                   ...   \n",
       "4072           0.684357                              0.504819   \n",
       "4073           0.655678                              0.883333   \n",
       "4074           0.799178                              0.758261   \n",
       "4075           0.579516                              0.631617   \n",
       "4076           0.607843                              0.631049   \n",
       "\n",
       "      overall_similarity_wup_semantic  overall_similarity_path_semantic  \n",
       "0                            0.919913                          0.915825  \n",
       "1                            0.870098                          0.877451  \n",
       "2                            0.825926                          0.741799  \n",
       "3                            0.681597                          0.526984  \n",
       "4                            0.818681                          0.794643  \n",
       "...                               ...                               ...  \n",
       "4072                         0.534127                          0.485714  \n",
       "4073                         0.883333                          0.883333  \n",
       "4074                         0.791613                          0.740000  \n",
       "4075                         0.700889                          0.562857  \n",
       "4076                         0.687302                          0.592460  \n",
       "\n",
       "[4077 rows x 17 columns]"
      ]
     },
     "execution_count": 46,
     "metadata": {},
     "output_type": "execute_result"
    }
   ],
   "source": [
    "train_df['overall_similarity_combined_semantic'] = overallSimCombined\n",
    "train_df['overall_similarity_wup_semantic'] = overallSimWUP\n",
    "train_df['overall_similarity_path_semantic'] = overallSimPath\n",
    "train_df "
   ]
  },
  {
   "cell_type": "code",
   "execution_count": 47,
   "id": "4d968c67-d073-4810-81cc-9bbc1e9dd012",
   "metadata": {},
   "outputs": [],
   "source": [
    "train_df.to_csv(\"train_df\", index = False)"
   ]
  },
  {
   "cell_type": "markdown",
   "id": "f6fb445c-e58c-4ace-be0b-ca2cac696d5c",
   "metadata": {},
   "source": [
    "### Development Dataset Pre-Processing:"
   ]
  },
  {
   "cell_type": "code",
   "execution_count": 56,
   "id": "2e9d4527-6d18-4519-91c2-ce4eea6738ff",
   "metadata": {},
   "outputs": [],
   "source": [
    "#Validation Dataset:\n",
    "dev_df = pd.read_csv(\"dev_with_label.txt\", delimiter = \"r'\\t\", header = None, engine = 'python')\n",
    "dev_df = dev_df[0].str.split(\"\\t\", expand=True)\n",
    "dev_df = dev_df.rename(columns={0: \"id\", 1: \"sentence1\", 2: \"sentence2\", 3: \"classification\"})\n",
    "dev_df[\"classification\"] = pd.to_numeric(dev_df[\"classification\"])\n",
    "dev_df.drop_duplicates(inplace = True)\n",
    "\n",
    "lemm = nltk.stem.WordNetLemmatizer()\n",
    "\n",
    "dev_df['Text_Cleaned1'] = list(map(clean_text, dev_df.sentence1))\n",
    "dev_df['lemmatized_text1'] = list(map(lambda word:list(map(lemm.lemmatize, word)),dev_df.Text_Cleaned1))\n",
    "dev_df['Text_Cleaned2'] = list(map(clean_text, dev_df.sentence2))\n",
    "dev_df['lemmatized_text2'] = list(map(lambda word:list(map(lemm.lemmatize, word)),dev_df.Text_Cleaned2))"
   ]
  },
  {
   "cell_type": "code",
   "execution_count": 57,
   "id": "d2827f55-bfc4-494a-86d8-a4dcadb73e49",
   "metadata": {
    "tags": []
   },
   "outputs": [
    {
     "data": {
      "text/html": [
       "<div>\n",
       "<style scoped>\n",
       "    .dataframe tbody tr th:only-of-type {\n",
       "        vertical-align: middle;\n",
       "    }\n",
       "\n",
       "    .dataframe tbody tr th {\n",
       "        vertical-align: top;\n",
       "    }\n",
       "\n",
       "    .dataframe thead th {\n",
       "        text-align: right;\n",
       "    }\n",
       "</style>\n",
       "<table border=\"1\" class=\"dataframe\">\n",
       "  <thead>\n",
       "    <tr style=\"text-align: right;\">\n",
       "      <th></th>\n",
       "      <th>id</th>\n",
       "      <th>sentence1</th>\n",
       "      <th>sentence2</th>\n",
       "      <th>classification</th>\n",
       "      <th>Text_Cleaned1</th>\n",
       "      <th>lemmatized_text1</th>\n",
       "      <th>Text_Cleaned2</th>\n",
       "      <th>lemmatized_text2</th>\n",
       "      <th>cosine_similarity_score</th>\n",
       "      <th>overall_similarity_score</th>\n",
       "      <th>cosine_similarity_score2</th>\n",
       "      <th>jaccard_similarity_score</th>\n",
       "      <th>lemma_jaccard_score</th>\n",
       "      <th>overall_sim_score</th>\n",
       "    </tr>\n",
       "  </thead>\n",
       "  <tbody>\n",
       "    <tr>\n",
       "      <th>0</th>\n",
       "      <td>dev_id_0</td>\n",
       "      <td>Local police authorities are treating the expl...</td>\n",
       "      <td>Acting New Haven Police Chief Francisco Ortiz ...</td>\n",
       "      <td>0</td>\n",
       "      <td>[local, police, authorities, treating, explosi...</td>\n",
       "      <td>[local, police, authority, treating, explosion...</td>\n",
       "      <td>[acting, new, police, chief, francisco, ortiz,...</td>\n",
       "      <td>[acting, new, police, chief, francisco, ortiz,...</td>\n",
       "      <td>0.534522</td>\n",
       "      <td>0.400892</td>\n",
       "      <td>0.890871</td>\n",
       "      <td>0.333333</td>\n",
       "      <td>0.333333</td>\n",
       "      <td>0.519179</td>\n",
       "    </tr>\n",
       "    <tr>\n",
       "      <th>1</th>\n",
       "      <td>dev_id_1</td>\n",
       "      <td>The report shows that drugs sold in Canadian p...</td>\n",
       "      <td>The report shows that drugs sold in Canadian p...</td>\n",
       "      <td>1</td>\n",
       "      <td>[report, shows, drugs, sold, canadian, pharmac...</td>\n",
       "      <td>[report, show, drug, sold, canadian, pharmacy,...</td>\n",
       "      <td>[report, shows, drugs, sold, canadian, pharmac...</td>\n",
       "      <td>[report, show, drug, sold, canadian, pharmacy,...</td>\n",
       "      <td>0.802955</td>\n",
       "      <td>0.661257</td>\n",
       "      <td>0.860309</td>\n",
       "      <td>0.705882</td>\n",
       "      <td>0.705882</td>\n",
       "      <td>0.757358</td>\n",
       "    </tr>\n",
       "    <tr>\n",
       "      <th>2</th>\n",
       "      <td>dev_id_2</td>\n",
       "      <td>The transition is slated to begin no later tha...</td>\n",
       "      <td>A two-week transition period will begin no lat...</td>\n",
       "      <td>1</td>\n",
       "      <td>[transition, slated, begin, later, june, 7, da...</td>\n",
       "      <td>[transition, slated, begin, later, june, 7, da...</td>\n",
       "      <td>[two, week, transition, period, begin, later, ...</td>\n",
       "      <td>[two, week, transition, period, begin, later, ...</td>\n",
       "      <td>0.625000</td>\n",
       "      <td>0.625000</td>\n",
       "      <td>1.000000</td>\n",
       "      <td>0.454545</td>\n",
       "      <td>0.454545</td>\n",
       "      <td>0.636364</td>\n",
       "    </tr>\n",
       "    <tr>\n",
       "      <th>3</th>\n",
       "      <td>dev_id_3</td>\n",
       "      <td>Like Viacom , GE -- parent of NBC -- is also s...</td>\n",
       "      <td>Like Viacom , General Electric is seen as a le...</td>\n",
       "      <td>1</td>\n",
       "      <td>[like, viacom, ge, parent, nbc, also, seen, le...</td>\n",
       "      <td>[like, viacom, ge, parent, nbc, also, seen, le...</td>\n",
       "      <td>[like, viacom, general, electric, seen, less, ...</td>\n",
       "      <td>[like, viacom, general, electric, seen, le, en...</td>\n",
       "      <td>0.725241</td>\n",
       "      <td>0.569832</td>\n",
       "      <td>0.886405</td>\n",
       "      <td>0.562500</td>\n",
       "      <td>0.600000</td>\n",
       "      <td>0.682968</td>\n",
       "    </tr>\n",
       "    <tr>\n",
       "      <th>4</th>\n",
       "      <td>dev_id_4</td>\n",
       "      <td>Last month , 62 Spanish peacekeepers died when...</td>\n",
       "      <td>In another disaster , 62 Spanish peacekeepers ...</td>\n",
       "      <td>1</td>\n",
       "      <td>[last, month, 62, spanish, peacekeepers, died,...</td>\n",
       "      <td>[last, month, 62, spanish, peacekeeper, died, ...</td>\n",
       "      <td>[another, disaster, 62, spanish, peacekeepers,...</td>\n",
       "      <td>[another, disaster, 62, spanish, peacekeeper, ...</td>\n",
       "      <td>0.585369</td>\n",
       "      <td>0.495313</td>\n",
       "      <td>0.919866</td>\n",
       "      <td>0.411765</td>\n",
       "      <td>0.411765</td>\n",
       "      <td>0.581132</td>\n",
       "    </tr>\n",
       "    <tr>\n",
       "      <th>...</th>\n",
       "      <td>...</td>\n",
       "      <td>...</td>\n",
       "      <td>...</td>\n",
       "      <td>...</td>\n",
       "      <td>...</td>\n",
       "      <td>...</td>\n",
       "      <td>...</td>\n",
       "      <td>...</td>\n",
       "      <td>...</td>\n",
       "      <td>...</td>\n",
       "      <td>...</td>\n",
       "      <td>...</td>\n",
       "      <td>...</td>\n",
       "      <td>...</td>\n",
       "    </tr>\n",
       "    <tr>\n",
       "      <th>719</th>\n",
       "      <td>dev_id_719</td>\n",
       "      <td>He is a brother to three-year-old Mia , from K...</td>\n",
       "      <td>Winslet , 28 , has a three-year-old daughter M...</td>\n",
       "      <td>0</td>\n",
       "      <td>[brother, three, year, old, mia, kate, first, ...</td>\n",
       "      <td>[brother, three, year, old, mia, kate, first, ...</td>\n",
       "      <td>[winslet, 28, three, year, old, daughter, mia,...</td>\n",
       "      <td>[winslet, 28, three, year, old, daughter, mia,...</td>\n",
       "      <td>0.694365</td>\n",
       "      <td>0.595170</td>\n",
       "      <td>0.925820</td>\n",
       "      <td>0.529412</td>\n",
       "      <td>0.529412</td>\n",
       "      <td>0.661548</td>\n",
       "    </tr>\n",
       "    <tr>\n",
       "      <th>720</th>\n",
       "      <td>dev_id_720</td>\n",
       "      <td>Some 175 million shares traded on the Big Boar...</td>\n",
       "      <td>Some 1.6 billion shares traded on the Big Boar...</td>\n",
       "      <td>0</td>\n",
       "      <td>[175, million, shares, traded, big, board, 7, ...</td>\n",
       "      <td>[175, million, share, traded, big, board, 7, p...</td>\n",
       "      <td>[1, 6, billion, shares, traded, big, board, 17...</td>\n",
       "      <td>[1, 6, billion, share, traded, big, board, 17,...</td>\n",
       "      <td>0.462910</td>\n",
       "      <td>0.396780</td>\n",
       "      <td>0.925820</td>\n",
       "      <td>0.300000</td>\n",
       "      <td>0.300000</td>\n",
       "      <td>0.508607</td>\n",
       "    </tr>\n",
       "    <tr>\n",
       "      <th>721</th>\n",
       "      <td>dev_id_721</td>\n",
       "      <td>Mr Berlusconi is accused of bribing judges to ...</td>\n",
       "      <td>Mr Berlusconi is accused of bribing judges to ...</td>\n",
       "      <td>1</td>\n",
       "      <td>[mr, berlusconi, accused, bribing, judges, inf...</td>\n",
       "      <td>[mr, berlusconi, accused, bribing, judge, infl...</td>\n",
       "      <td>[mr, berlusconi, accused, bribing, judges, inf...</td>\n",
       "      <td>[mr, berlusconi, accused, bribing, judge, infl...</td>\n",
       "      <td>0.716115</td>\n",
       "      <td>0.620633</td>\n",
       "      <td>0.930949</td>\n",
       "      <td>0.555556</td>\n",
       "      <td>0.555556</td>\n",
       "      <td>0.680687</td>\n",
       "    </tr>\n",
       "    <tr>\n",
       "      <th>722</th>\n",
       "      <td>dev_id_722</td>\n",
       "      <td>He added that those \" are not solely American ...</td>\n",
       "      <td>\" These are not solely American principles nor...</td>\n",
       "      <td>1</td>\n",
       "      <td>[added, solely, american, principles, exclusiv...</td>\n",
       "      <td>[added, solely, american, principle, exclusive...</td>\n",
       "      <td>[solely, american, principles, exclusively, we...</td>\n",
       "      <td>[solely, american, principle, exclusively, wes...</td>\n",
       "      <td>0.771517</td>\n",
       "      <td>0.661300</td>\n",
       "      <td>0.925820</td>\n",
       "      <td>0.625000</td>\n",
       "      <td>0.625000</td>\n",
       "      <td>0.725273</td>\n",
       "    </tr>\n",
       "    <tr>\n",
       "      <th>723</th>\n",
       "      <td>dev_id_723</td>\n",
       "      <td>Memories also live on of the bloody debacle in...</td>\n",
       "      <td>Memories also live on of a bloody debacle in S...</td>\n",
       "      <td>1</td>\n",
       "      <td>[memories, also, live, bloody, debacle, somali...</td>\n",
       "      <td>[memory, also, live, bloody, debacle, somalia,...</td>\n",
       "      <td>[memories, also, live, bloody, debacle, somali...</td>\n",
       "      <td>[memory, also, live, bloody, debacle, somalia,...</td>\n",
       "      <td>0.828079</td>\n",
       "      <td>0.772873</td>\n",
       "      <td>0.966092</td>\n",
       "      <td>0.705882</td>\n",
       "      <td>0.812500</td>\n",
       "      <td>0.828158</td>\n",
       "    </tr>\n",
       "  </tbody>\n",
       "</table>\n",
       "<p>724 rows × 14 columns</p>\n",
       "</div>"
      ],
      "text/plain": [
       "             id                                          sentence1  \\\n",
       "0      dev_id_0  Local police authorities are treating the expl...   \n",
       "1      dev_id_1  The report shows that drugs sold in Canadian p...   \n",
       "2      dev_id_2  The transition is slated to begin no later tha...   \n",
       "3      dev_id_3  Like Viacom , GE -- parent of NBC -- is also s...   \n",
       "4      dev_id_4  Last month , 62 Spanish peacekeepers died when...   \n",
       "..          ...                                                ...   \n",
       "719  dev_id_719  He is a brother to three-year-old Mia , from K...   \n",
       "720  dev_id_720  Some 175 million shares traded on the Big Boar...   \n",
       "721  dev_id_721  Mr Berlusconi is accused of bribing judges to ...   \n",
       "722  dev_id_722  He added that those \" are not solely American ...   \n",
       "723  dev_id_723  Memories also live on of the bloody debacle in...   \n",
       "\n",
       "                                             sentence2  classification  \\\n",
       "0    Acting New Haven Police Chief Francisco Ortiz ...               0   \n",
       "1    The report shows that drugs sold in Canadian p...               1   \n",
       "2    A two-week transition period will begin no lat...               1   \n",
       "3    Like Viacom , General Electric is seen as a le...               1   \n",
       "4    In another disaster , 62 Spanish peacekeepers ...               1   \n",
       "..                                                 ...             ...   \n",
       "719  Winslet , 28 , has a three-year-old daughter M...               0   \n",
       "720  Some 1.6 billion shares traded on the Big Boar...               0   \n",
       "721  Mr Berlusconi is accused of bribing judges to ...               1   \n",
       "722  \" These are not solely American principles nor...               1   \n",
       "723  Memories also live on of a bloody debacle in S...               1   \n",
       "\n",
       "                                         Text_Cleaned1  \\\n",
       "0    [local, police, authorities, treating, explosi...   \n",
       "1    [report, shows, drugs, sold, canadian, pharmac...   \n",
       "2    [transition, slated, begin, later, june, 7, da...   \n",
       "3    [like, viacom, ge, parent, nbc, also, seen, le...   \n",
       "4    [last, month, 62, spanish, peacekeepers, died,...   \n",
       "..                                                 ...   \n",
       "719  [brother, three, year, old, mia, kate, first, ...   \n",
       "720  [175, million, shares, traded, big, board, 7, ...   \n",
       "721  [mr, berlusconi, accused, bribing, judges, inf...   \n",
       "722  [added, solely, american, principles, exclusiv...   \n",
       "723  [memories, also, live, bloody, debacle, somali...   \n",
       "\n",
       "                                      lemmatized_text1  \\\n",
       "0    [local, police, authority, treating, explosion...   \n",
       "1    [report, show, drug, sold, canadian, pharmacy,...   \n",
       "2    [transition, slated, begin, later, june, 7, da...   \n",
       "3    [like, viacom, ge, parent, nbc, also, seen, le...   \n",
       "4    [last, month, 62, spanish, peacekeeper, died, ...   \n",
       "..                                                 ...   \n",
       "719  [brother, three, year, old, mia, kate, first, ...   \n",
       "720  [175, million, share, traded, big, board, 7, p...   \n",
       "721  [mr, berlusconi, accused, bribing, judge, infl...   \n",
       "722  [added, solely, american, principle, exclusive...   \n",
       "723  [memory, also, live, bloody, debacle, somalia,...   \n",
       "\n",
       "                                         Text_Cleaned2  \\\n",
       "0    [acting, new, police, chief, francisco, ortiz,...   \n",
       "1    [report, shows, drugs, sold, canadian, pharmac...   \n",
       "2    [two, week, transition, period, begin, later, ...   \n",
       "3    [like, viacom, general, electric, seen, less, ...   \n",
       "4    [another, disaster, 62, spanish, peacekeepers,...   \n",
       "..                                                 ...   \n",
       "719  [winslet, 28, three, year, old, daughter, mia,...   \n",
       "720  [1, 6, billion, shares, traded, big, board, 17...   \n",
       "721  [mr, berlusconi, accused, bribing, judges, inf...   \n",
       "722  [solely, american, principles, exclusively, we...   \n",
       "723  [memories, also, live, bloody, debacle, somali...   \n",
       "\n",
       "                                      lemmatized_text2  \\\n",
       "0    [acting, new, police, chief, francisco, ortiz,...   \n",
       "1    [report, show, drug, sold, canadian, pharmacy,...   \n",
       "2    [two, week, transition, period, begin, later, ...   \n",
       "3    [like, viacom, general, electric, seen, le, en...   \n",
       "4    [another, disaster, 62, spanish, peacekeeper, ...   \n",
       "..                                                 ...   \n",
       "719  [winslet, 28, three, year, old, daughter, mia,...   \n",
       "720  [1, 6, billion, share, traded, big, board, 17,...   \n",
       "721  [mr, berlusconi, accused, bribing, judge, infl...   \n",
       "722  [solely, american, principle, exclusively, wes...   \n",
       "723  [memory, also, live, bloody, debacle, somalia,...   \n",
       "\n",
       "     cosine_similarity_score  overall_similarity_score  \\\n",
       "0                   0.534522                  0.400892   \n",
       "1                   0.802955                  0.661257   \n",
       "2                   0.625000                  0.625000   \n",
       "3                   0.725241                  0.569832   \n",
       "4                   0.585369                  0.495313   \n",
       "..                       ...                       ...   \n",
       "719                 0.694365                  0.595170   \n",
       "720                 0.462910                  0.396780   \n",
       "721                 0.716115                  0.620633   \n",
       "722                 0.771517                  0.661300   \n",
       "723                 0.828079                  0.772873   \n",
       "\n",
       "     cosine_similarity_score2  jaccard_similarity_score  lemma_jaccard_score  \\\n",
       "0                    0.890871                  0.333333             0.333333   \n",
       "1                    0.860309                  0.705882             0.705882   \n",
       "2                    1.000000                  0.454545             0.454545   \n",
       "3                    0.886405                  0.562500             0.600000   \n",
       "4                    0.919866                  0.411765             0.411765   \n",
       "..                        ...                       ...                  ...   \n",
       "719                  0.925820                  0.529412             0.529412   \n",
       "720                  0.925820                  0.300000             0.300000   \n",
       "721                  0.930949                  0.555556             0.555556   \n",
       "722                  0.925820                  0.625000             0.625000   \n",
       "723                  0.966092                  0.705882             0.812500   \n",
       "\n",
       "     overall_sim_score  \n",
       "0             0.519179  \n",
       "1             0.757358  \n",
       "2             0.636364  \n",
       "3             0.682968  \n",
       "4             0.581132  \n",
       "..                 ...  \n",
       "719           0.661548  \n",
       "720           0.508607  \n",
       "721           0.680687  \n",
       "722           0.725273  \n",
       "723           0.828158  \n",
       "\n",
       "[724 rows x 14 columns]"
      ]
     },
     "execution_count": 57,
     "metadata": {},
     "output_type": "execute_result"
    }
   ],
   "source": [
    "#Syntactic Features:\n",
    "cosineOldlist = []\n",
    "similaritylist = []\n",
    "cosinelist = []\n",
    "jaccardlist = []\n",
    "lemmajaccardlist = []\n",
    "overallsimilaritylist = []\n",
    "for index, row in dev_df.iterrows():\n",
    "    #Cosine Similarity:\n",
    "    counter1 = Counter(row['Text_Cleaned1'])\n",
    "    counter2 = Counter(row['Text_Cleaned2'])\n",
    "    cosine_score = counter_cosine_similarity(counter1, counter2)\n",
    "    cosineOldlist.append(cosine_score)\n",
    "    \n",
    "    #Length Similarity:\n",
    "    lenc1 = sum(iter(counter1.values()))\n",
    "    lenc2 = sum(iter(counter2.values()))\n",
    "    lengthSim = min(lenc1, lenc2) / float(max(lenc1, lenc2))\n",
    "    \n",
    "    #Similarity Score:\n",
    "    similarityScore = lengthSim * cosine_score\n",
    "    similaritylist.append(similarityScore)\n",
    "    \n",
    "    #More Scores:\n",
    "    cosine_score = compute_cosine_similarity(row['Text_Cleaned1'], row['Text_Cleaned2'])\n",
    "    jaccard_score = compute_jaccard_similarity(row['Text_Cleaned1'], row['Text_Cleaned2'])\n",
    "    lemma_jaccard_score = compute_lemma_jaccard_similarity(row['lemmatized_text1'], row['lemmatized_text2'])\n",
    "    overall_sim_score = overall_similarity_combined(row['Text_Cleaned1'], row['Text_Cleaned2'], row['lemmatized_text1'], row['lemmatized_text2'])\n",
    "    cosinelist.append(cosine_score)\n",
    "    jaccardlist.append(jaccard_score)\n",
    "    lemmajaccardlist.append(lemma_jaccard_score)\n",
    "    overallsimilaritylist.append(overall_sim_score)\n",
    "dev_df['cosine_similarity_score'] = cosineOldlist\n",
    "dev_df['overall_similarity_score'] = similaritylist\n",
    "dev_df['cosine_similarity_score2'] = cosinelist\n",
    "dev_df['jaccard_similarity_score'] = jaccardlist\n",
    "dev_df['lemma_jaccard_score'] = lemmajaccardlist\n",
    "dev_df['overall_sim_score'] = overallsimilaritylist\n",
    "dev_df"
   ]
  },
  {
   "cell_type": "code",
   "execution_count": 58,
   "id": "8b142641-6a50-4fad-ac3c-a1bba8802f81",
   "metadata": {},
   "outputs": [
    {
     "data": {
      "text/html": [
       "<div>\n",
       "<style scoped>\n",
       "    .dataframe tbody tr th:only-of-type {\n",
       "        vertical-align: middle;\n",
       "    }\n",
       "\n",
       "    .dataframe tbody tr th {\n",
       "        vertical-align: top;\n",
       "    }\n",
       "\n",
       "    .dataframe thead th {\n",
       "        text-align: right;\n",
       "    }\n",
       "</style>\n",
       "<table border=\"1\" class=\"dataframe\">\n",
       "  <thead>\n",
       "    <tr style=\"text-align: right;\">\n",
       "      <th></th>\n",
       "      <th>id</th>\n",
       "      <th>sentence1</th>\n",
       "      <th>sentence2</th>\n",
       "      <th>classification</th>\n",
       "      <th>Text_Cleaned1</th>\n",
       "      <th>lemmatized_text1</th>\n",
       "      <th>Text_Cleaned2</th>\n",
       "      <th>lemmatized_text2</th>\n",
       "      <th>cosine_similarity_score</th>\n",
       "      <th>overall_similarity_score</th>\n",
       "      <th>cosine_similarity_score2</th>\n",
       "      <th>jaccard_similarity_score</th>\n",
       "      <th>lemma_jaccard_score</th>\n",
       "      <th>overall_sim_score</th>\n",
       "      <th>overall_similarity_combined_semantic</th>\n",
       "      <th>overall_similarity_wup_semantic</th>\n",
       "      <th>overall_similarity_path_semantic</th>\n",
       "    </tr>\n",
       "  </thead>\n",
       "  <tbody>\n",
       "    <tr>\n",
       "      <th>0</th>\n",
       "      <td>dev_id_0</td>\n",
       "      <td>Local police authorities are treating the expl...</td>\n",
       "      <td>Acting New Haven Police Chief Francisco Ortiz ...</td>\n",
       "      <td>0</td>\n",
       "      <td>[local, police, authorities, treating, explosi...</td>\n",
       "      <td>[local, police, authority, treating, explosion...</td>\n",
       "      <td>[acting, new, police, chief, francisco, ortiz,...</td>\n",
       "      <td>[acting, new, police, chief, francisco, ortiz,...</td>\n",
       "      <td>0.534522</td>\n",
       "      <td>0.400892</td>\n",
       "      <td>0.890871</td>\n",
       "      <td>0.333333</td>\n",
       "      <td>0.333333</td>\n",
       "      <td>0.519179</td>\n",
       "      <td>0.526301</td>\n",
       "      <td>0.584580</td>\n",
       "      <td>0.482766</td>\n",
       "    </tr>\n",
       "    <tr>\n",
       "      <th>1</th>\n",
       "      <td>dev_id_1</td>\n",
       "      <td>The report shows that drugs sold in Canadian p...</td>\n",
       "      <td>The report shows that drugs sold in Canadian p...</td>\n",
       "      <td>1</td>\n",
       "      <td>[report, shows, drugs, sold, canadian, pharmac...</td>\n",
       "      <td>[report, show, drug, sold, canadian, pharmacy,...</td>\n",
       "      <td>[report, shows, drugs, sold, canadian, pharmac...</td>\n",
       "      <td>[report, show, drug, sold, canadian, pharmacy,...</td>\n",
       "      <td>0.802955</td>\n",
       "      <td>0.661257</td>\n",
       "      <td>0.860309</td>\n",
       "      <td>0.705882</td>\n",
       "      <td>0.705882</td>\n",
       "      <td>0.757358</td>\n",
       "      <td>0.828098</td>\n",
       "      <td>0.855122</td>\n",
       "      <td>0.803763</td>\n",
       "    </tr>\n",
       "    <tr>\n",
       "      <th>2</th>\n",
       "      <td>dev_id_2</td>\n",
       "      <td>The transition is slated to begin no later tha...</td>\n",
       "      <td>A two-week transition period will begin no lat...</td>\n",
       "      <td>1</td>\n",
       "      <td>[transition, slated, begin, later, june, 7, da...</td>\n",
       "      <td>[transition, slated, begin, later, june, 7, da...</td>\n",
       "      <td>[two, week, transition, period, begin, later, ...</td>\n",
       "      <td>[two, week, transition, period, begin, later, ...</td>\n",
       "      <td>0.625000</td>\n",
       "      <td>0.625000</td>\n",
       "      <td>1.000000</td>\n",
       "      <td>0.454545</td>\n",
       "      <td>0.454545</td>\n",
       "      <td>0.636364</td>\n",
       "      <td>0.713095</td>\n",
       "      <td>0.743750</td>\n",
       "      <td>0.684524</td>\n",
       "    </tr>\n",
       "    <tr>\n",
       "      <th>3</th>\n",
       "      <td>dev_id_3</td>\n",
       "      <td>Like Viacom , GE -- parent of NBC -- is also s...</td>\n",
       "      <td>Like Viacom , General Electric is seen as a le...</td>\n",
       "      <td>1</td>\n",
       "      <td>[like, viacom, ge, parent, nbc, also, seen, le...</td>\n",
       "      <td>[like, viacom, ge, parent, nbc, also, seen, le...</td>\n",
       "      <td>[like, viacom, general, electric, seen, less, ...</td>\n",
       "      <td>[like, viacom, general, electric, seen, le, en...</td>\n",
       "      <td>0.725241</td>\n",
       "      <td>0.569832</td>\n",
       "      <td>0.886405</td>\n",
       "      <td>0.562500</td>\n",
       "      <td>0.600000</td>\n",
       "      <td>0.682968</td>\n",
       "      <td>0.770524</td>\n",
       "      <td>0.796260</td>\n",
       "      <td>0.749333</td>\n",
       "    </tr>\n",
       "    <tr>\n",
       "      <th>4</th>\n",
       "      <td>dev_id_4</td>\n",
       "      <td>Last month , 62 Spanish peacekeepers died when...</td>\n",
       "      <td>In another disaster , 62 Spanish peacekeepers ...</td>\n",
       "      <td>1</td>\n",
       "      <td>[last, month, 62, spanish, peacekeepers, died,...</td>\n",
       "      <td>[last, month, 62, spanish, peacekeeper, died, ...</td>\n",
       "      <td>[another, disaster, 62, spanish, peacekeepers,...</td>\n",
       "      <td>[another, disaster, 62, spanish, peacekeeper, ...</td>\n",
       "      <td>0.585369</td>\n",
       "      <td>0.495313</td>\n",
       "      <td>0.919866</td>\n",
       "      <td>0.411765</td>\n",
       "      <td>0.411765</td>\n",
       "      <td>0.581132</td>\n",
       "      <td>0.641237</td>\n",
       "      <td>0.680159</td>\n",
       "      <td>0.603472</td>\n",
       "    </tr>\n",
       "    <tr>\n",
       "      <th>...</th>\n",
       "      <td>...</td>\n",
       "      <td>...</td>\n",
       "      <td>...</td>\n",
       "      <td>...</td>\n",
       "      <td>...</td>\n",
       "      <td>...</td>\n",
       "      <td>...</td>\n",
       "      <td>...</td>\n",
       "      <td>...</td>\n",
       "      <td>...</td>\n",
       "      <td>...</td>\n",
       "      <td>...</td>\n",
       "      <td>...</td>\n",
       "      <td>...</td>\n",
       "      <td>...</td>\n",
       "      <td>...</td>\n",
       "      <td>...</td>\n",
       "    </tr>\n",
       "    <tr>\n",
       "      <th>719</th>\n",
       "      <td>dev_id_719</td>\n",
       "      <td>He is a brother to three-year-old Mia , from K...</td>\n",
       "      <td>Winslet , 28 , has a three-year-old daughter M...</td>\n",
       "      <td>0</td>\n",
       "      <td>[brother, three, year, old, mia, kate, first, ...</td>\n",
       "      <td>[brother, three, year, old, mia, kate, first, ...</td>\n",
       "      <td>[winslet, 28, three, year, old, daughter, mia,...</td>\n",
       "      <td>[winslet, 28, three, year, old, daughter, mia,...</td>\n",
       "      <td>0.694365</td>\n",
       "      <td>0.595170</td>\n",
       "      <td>0.925820</td>\n",
       "      <td>0.529412</td>\n",
       "      <td>0.529412</td>\n",
       "      <td>0.661548</td>\n",
       "      <td>0.614469</td>\n",
       "      <td>0.638645</td>\n",
       "      <td>0.598718</td>\n",
       "    </tr>\n",
       "    <tr>\n",
       "      <th>720</th>\n",
       "      <td>dev_id_720</td>\n",
       "      <td>Some 175 million shares traded on the Big Boar...</td>\n",
       "      <td>Some 1.6 billion shares traded on the Big Boar...</td>\n",
       "      <td>0</td>\n",
       "      <td>[175, million, shares, traded, big, board, 7, ...</td>\n",
       "      <td>[175, million, share, traded, big, board, 7, p...</td>\n",
       "      <td>[1, 6, billion, shares, traded, big, board, 17...</td>\n",
       "      <td>[1, 6, billion, share, traded, big, board, 17,...</td>\n",
       "      <td>0.462910</td>\n",
       "      <td>0.396780</td>\n",
       "      <td>0.925820</td>\n",
       "      <td>0.300000</td>\n",
       "      <td>0.300000</td>\n",
       "      <td>0.508607</td>\n",
       "      <td>0.656723</td>\n",
       "      <td>0.720496</td>\n",
       "      <td>0.592949</td>\n",
       "    </tr>\n",
       "    <tr>\n",
       "      <th>721</th>\n",
       "      <td>dev_id_721</td>\n",
       "      <td>Mr Berlusconi is accused of bribing judges to ...</td>\n",
       "      <td>Mr Berlusconi is accused of bribing judges to ...</td>\n",
       "      <td>1</td>\n",
       "      <td>[mr, berlusconi, accused, bribing, judges, inf...</td>\n",
       "      <td>[mr, berlusconi, accused, bribing, judge, infl...</td>\n",
       "      <td>[mr, berlusconi, accused, bribing, judges, inf...</td>\n",
       "      <td>[mr, berlusconi, accused, bribing, judge, infl...</td>\n",
       "      <td>0.716115</td>\n",
       "      <td>0.620633</td>\n",
       "      <td>0.930949</td>\n",
       "      <td>0.555556</td>\n",
       "      <td>0.555556</td>\n",
       "      <td>0.680687</td>\n",
       "      <td>0.711990</td>\n",
       "      <td>0.717347</td>\n",
       "      <td>0.706633</td>\n",
       "    </tr>\n",
       "    <tr>\n",
       "      <th>722</th>\n",
       "      <td>dev_id_722</td>\n",
       "      <td>He added that those \" are not solely American ...</td>\n",
       "      <td>\" These are not solely American principles nor...</td>\n",
       "      <td>1</td>\n",
       "      <td>[added, solely, american, principles, exclusiv...</td>\n",
       "      <td>[added, solely, american, principle, exclusive...</td>\n",
       "      <td>[solely, american, principles, exclusively, we...</td>\n",
       "      <td>[solely, american, principle, exclusively, wes...</td>\n",
       "      <td>0.771517</td>\n",
       "      <td>0.661300</td>\n",
       "      <td>0.925820</td>\n",
       "      <td>0.625000</td>\n",
       "      <td>0.625000</td>\n",
       "      <td>0.725273</td>\n",
       "      <td>0.804029</td>\n",
       "      <td>0.813187</td>\n",
       "      <td>0.794872</td>\n",
       "    </tr>\n",
       "    <tr>\n",
       "      <th>723</th>\n",
       "      <td>dev_id_723</td>\n",
       "      <td>Memories also live on of the bloody debacle in...</td>\n",
       "      <td>Memories also live on of a bloody debacle in S...</td>\n",
       "      <td>1</td>\n",
       "      <td>[memories, also, live, bloody, debacle, somali...</td>\n",
       "      <td>[memory, also, live, bloody, debacle, somalia,...</td>\n",
       "      <td>[memories, also, live, bloody, debacle, somali...</td>\n",
       "      <td>[memory, also, live, bloody, debacle, somalia,...</td>\n",
       "      <td>0.828079</td>\n",
       "      <td>0.772873</td>\n",
       "      <td>0.966092</td>\n",
       "      <td>0.705882</td>\n",
       "      <td>0.812500</td>\n",
       "      <td>0.828158</td>\n",
       "      <td>0.943897</td>\n",
       "      <td>0.960591</td>\n",
       "      <td>0.928161</td>\n",
       "    </tr>\n",
       "  </tbody>\n",
       "</table>\n",
       "<p>724 rows × 17 columns</p>\n",
       "</div>"
      ],
      "text/plain": [
       "             id                                          sentence1  \\\n",
       "0      dev_id_0  Local police authorities are treating the expl...   \n",
       "1      dev_id_1  The report shows that drugs sold in Canadian p...   \n",
       "2      dev_id_2  The transition is slated to begin no later tha...   \n",
       "3      dev_id_3  Like Viacom , GE -- parent of NBC -- is also s...   \n",
       "4      dev_id_4  Last month , 62 Spanish peacekeepers died when...   \n",
       "..          ...                                                ...   \n",
       "719  dev_id_719  He is a brother to three-year-old Mia , from K...   \n",
       "720  dev_id_720  Some 175 million shares traded on the Big Boar...   \n",
       "721  dev_id_721  Mr Berlusconi is accused of bribing judges to ...   \n",
       "722  dev_id_722  He added that those \" are not solely American ...   \n",
       "723  dev_id_723  Memories also live on of the bloody debacle in...   \n",
       "\n",
       "                                             sentence2  classification  \\\n",
       "0    Acting New Haven Police Chief Francisco Ortiz ...               0   \n",
       "1    The report shows that drugs sold in Canadian p...               1   \n",
       "2    A two-week transition period will begin no lat...               1   \n",
       "3    Like Viacom , General Electric is seen as a le...               1   \n",
       "4    In another disaster , 62 Spanish peacekeepers ...               1   \n",
       "..                                                 ...             ...   \n",
       "719  Winslet , 28 , has a three-year-old daughter M...               0   \n",
       "720  Some 1.6 billion shares traded on the Big Boar...               0   \n",
       "721  Mr Berlusconi is accused of bribing judges to ...               1   \n",
       "722  \" These are not solely American principles nor...               1   \n",
       "723  Memories also live on of a bloody debacle in S...               1   \n",
       "\n",
       "                                         Text_Cleaned1  \\\n",
       "0    [local, police, authorities, treating, explosi...   \n",
       "1    [report, shows, drugs, sold, canadian, pharmac...   \n",
       "2    [transition, slated, begin, later, june, 7, da...   \n",
       "3    [like, viacom, ge, parent, nbc, also, seen, le...   \n",
       "4    [last, month, 62, spanish, peacekeepers, died,...   \n",
       "..                                                 ...   \n",
       "719  [brother, three, year, old, mia, kate, first, ...   \n",
       "720  [175, million, shares, traded, big, board, 7, ...   \n",
       "721  [mr, berlusconi, accused, bribing, judges, inf...   \n",
       "722  [added, solely, american, principles, exclusiv...   \n",
       "723  [memories, also, live, bloody, debacle, somali...   \n",
       "\n",
       "                                      lemmatized_text1  \\\n",
       "0    [local, police, authority, treating, explosion...   \n",
       "1    [report, show, drug, sold, canadian, pharmacy,...   \n",
       "2    [transition, slated, begin, later, june, 7, da...   \n",
       "3    [like, viacom, ge, parent, nbc, also, seen, le...   \n",
       "4    [last, month, 62, spanish, peacekeeper, died, ...   \n",
       "..                                                 ...   \n",
       "719  [brother, three, year, old, mia, kate, first, ...   \n",
       "720  [175, million, share, traded, big, board, 7, p...   \n",
       "721  [mr, berlusconi, accused, bribing, judge, infl...   \n",
       "722  [added, solely, american, principle, exclusive...   \n",
       "723  [memory, also, live, bloody, debacle, somalia,...   \n",
       "\n",
       "                                         Text_Cleaned2  \\\n",
       "0    [acting, new, police, chief, francisco, ortiz,...   \n",
       "1    [report, shows, drugs, sold, canadian, pharmac...   \n",
       "2    [two, week, transition, period, begin, later, ...   \n",
       "3    [like, viacom, general, electric, seen, less, ...   \n",
       "4    [another, disaster, 62, spanish, peacekeepers,...   \n",
       "..                                                 ...   \n",
       "719  [winslet, 28, three, year, old, daughter, mia,...   \n",
       "720  [1, 6, billion, shares, traded, big, board, 17...   \n",
       "721  [mr, berlusconi, accused, bribing, judges, inf...   \n",
       "722  [solely, american, principles, exclusively, we...   \n",
       "723  [memories, also, live, bloody, debacle, somali...   \n",
       "\n",
       "                                      lemmatized_text2  \\\n",
       "0    [acting, new, police, chief, francisco, ortiz,...   \n",
       "1    [report, show, drug, sold, canadian, pharmacy,...   \n",
       "2    [two, week, transition, period, begin, later, ...   \n",
       "3    [like, viacom, general, electric, seen, le, en...   \n",
       "4    [another, disaster, 62, spanish, peacekeeper, ...   \n",
       "..                                                 ...   \n",
       "719  [winslet, 28, three, year, old, daughter, mia,...   \n",
       "720  [1, 6, billion, share, traded, big, board, 17,...   \n",
       "721  [mr, berlusconi, accused, bribing, judge, infl...   \n",
       "722  [solely, american, principle, exclusively, wes...   \n",
       "723  [memory, also, live, bloody, debacle, somalia,...   \n",
       "\n",
       "     cosine_similarity_score  overall_similarity_score  \\\n",
       "0                   0.534522                  0.400892   \n",
       "1                   0.802955                  0.661257   \n",
       "2                   0.625000                  0.625000   \n",
       "3                   0.725241                  0.569832   \n",
       "4                   0.585369                  0.495313   \n",
       "..                       ...                       ...   \n",
       "719                 0.694365                  0.595170   \n",
       "720                 0.462910                  0.396780   \n",
       "721                 0.716115                  0.620633   \n",
       "722                 0.771517                  0.661300   \n",
       "723                 0.828079                  0.772873   \n",
       "\n",
       "     cosine_similarity_score2  jaccard_similarity_score  lemma_jaccard_score  \\\n",
       "0                    0.890871                  0.333333             0.333333   \n",
       "1                    0.860309                  0.705882             0.705882   \n",
       "2                    1.000000                  0.454545             0.454545   \n",
       "3                    0.886405                  0.562500             0.600000   \n",
       "4                    0.919866                  0.411765             0.411765   \n",
       "..                        ...                       ...                  ...   \n",
       "719                  0.925820                  0.529412             0.529412   \n",
       "720                  0.925820                  0.300000             0.300000   \n",
       "721                  0.930949                  0.555556             0.555556   \n",
       "722                  0.925820                  0.625000             0.625000   \n",
       "723                  0.966092                  0.705882             0.812500   \n",
       "\n",
       "     overall_sim_score  overall_similarity_combined_semantic  \\\n",
       "0             0.519179                              0.526301   \n",
       "1             0.757358                              0.828098   \n",
       "2             0.636364                              0.713095   \n",
       "3             0.682968                              0.770524   \n",
       "4             0.581132                              0.641237   \n",
       "..                 ...                                   ...   \n",
       "719           0.661548                              0.614469   \n",
       "720           0.508607                              0.656723   \n",
       "721           0.680687                              0.711990   \n",
       "722           0.725273                              0.804029   \n",
       "723           0.828158                              0.943897   \n",
       "\n",
       "     overall_similarity_wup_semantic  overall_similarity_path_semantic  \n",
       "0                           0.584580                          0.482766  \n",
       "1                           0.855122                          0.803763  \n",
       "2                           0.743750                          0.684524  \n",
       "3                           0.796260                          0.749333  \n",
       "4                           0.680159                          0.603472  \n",
       "..                               ...                               ...  \n",
       "719                         0.638645                          0.598718  \n",
       "720                         0.720496                          0.592949  \n",
       "721                         0.717347                          0.706633  \n",
       "722                         0.813187                          0.794872  \n",
       "723                         0.960591                          0.928161  \n",
       "\n",
       "[724 rows x 17 columns]"
      ]
     },
     "execution_count": 58,
     "metadata": {},
     "output_type": "execute_result"
    }
   ],
   "source": [
    "#Semantic Features:\n",
    "overallSimCombined = []\n",
    "overallSimWUP = []\n",
    "overallSimPath = []\n",
    "for index, row in dev_df.iterrows():\n",
    "    R3 = overall_similarity_combined_semantic(row['lemmatized_text1'], row['lemmatized_text2'])\n",
    "    R4 = overall_similarity_wup_similarity(row['lemmatized_text1'], row['lemmatized_text2'])\n",
    "    R5 = overall_similarity_path_similarity(row['lemmatized_text1'], row['lemmatized_text2'])\n",
    "    overallSimCombined.append(R3)\n",
    "    overallSimWUP.append(R4)\n",
    "    overallSimPath.append(R5)\n",
    "dev_df['overall_similarity_combined_semantic'] = overallSimCombined\n",
    "dev_df['overall_similarity_wup_semantic'] = overallSimWUP\n",
    "dev_df['overall_similarity_path_semantic'] = overallSimPath\n",
    "dev_df    "
   ]
  },
  {
   "cell_type": "markdown",
   "id": "e47ddfca-94ef-46cc-8a8b-67cad9c55080",
   "metadata": {},
   "source": [
    "### Logistic Regression/SVM Model 1: Using All Scores except Combined Ones:"
   ]
  },
  {
   "cell_type": "code",
   "execution_count": 128,
   "id": "b75d385c-84c2-4580-8c2a-243803e740f6",
   "metadata": {},
   "outputs": [
    {
     "name": "stdout",
     "output_type": "stream",
     "text": [
      "train: 4077, val: 724\n",
      "(4077, 7)\n",
      "(724, 7)\n"
     ]
    }
   ],
   "source": [
    "x_train = train_df[['cosine_similarity_score', 'overall_similarity_score',\n",
    "       'cosine_similarity_score2', 'jaccard_similarity_score',\n",
    "       'lemma_jaccard_score',\n",
    "       'overall_similarity_wup_semantic', 'overall_similarity_path_semantic']]\n",
    "y_train = train_df['classification'].values\n",
    "x_train_val = dev_df[['cosine_similarity_score', 'overall_similarity_score',\n",
    "       'cosine_similarity_score2', 'jaccard_similarity_score',\n",
    "       'lemma_jaccard_score',\n",
    "       'overall_similarity_wup_semantic', 'overall_similarity_path_semantic']]\n",
    "y_train_val = dev_df['classification'].values\n",
    "\n",
    "print(\"train: {}, val: {}\".format(x_train.shape[0], x_train_val.shape[0]))\n",
    "print(x_train.shape)\n",
    "print(x_train_val.shape)"
   ]
  },
  {
   "cell_type": "code",
   "execution_count": 125,
   "id": "d5e805a6-c6ce-49a4-9377-3928757686df",
   "metadata": {},
   "outputs": [
    {
     "data": {
      "text/plain": [
       "1    0.745156\n",
       "0    0.254844\n",
       "Name: classification, dtype: float64"
      ]
     },
     "execution_count": 125,
     "metadata": {},
     "output_type": "execute_result"
    }
   ],
   "source": [
    "train_df['classification'].value_counts()/train_df.shape[0]"
   ]
  },
  {
   "cell_type": "code",
   "execution_count": 165,
   "id": "a4e0a391-83ae-44c6-b81c-a2002f547e57",
   "metadata": {},
   "outputs": [],
   "source": [
    "w = [{0:1000,1:100}, {0:100,1:1.0}, {0:99,1:1.0}, {0:75,1:1.0}, {0:75,1:25}, {0:76,1:24},\n",
    "     {0:4,1:3}, {0:3,1:1.0}, {0:.75,1:.25}, {0:0.745156,1:0.254844}, {0:74.5,1:25.5},\n",
    "     {0:1,1:.25}, {0:10,1:1.0}, {0:0.01,1:1.0}, {0:0.01,1:10}, {0:0.01,1:100}, \n",
    "     {0:0.001,1:1.0}, {0:0.005,1:1.0}, {0:1.0,1:1.0}, {0:1.0,1:0.1}, {0:10,1:0.1}, {0:100,1:0.1}, \n",
    "     {0:10,1:0.01}, {0:1.0,1:0.01}, {0:1.0,1:0.001}, {0:1.0,1:0.005}, {0:0.5,1:0.5},\n",
    "     {0:1.0,1:10}, {0:1.0,1:99}, {0:1.0,1:100}, {0:10,1:1000},{0:100,1:1000}, {0:1,1:1}, {0:50, 1:50}]\n",
    "Cvals = [10**(-5), 10**(-3), 10**(-1), 1, 10, 20, 50]\n",
    "hyperparam_grid = {\"class_weight\": w, \"C\": Cvals}"
   ]
  },
  {
   "cell_type": "code",
   "execution_count": 151,
   "id": "a36eb677-c201-4204-b76d-20dedde462b7",
   "metadata": {},
   "outputs": [],
   "source": [
    "whole_df = train_df.append(dev_df)\n",
    "x = whole_df[['cosine_similarity_score', 'overall_similarity_score',\n",
    "       'cosine_similarity_score2', 'jaccard_similarity_score',\n",
    "       'lemma_jaccard_score',\n",
    "       'overall_similarity_wup_semantic', 'overall_similarity_path_semantic']]\n",
    "y = whole_df[['classification']]"
   ]
  },
  {
   "cell_type": "code",
   "execution_count": 152,
   "id": "1b06d466-9524-452c-ba20-c6bf529a5696",
   "metadata": {},
   "outputs": [],
   "source": [
    "x_sub = new_train_df[['cosine_similarity_score', 'overall_similarity_score',\n",
    "       'cosine_similarity_score2', 'jaccard_similarity_score',\n",
    "       'lemma_jaccard_score',\n",
    "       'overall_similarity_wup_semantic', 'overall_similarity_path_semantic']]\n",
    "y_sub = new_train_df[['classification']]"
   ]
  },
  {
   "cell_type": "code",
   "execution_count": 153,
   "id": "13c15bb0-4562-4a48-8f80-add72cc3b946",
   "metadata": {},
   "outputs": [
    {
     "name": "stdout",
     "output_type": "stream",
     "text": [
      "Best score: 0.7607818181818182 with param: {'C': 1, 'class_weight': {0: 4, 1: 3}, 'fit_intercept': True, 'penalty': 'l2'}\n"
     ]
    }
   ],
   "source": [
    "#50-50 Training Dataset:\n",
    "lg3 = LogisticRegression(random_state=13)\n",
    "grid = GridSearchCV(lg3,hyperparam_grid, cv=100, n_jobs=-1, refit=True)\n",
    "grid.fit(x_sub,y_sub)\n",
    "print(f'Best score: {grid.best_score_} with param: {grid.best_params_}')"
   ]
  },
  {
   "cell_type": "code",
   "execution_count": 154,
   "id": "7ac2ef0b-c9e5-44aa-956e-681dc4c2a749",
   "metadata": {},
   "outputs": [
    {
     "name": "stdout",
     "output_type": "stream",
     "text": [
      "Best score: 0.7586154447702833 with param: {'C': 10, 'class_weight': {0: 1.0, 1: 1.0}, 'fit_intercept': True, 'penalty': 'l2'}\n"
     ]
    }
   ],
   "source": [
    "#Original Training Dataset:\n",
    "lg3 = LogisticRegression(random_state=13)\n",
    "grid = GridSearchCV(lg3,hyperparam_grid,scoring=\"roc_auc\", cv=100, n_jobs=-1, refit=True)\n",
    "grid.fit(x_train,y_train)\n",
    "print(f'Best score: {grid.best_score_} with param: {grid.best_params_}')"
   ]
  },
  {
   "cell_type": "code",
   "execution_count": 175,
   "id": "66ddd588-c05c-41b0-b12a-7feaa118fb27",
   "metadata": {},
   "outputs": [
    {
     "name": "stdout",
     "output_type": "stream",
     "text": [
      "Best score: 0.7603025210084033 with param: {'C': 10, 'class_weight': {0: 4, 1: 3}}\n"
     ]
    }
   ],
   "source": [
    "#Whole Dataset:\n",
    "lg3 = LogisticRegression(random_state=13)\n",
    "grid = GridSearchCV(lg3,hyperparam_grid,scoring=\"roc_auc\", cv=100, n_jobs=-1, refit=True)\n",
    "grid.fit(x,y)\n",
    "print(f'Best score: {grid.best_score_} with param: {grid.best_params_}')"
   ]
  },
  {
   "cell_type": "code",
   "execution_count": 177,
   "id": "944a6931-3d4c-4ae3-b58e-8f39b39e9c2f",
   "metadata": {},
   "outputs": [
    {
     "name": "stdout",
     "output_type": "stream",
     "text": [
      "Accuracy Score with Individual Scores model/features 0.6919889502762431\n",
      "Confusion Matrix: \n",
      "[[269  93]\n",
      " [130 232]]\n",
      "Area Under Curve: 0.6919889502762432\n",
      "Recall Score: 0.6408839779005525\n",
      "Precision Score: 0.7138461538461538\n"
     ]
    }
   ],
   "source": [
    "model_simple = simple_logistic_classify(x_train, y_train, x_train_val, y_train_val, 'Individual Scores', {0: 3, 1: 1}, 10)"
   ]
  },
  {
   "cell_type": "code",
   "execution_count": 179,
   "id": "0850ecd2-e2e5-4fe9-bdbf-44a2f34dde9f",
   "metadata": {},
   "outputs": [
    {
     "name": "stdout",
     "output_type": "stream",
     "text": [
      "Accuracy Score with Individual Scores model/features 0.6892265193370166\n",
      "Confusion Matrix: \n",
      "[[271  91]\n",
      " [134 228]]\n",
      "Area Under Curve: 0.6892265193370165\n",
      "Recall Score: 0.6298342541436464\n",
      "Precision Score: 0.7147335423197492\n"
     ]
    }
   ],
   "source": [
    "model_simple2 = simple_svm_classify(x_sub, y_sub, x_train_val, y_train_val, 'Individual Scores')"
   ]
  },
  {
   "cell_type": "markdown",
   "id": "cfb95fe2-39ce-4766-9656-4ff1cf000eeb",
   "metadata": {},
   "source": [
    "### Logistic Regression Models/SVM 2 and 3: Using bow and tf-idf features:"
   ]
  },
  {
   "cell_type": "code",
   "execution_count": 189,
   "id": "4f358646-7da6-4abe-98b8-fa4110a003cf",
   "metadata": {},
   "outputs": [
    {
     "data": {
      "text/plain": [
       "55"
      ]
     },
     "execution_count": 189,
     "metadata": {},
     "output_type": "execute_result"
    }
   ],
   "source": [
    "x_combinedCols_train = train_df['Text_Cleaned1'] + train_df['Text_Cleaned2']\n",
    "x_combinedCols_val = dev_df['Text_Cleaned1'] + dev_df['Text_Cleaned2']\n",
    "\n",
    "bow_converter = CountVectorizer(tokenizer=lambda doc: doc, lowercase=False)\n",
    "x = bow_converter.fit_transform(x_combinedCols_train)\n",
    "\n",
    "words = bow_converter.get_feature_names()\n",
    "len(words)"
   ]
  },
  {
   "cell_type": "code",
   "execution_count": 100,
   "id": "943c604b-2038-4cc5-a615-25f2c3b551f1",
   "metadata": {},
   "outputs": [
    {
     "data": {
      "text/plain": [
       "882"
      ]
     },
     "execution_count": 100,
     "metadata": {},
     "output_type": "execute_result"
    }
   ],
   "source": [
    "bigram_converter = CountVectorizer(tokenizer=lambda doc: doc, ngram_range=[2,2], lowercase=False) \n",
    "x2 = bigram_converter.fit_transform(x_combinedCols_train)\n",
    "bigrams = bigram_converter.get_feature_names()\n",
    "len(bigrams)"
   ]
  },
  {
   "cell_type": "code",
   "execution_count": 50,
   "id": "1f42a086-6adc-48d8-8351-84a6e872bcb9",
   "metadata": {},
   "outputs": [
    {
     "data": {
      "text/plain": [
       "71562"
      ]
     },
     "execution_count": 50,
     "metadata": {},
     "output_type": "execute_result"
    }
   ],
   "source": [
    "trigram_converter = CountVectorizer(tokenizer=lambda doc: doc, ngram_range=[3,3], lowercase=False) \n",
    "x3 = trigram_converter.fit_transform(x_combinedCols_train)\n",
    "trigrams = trigram_converter.get_feature_names()\n",
    "len(trigrams)"
   ]
  },
  {
   "cell_type": "code",
   "execution_count": 51,
   "id": "5cebb39b-d67f-410e-95c1-c314c304a1e8",
   "metadata": {},
   "outputs": [
    {
     "data": {
      "text/plain": [
       "73786"
      ]
     },
     "execution_count": 51,
     "metadata": {},
     "output_type": "execute_result"
    }
   ],
   "source": [
    "quadgram_converter = CountVectorizer(tokenizer=lambda doc: doc, ngram_range=[4,4], lowercase=False) \n",
    "x3 = quadgram_converter.fit_transform(x_combinedCols_train)\n",
    "quadgrams = quadgram_converter.get_feature_names()\n",
    "len(quadgrams)"
   ]
  },
  {
   "cell_type": "code",
   "execution_count": 52,
   "id": "94560bdd-8716-42d3-bf2b-0cb1c9f7441d",
   "metadata": {},
   "outputs": [
    {
     "data": {
      "text/plain": [
       "73687"
      ]
     },
     "execution_count": 52,
     "metadata": {},
     "output_type": "execute_result"
    }
   ],
   "source": [
    "fivegram_converter = CountVectorizer(tokenizer=lambda doc: doc, ngram_range=[5,5], lowercase=False) \n",
    "x3 = fivegram_converter.fit_transform(x_combinedCols_train)\n",
    "fivegrams = fivegram_converter.get_feature_names()\n",
    "len(fivegrams)"
   ]
  },
  {
   "cell_type": "code",
   "execution_count": 194,
   "id": "59c930ce-e972-4f9a-ac96-ace2d850968b",
   "metadata": {},
   "outputs": [
    {
     "name": "stdout",
     "output_type": "stream",
     "text": [
      "train: 2078, val: 724\n",
      "(2078,)\n",
      "(724,)\n"
     ]
    }
   ],
   "source": [
    "# x_train = train_df[['Text_Cleaned1']].values\n",
    "# y_train = train_df['classification'].values\n",
    "# x_train_val = dev_df[['Text_Cleaned1', 'Text_Cleaned2']].values\n",
    "# y_train_val = dev_df['classification'].values\n",
    "\n",
    "x_train = x_combinedCols_train.values\n",
    "y_train = train_df['classification'].values\n",
    "x_train_val = x_combinedCols_val.values\n",
    "y_train_val = dev_df['classification'].values\n",
    "\n",
    "print(\"train: {}, val: {}\".format(x_train.shape[0], x_train_val.shape[0]))\n",
    "print(x_train.shape)\n",
    "print(x_train_val.shape)"
   ]
  },
  {
   "cell_type": "code",
   "execution_count": 195,
   "id": "de3bf42a-3ae7-4196-a5e9-1ecc2a4d5599",
   "metadata": {},
   "outputs": [
    {
     "data": {
      "text/plain": [
       "55"
      ]
     },
     "execution_count": 195,
     "metadata": {},
     "output_type": "execute_result"
    }
   ],
   "source": [
    "bow_transform = CountVectorizer(tokenizer=lambda doc: doc, lowercase=False, ngram_range=[1,1])\n",
    "X_tr_bow = bow_transform.fit_transform(x_train)\n",
    "X_te_bow = bow_transform.transform(x_train_val)\n",
    "len(bow_transform.vocabulary_)"
   ]
  },
  {
   "cell_type": "code",
   "execution_count": 196,
   "id": "265aee01-cb1f-4279-a060-9f9384519c3d",
   "metadata": {},
   "outputs": [],
   "source": [
    "#Tf-Idf Transformation:\n",
    "tfidf_transform = text.TfidfTransformer(norm=None)\n",
    "X_tr_tfidf = tfidf_transform.fit_transform(X_tr_bow)\n",
    "X_te_tfidf = tfidf_transform.transform(X_te_bow)"
   ]
  },
  {
   "cell_type": "code",
   "execution_count": 197,
   "id": "d7f4fd08-c859-49f7-b206-7d84e4721229",
   "metadata": {},
   "outputs": [
    {
     "name": "stdout",
     "output_type": "stream",
     "text": [
      "Accuracy Score with bow model/features 0.511049723756906\n",
      "Confusion Matrix: \n",
      "[[361   1]\n",
      " [353   9]]\n",
      "Area Under Curve: 0.511049723756906\n",
      "Recall Score: 0.024861878453038673\n",
      "Precision Score: 0.9\n",
      "Accuracy Score with tf-idf model/features 0.511049723756906\n",
      "Confusion Matrix: \n",
      "[[362   0]\n",
      " [354   8]]\n",
      "Area Under Curve: 0.511049723756906\n",
      "Recall Score: 0.022099447513812154\n",
      "Precision Score: 1.0\n"
     ]
    }
   ],
   "source": [
    "model_bow = simple_logistic_classify(X_tr_bow, y_train, X_te_bow, y_train_val, 'bow')\n",
    "model_tfidf = simple_logistic_classify(X_tr_tfidf, y_train, X_te_tfidf, y_train_val, 'tf-idf')"
   ]
  },
  {
   "cell_type": "code",
   "execution_count": 198,
   "id": "e7033dec-5508-492a-abdb-b57794dced87",
   "metadata": {},
   "outputs": [
    {
     "name": "stdout",
     "output_type": "stream",
     "text": [
      "Accuracy Score with bow model/features 0.5\n",
      "Confusion Matrix: \n",
      "[[362   0]\n",
      " [362   0]]\n",
      "Area Under Curve: 0.5\n",
      "Recall Score: 0.0\n",
      "Precision Score: 0.0\n",
      "Accuracy Score with tf-idf model/features 0.5013812154696132\n",
      "Confusion Matrix: \n",
      "[[362   0]\n",
      " [361   1]]\n",
      "Area Under Curve: 0.5013812154696132\n",
      "Recall Score: 0.0027624309392265192\n",
      "Precision Score: 1.0\n"
     ]
    }
   ],
   "source": [
    "model_bow = simple_svm_classify(X_tr_bow, y_train, X_te_bow, y_train_val, 'bow')\n",
    "model_tfidf = simple_svm_classify(X_tr_tfidf, y_train, X_te_tfidf, y_train_val, 'tf-idf')"
   ]
  },
  {
   "cell_type": "markdown",
   "id": "5c2d0d5b-d1af-4d53-a7d3-7ce08b355c66",
   "metadata": {},
   "source": [
    "### Logistic Regression/SVM Model 4: All Syntactic Features:"
   ]
  },
  {
   "cell_type": "code",
   "execution_count": 202,
   "id": "c775dffb-5e7d-4c07-86b0-a47f65c78343",
   "metadata": {},
   "outputs": [
    {
     "name": "stdout",
     "output_type": "stream",
     "text": [
      "train: 2078, val: 724\n",
      "(2078, 6)\n",
      "(724, 6)\n"
     ]
    }
   ],
   "source": [
    "x_train = new_train_df[['cosine_similarity_score', 'overall_similarity_score', 'cosine_similarity_score2', 'jaccard_similarity_score', 'lemma_jaccard_score', 'overall_sim_score']]\n",
    "y_train = new_train_df['classification'].values\n",
    "x_train_val = dev_df[['cosine_similarity_score', 'overall_similarity_score', 'cosine_similarity_score2', 'jaccard_similarity_score', 'lemma_jaccard_score', 'overall_sim_score']]\n",
    "y_train_val = dev_df['classification'].values\n",
    "\n",
    "print(\"train: {}, val: {}\".format(x_train.shape[0], x_train_val.shape[0]))\n",
    "print(x_train.shape)\n",
    "print(x_train_val.shape)"
   ]
  },
  {
   "cell_type": "code",
   "execution_count": 217,
   "id": "10f43f28-04bf-445d-a1b3-45f6a074a5d6",
   "metadata": {},
   "outputs": [
    {
     "name": "stdout",
     "output_type": "stream",
     "text": [
      "Accuracy Score with Syntactic Scores model/features 0.6988950276243094\n",
      "Confusion Matrix: \n",
      "[[299  63]\n",
      " [155 207]]\n",
      "Area Under Curve: 0.6988950276243094\n",
      "Recall Score: 0.5718232044198895\n",
      "Precision Score: 0.7666666666666667\n"
     ]
    }
   ],
   "source": [
    "model_simple = simple_logistic_classify(x_train, y_train, x_train_val, y_train_val, 'Syntactic Scores',{0:4,1:3},10)"
   ]
  },
  {
   "cell_type": "code",
   "execution_count": 218,
   "id": "92f04e7a-ea8d-43b0-b6ac-dab467bcad3d",
   "metadata": {},
   "outputs": [
    {
     "name": "stdout",
     "output_type": "stream",
     "text": [
      "Accuracy Score with Syntactic Scores model/features 0.6947513812154696\n",
      "Confusion Matrix: \n",
      "[[310  52]\n",
      " [169 193]]\n",
      "Area Under Curve: 0.6947513812154696\n",
      "Recall Score: 0.5331491712707183\n",
      "Precision Score: 0.7877551020408163\n"
     ]
    }
   ],
   "source": [
    "model_simple2 = simple_svm_classify(x_train, y_train, x_train_val, y_train_val, 'Syntactic Scores',{0:4,1:3})"
   ]
  },
  {
   "cell_type": "code",
   "execution_count": null,
   "id": "e978927d-c97f-41f2-b145-fa4944b3a56b",
   "metadata": {},
   "outputs": [],
   "source": []
  },
  {
   "cell_type": "markdown",
   "id": "600de5ef-dfa2-404f-ae27-db4b08d9c3c8",
   "metadata": {},
   "source": [
    "### Logistic Regression/SVM Model 5: All Semantic Features:"
   ]
  },
  {
   "cell_type": "code",
   "execution_count": 219,
   "id": "e3c06dee-ca93-4eff-8d07-f86b60d2da91",
   "metadata": {},
   "outputs": [
    {
     "name": "stdout",
     "output_type": "stream",
     "text": [
      "train: 2078, val: 724\n",
      "(2078, 3)\n",
      "(724, 3)\n"
     ]
    }
   ],
   "source": [
    "x_train = new_train_df[['overall_similarity_combined_semantic',\n",
    "       'overall_similarity_wup_semantic', 'overall_similarity_path_semantic']]\n",
    "y_train = new_train_df['classification'].values\n",
    "x_train_val = dev_df[['overall_similarity_combined_semantic',\n",
    "       'overall_similarity_wup_semantic', 'overall_similarity_path_semantic']]\n",
    "y_train_val = dev_df['classification'].values\n",
    "\n",
    "print(\"train: {}, val: {}\".format(x_train.shape[0], x_train_val.shape[0]))\n",
    "print(x_train.shape)\n",
    "print(x_train_val.shape)"
   ]
  },
  {
   "cell_type": "code",
   "execution_count": 233,
   "id": "71cf42e4-c70e-4fa9-935b-5b5f6bdcc72a",
   "metadata": {},
   "outputs": [
    {
     "name": "stdout",
     "output_type": "stream",
     "text": [
      "Accuracy Score with Syntactic Scores model/features 0.6629834254143646\n",
      "Confusion Matrix: \n",
      "[[252 110]\n",
      " [134 228]]\n",
      "Area Under Curve: 0.6629834254143645\n",
      "Recall Score: 0.6298342541436464\n",
      "Precision Score: 0.6745562130177515\n"
     ]
    }
   ],
   "source": [
    "model_simple = simple_logistic_classify(x_train, y_train, x_train_val, y_train_val, 'Syntactic Scores',{0:3.25,1:3},1)"
   ]
  },
  {
   "cell_type": "code",
   "execution_count": 236,
   "id": "a3904f87-4209-4304-8f9a-05d04dd0ee78",
   "metadata": {},
   "outputs": [
    {
     "name": "stdout",
     "output_type": "stream",
     "text": [
      "Accuracy Score with Syntactic Scores model/features 0.6533149171270718\n",
      "Confusion Matrix: \n",
      "[[266  96]\n",
      " [155 207]]\n",
      "Area Under Curve: 0.6533149171270719\n",
      "Recall Score: 0.5718232044198895\n",
      "Precision Score: 0.6831683168316832\n"
     ]
    }
   ],
   "source": [
    "model_simple2 = simple_svm_classify(x_train, y_train, x_train_val, y_train_val, 'Syntactic Scores',{0:3.25,1:3})"
   ]
  },
  {
   "cell_type": "code",
   "execution_count": null,
   "id": "8f305bd2-2240-4055-ae79-63c998d8ae6f",
   "metadata": {},
   "outputs": [],
   "source": []
  },
  {
   "cell_type": "markdown",
   "id": "2d7ad2e3-f1e9-472e-89a1-aedb6841b089",
   "metadata": {},
   "source": [
    "### NON-WORKING MODEL: Logistic Regression Model 6: Separating out the sentences:"
   ]
  },
  {
   "cell_type": "code",
   "execution_count": 21,
   "id": "fa346377-2656-4929-8457-1425803a4a5a",
   "metadata": {},
   "outputs": [
    {
     "name": "stdout",
     "output_type": "stream",
     "text": [
      "train: 4077, val: 724\n",
      "(4077,)\n",
      "(724,)\n"
     ]
    }
   ],
   "source": [
    "x_train1 = train_df['Text_Cleaned1']\n",
    "x_train2 = train_df['Text_Cleaned2']\n",
    "y_train = train_df['classification'].values\n",
    "x_train_val1 = dev_df['Text_Cleaned1']\n",
    "x_train_val2 = dev_df['Text_Cleaned2']\n",
    "y_train_val = dev_df['classification'].values\n",
    "\n",
    "print(\"train: {}, val: {}\".format(x_train1.shape[0], x_train_val1.shape[0]))\n",
    "print(x_train1.shape)\n",
    "print(x_train_val1.shape)"
   ]
  },
  {
   "cell_type": "code",
   "execution_count": 22,
   "id": "107e6e24-8c4f-48b3-9e83-ea4d61776236",
   "metadata": {},
   "outputs": [
    {
     "data": {
      "text/plain": [
       "11373"
      ]
     },
     "execution_count": 22,
     "metadata": {},
     "output_type": "execute_result"
    }
   ],
   "source": [
    "bow_transform = CountVectorizer(tokenizer=lambda doc: doc, lowercase=False, ngram_range=[1,1])\n",
    "X_tr_bow1 = bow_transform.fit_transform(x_train1)\n",
    "X_te_bow1 = bow_transform.transform(x_train_val1)\n",
    "len(bow_transform.vocabulary_)"
   ]
  },
  {
   "cell_type": "code",
   "execution_count": 23,
   "id": "16a8f421-dc53-41c3-863e-e0c2d58da50c",
   "metadata": {},
   "outputs": [
    {
     "data": {
      "text/plain": [
       "11257"
      ]
     },
     "execution_count": 23,
     "metadata": {},
     "output_type": "execute_result"
    }
   ],
   "source": [
    "bow_transform = CountVectorizer(tokenizer=lambda doc: doc, lowercase=False, ngram_range=[1,1])\n",
    "X_tr_bow2 = bow_transform.fit_transform(x_train2)\n",
    "X_te_bow2 = bow_transform.transform(x_train_val2)\n",
    "len(bow_transform.vocabulary_)"
   ]
  },
  {
   "cell_type": "code",
   "execution_count": 25,
   "id": "7f8fbfe0-e75b-4502-a6c4-e8c021f7af77",
   "metadata": {},
   "outputs": [],
   "source": [
    "#Tf-Idf Transformation:\n",
    "tfidf_transform = text.TfidfTransformer(norm=None)\n",
    "X_tr_tfidf1 = tfidf_transform.fit_transform(X_tr_bow1)\n",
    "X_te_tfidf1 = tfidf_transform.transform(X_te_bow1)\n",
    "\n",
    "tfidf_transform = text.TfidfTransformer(norm=None)\n",
    "X_tr_tfidf2 = tfidf_transform.fit_transform(X_tr_bow2)\n",
    "X_te_tfidf2 = tfidf_transform.transform(X_te_bow2)"
   ]
  },
  {
   "cell_type": "code",
   "execution_count": 29,
   "id": "e088a2fb-8347-4c5e-8056-fe2103b45c55",
   "metadata": {},
   "outputs": [],
   "source": [
    "X_tr_bow = pd.DataFrame(columns=[X_tr_bow1, X_tr_bow2])\n",
    "X_te_bow = pd.DataFrame(columns=[X_te_bow1, X_te_bow2])\n",
    "X_tr_tfidf = pd.DataFrame(columns=[X_tr_tfidf1, X_tr_tfidf2])\n",
    "X_te_tfidf = pd.DataFrame(columns=[X_te_tfidf1, X_te_tfidf2])"
   ]
  },
  {
   "cell_type": "code",
   "execution_count": 32,
   "id": "72dff61b-1fd8-45ef-b337-4467772eb27e",
   "metadata": {},
   "outputs": [
    {
     "data": {
      "text/plain": [
       "<4077x11373 sparse matrix of type '<class 'numpy.int64'>'\n",
       "\twith 49461 stored elements in Compressed Sparse Row format>"
      ]
     },
     "execution_count": 32,
     "metadata": {},
     "output_type": "execute_result"
    }
   ],
   "source": [
    "X_tr_bow1"
   ]
  },
  {
   "cell_type": "code",
   "execution_count": 27,
   "id": "fb258a00-9c80-452c-8b17-7f0043297131",
   "metadata": {
    "collapsed": true,
    "jupyter": {
     "outputs_hidden": true
    },
    "tags": []
   },
   "outputs": [
    {
     "ename": "ValueError",
     "evalue": "setting an array element with a sequence.",
     "output_type": "error",
     "traceback": [
      "\u001b[1;31m---------------------------------------------------------------------------\u001b[0m",
      "\u001b[1;31mTypeError\u001b[0m                                 Traceback (most recent call last)",
      "\u001b[1;31mTypeError\u001b[0m: float() argument must be a string or a number, not 'csr_matrix'",
      "\nThe above exception was the direct cause of the following exception:\n",
      "\u001b[1;31mValueError\u001b[0m                                Traceback (most recent call last)",
      "\u001b[1;32m<ipython-input-27-e662b31e4dc8>\u001b[0m in \u001b[0;36m<module>\u001b[1;34m\u001b[0m\n\u001b[1;32m----> 1\u001b[1;33m \u001b[0mmodel_bow\u001b[0m \u001b[1;33m=\u001b[0m \u001b[0msimple_logistic_classify\u001b[0m\u001b[1;33m(\u001b[0m\u001b[0mX_tr_bow\u001b[0m\u001b[1;33m,\u001b[0m \u001b[0my_train\u001b[0m\u001b[1;33m,\u001b[0m \u001b[0mX_te_bow\u001b[0m\u001b[1;33m,\u001b[0m \u001b[0my_train_val\u001b[0m\u001b[1;33m,\u001b[0m \u001b[1;34m'bow'\u001b[0m\u001b[1;33m)\u001b[0m\u001b[1;33m\u001b[0m\u001b[1;33m\u001b[0m\u001b[0m\n\u001b[0m\u001b[0;32m      2\u001b[0m \u001b[0mmodel_tfidf\u001b[0m \u001b[1;33m=\u001b[0m \u001b[0msimple_logistic_classify\u001b[0m\u001b[1;33m(\u001b[0m\u001b[0mX_tr_tfidf\u001b[0m\u001b[1;33m,\u001b[0m \u001b[0my_train\u001b[0m\u001b[1;33m,\u001b[0m \u001b[0mX_te_tfidf\u001b[0m\u001b[1;33m,\u001b[0m \u001b[0my_train_val\u001b[0m\u001b[1;33m,\u001b[0m \u001b[1;34m'tf-idf'\u001b[0m\u001b[1;33m)\u001b[0m\u001b[1;33m\u001b[0m\u001b[1;33m\u001b[0m\u001b[0m\n",
      "\u001b[1;32m<ipython-input-8-9734f54ae966>\u001b[0m in \u001b[0;36msimple_logistic_classify\u001b[1;34m(X_tr, y_tr, X_test, y_test, description, _C)\u001b[0m\n\u001b[0;32m      1\u001b[0m \u001b[1;32mdef\u001b[0m \u001b[0msimple_logistic_classify\u001b[0m\u001b[1;33m(\u001b[0m\u001b[0mX_tr\u001b[0m\u001b[1;33m,\u001b[0m \u001b[0my_tr\u001b[0m\u001b[1;33m,\u001b[0m \u001b[0mX_test\u001b[0m\u001b[1;33m,\u001b[0m \u001b[0my_test\u001b[0m\u001b[1;33m,\u001b[0m \u001b[0mdescription\u001b[0m\u001b[1;33m,\u001b[0m \u001b[0m_C\u001b[0m\u001b[1;33m=\u001b[0m\u001b[1;36m1.0\u001b[0m \u001b[1;33m)\u001b[0m\u001b[1;33m:\u001b[0m\u001b[1;33m\u001b[0m\u001b[1;33m\u001b[0m\u001b[0m\n\u001b[1;32m----> 2\u001b[1;33m     \u001b[0mmodel\u001b[0m \u001b[1;33m=\u001b[0m \u001b[0mLogisticRegression\u001b[0m\u001b[1;33m(\u001b[0m\u001b[0mC\u001b[0m\u001b[1;33m=\u001b[0m\u001b[0m_C\u001b[0m\u001b[1;33m)\u001b[0m\u001b[1;33m.\u001b[0m\u001b[0mfit\u001b[0m\u001b[1;33m(\u001b[0m\u001b[0mX_tr\u001b[0m\u001b[1;33m,\u001b[0m \u001b[0my_tr\u001b[0m\u001b[1;33m)\u001b[0m\u001b[1;33m\u001b[0m\u001b[1;33m\u001b[0m\u001b[0m\n\u001b[0m\u001b[0;32m      3\u001b[0m     \u001b[0my_pred\u001b[0m \u001b[1;33m=\u001b[0m \u001b[0mmodel\u001b[0m\u001b[1;33m.\u001b[0m\u001b[0mpredict\u001b[0m\u001b[1;33m(\u001b[0m\u001b[0mX_test\u001b[0m\u001b[1;33m)\u001b[0m\u001b[1;33m\u001b[0m\u001b[1;33m\u001b[0m\u001b[0m\n\u001b[0;32m      4\u001b[0m     \u001b[0mscore\u001b[0m \u001b[1;33m=\u001b[0m \u001b[0mmodel\u001b[0m\u001b[1;33m.\u001b[0m\u001b[0mscore\u001b[0m\u001b[1;33m(\u001b[0m\u001b[0mX_test\u001b[0m\u001b[1;33m,\u001b[0m \u001b[0my_test\u001b[0m\u001b[1;33m)\u001b[0m\u001b[1;33m\u001b[0m\u001b[1;33m\u001b[0m\u001b[0m\n\u001b[0;32m      5\u001b[0m     \u001b[0mprint\u001b[0m\u001b[1;33m(\u001b[0m\u001b[1;34m'Test Score with'\u001b[0m\u001b[1;33m,\u001b[0m \u001b[0mdescription\u001b[0m\u001b[1;33m,\u001b[0m \u001b[1;34m'features'\u001b[0m\u001b[1;33m,\u001b[0m \u001b[0mscore\u001b[0m\u001b[1;33m)\u001b[0m\u001b[1;33m\u001b[0m\u001b[1;33m\u001b[0m\u001b[0m\n",
      "\u001b[1;32m~\\anaconda3\\lib\\site-packages\\sklearn\\linear_model\\_logistic.py\u001b[0m in \u001b[0;36mfit\u001b[1;34m(self, X, y, sample_weight)\u001b[0m\n\u001b[0;32m   1342\u001b[0m             \u001b[0m_dtype\u001b[0m \u001b[1;33m=\u001b[0m \u001b[1;33m[\u001b[0m\u001b[0mnp\u001b[0m\u001b[1;33m.\u001b[0m\u001b[0mfloat64\u001b[0m\u001b[1;33m,\u001b[0m \u001b[0mnp\u001b[0m\u001b[1;33m.\u001b[0m\u001b[0mfloat32\u001b[0m\u001b[1;33m]\u001b[0m\u001b[1;33m\u001b[0m\u001b[1;33m\u001b[0m\u001b[0m\n\u001b[0;32m   1343\u001b[0m \u001b[1;33m\u001b[0m\u001b[0m\n\u001b[1;32m-> 1344\u001b[1;33m         X, y = self._validate_data(X, y, accept_sparse='csr', dtype=_dtype,\n\u001b[0m\u001b[0;32m   1345\u001b[0m                                    \u001b[0morder\u001b[0m\u001b[1;33m=\u001b[0m\u001b[1;34m\"C\"\u001b[0m\u001b[1;33m,\u001b[0m\u001b[1;33m\u001b[0m\u001b[1;33m\u001b[0m\u001b[0m\n\u001b[0;32m   1346\u001b[0m                                    accept_large_sparse=solver != 'liblinear')\n",
      "\u001b[1;32m~\\anaconda3\\lib\\site-packages\\sklearn\\base.py\u001b[0m in \u001b[0;36m_validate_data\u001b[1;34m(self, X, y, reset, validate_separately, **check_params)\u001b[0m\n\u001b[0;32m    431\u001b[0m                 \u001b[0my\u001b[0m \u001b[1;33m=\u001b[0m \u001b[0mcheck_array\u001b[0m\u001b[1;33m(\u001b[0m\u001b[0my\u001b[0m\u001b[1;33m,\u001b[0m \u001b[1;33m**\u001b[0m\u001b[0mcheck_y_params\u001b[0m\u001b[1;33m)\u001b[0m\u001b[1;33m\u001b[0m\u001b[1;33m\u001b[0m\u001b[0m\n\u001b[0;32m    432\u001b[0m             \u001b[1;32melse\u001b[0m\u001b[1;33m:\u001b[0m\u001b[1;33m\u001b[0m\u001b[1;33m\u001b[0m\u001b[0m\n\u001b[1;32m--> 433\u001b[1;33m                 \u001b[0mX\u001b[0m\u001b[1;33m,\u001b[0m \u001b[0my\u001b[0m \u001b[1;33m=\u001b[0m \u001b[0mcheck_X_y\u001b[0m\u001b[1;33m(\u001b[0m\u001b[0mX\u001b[0m\u001b[1;33m,\u001b[0m \u001b[0my\u001b[0m\u001b[1;33m,\u001b[0m \u001b[1;33m**\u001b[0m\u001b[0mcheck_params\u001b[0m\u001b[1;33m)\u001b[0m\u001b[1;33m\u001b[0m\u001b[1;33m\u001b[0m\u001b[0m\n\u001b[0m\u001b[0;32m    434\u001b[0m             \u001b[0mout\u001b[0m \u001b[1;33m=\u001b[0m \u001b[0mX\u001b[0m\u001b[1;33m,\u001b[0m \u001b[0my\u001b[0m\u001b[1;33m\u001b[0m\u001b[1;33m\u001b[0m\u001b[0m\n\u001b[0;32m    435\u001b[0m \u001b[1;33m\u001b[0m\u001b[0m\n",
      "\u001b[1;32m~\\anaconda3\\lib\\site-packages\\sklearn\\utils\\validation.py\u001b[0m in \u001b[0;36minner_f\u001b[1;34m(*args, **kwargs)\u001b[0m\n\u001b[0;32m     61\u001b[0m             \u001b[0mextra_args\u001b[0m \u001b[1;33m=\u001b[0m \u001b[0mlen\u001b[0m\u001b[1;33m(\u001b[0m\u001b[0margs\u001b[0m\u001b[1;33m)\u001b[0m \u001b[1;33m-\u001b[0m \u001b[0mlen\u001b[0m\u001b[1;33m(\u001b[0m\u001b[0mall_args\u001b[0m\u001b[1;33m)\u001b[0m\u001b[1;33m\u001b[0m\u001b[1;33m\u001b[0m\u001b[0m\n\u001b[0;32m     62\u001b[0m             \u001b[1;32mif\u001b[0m \u001b[0mextra_args\u001b[0m \u001b[1;33m<=\u001b[0m \u001b[1;36m0\u001b[0m\u001b[1;33m:\u001b[0m\u001b[1;33m\u001b[0m\u001b[1;33m\u001b[0m\u001b[0m\n\u001b[1;32m---> 63\u001b[1;33m                 \u001b[1;32mreturn\u001b[0m \u001b[0mf\u001b[0m\u001b[1;33m(\u001b[0m\u001b[1;33m*\u001b[0m\u001b[0margs\u001b[0m\u001b[1;33m,\u001b[0m \u001b[1;33m**\u001b[0m\u001b[0mkwargs\u001b[0m\u001b[1;33m)\u001b[0m\u001b[1;33m\u001b[0m\u001b[1;33m\u001b[0m\u001b[0m\n\u001b[0m\u001b[0;32m     64\u001b[0m \u001b[1;33m\u001b[0m\u001b[0m\n\u001b[0;32m     65\u001b[0m             \u001b[1;31m# extra_args > 0\u001b[0m\u001b[1;33m\u001b[0m\u001b[1;33m\u001b[0m\u001b[1;33m\u001b[0m\u001b[0m\n",
      "\u001b[1;32m~\\anaconda3\\lib\\site-packages\\sklearn\\utils\\validation.py\u001b[0m in \u001b[0;36mcheck_X_y\u001b[1;34m(X, y, accept_sparse, accept_large_sparse, dtype, order, copy, force_all_finite, ensure_2d, allow_nd, multi_output, ensure_min_samples, ensure_min_features, y_numeric, estimator)\u001b[0m\n\u001b[0;32m    812\u001b[0m         \u001b[1;32mraise\u001b[0m \u001b[0mValueError\u001b[0m\u001b[1;33m(\u001b[0m\u001b[1;34m\"y cannot be None\"\u001b[0m\u001b[1;33m)\u001b[0m\u001b[1;33m\u001b[0m\u001b[1;33m\u001b[0m\u001b[0m\n\u001b[0;32m    813\u001b[0m \u001b[1;33m\u001b[0m\u001b[0m\n\u001b[1;32m--> 814\u001b[1;33m     X = check_array(X, accept_sparse=accept_sparse,\n\u001b[0m\u001b[0;32m    815\u001b[0m                     \u001b[0maccept_large_sparse\u001b[0m\u001b[1;33m=\u001b[0m\u001b[0maccept_large_sparse\u001b[0m\u001b[1;33m,\u001b[0m\u001b[1;33m\u001b[0m\u001b[1;33m\u001b[0m\u001b[0m\n\u001b[0;32m    816\u001b[0m                     \u001b[0mdtype\u001b[0m\u001b[1;33m=\u001b[0m\u001b[0mdtype\u001b[0m\u001b[1;33m,\u001b[0m \u001b[0morder\u001b[0m\u001b[1;33m=\u001b[0m\u001b[0morder\u001b[0m\u001b[1;33m,\u001b[0m \u001b[0mcopy\u001b[0m\u001b[1;33m=\u001b[0m\u001b[0mcopy\u001b[0m\u001b[1;33m,\u001b[0m\u001b[1;33m\u001b[0m\u001b[1;33m\u001b[0m\u001b[0m\n",
      "\u001b[1;32m~\\anaconda3\\lib\\site-packages\\sklearn\\utils\\validation.py\u001b[0m in \u001b[0;36minner_f\u001b[1;34m(*args, **kwargs)\u001b[0m\n\u001b[0;32m     61\u001b[0m             \u001b[0mextra_args\u001b[0m \u001b[1;33m=\u001b[0m \u001b[0mlen\u001b[0m\u001b[1;33m(\u001b[0m\u001b[0margs\u001b[0m\u001b[1;33m)\u001b[0m \u001b[1;33m-\u001b[0m \u001b[0mlen\u001b[0m\u001b[1;33m(\u001b[0m\u001b[0mall_args\u001b[0m\u001b[1;33m)\u001b[0m\u001b[1;33m\u001b[0m\u001b[1;33m\u001b[0m\u001b[0m\n\u001b[0;32m     62\u001b[0m             \u001b[1;32mif\u001b[0m \u001b[0mextra_args\u001b[0m \u001b[1;33m<=\u001b[0m \u001b[1;36m0\u001b[0m\u001b[1;33m:\u001b[0m\u001b[1;33m\u001b[0m\u001b[1;33m\u001b[0m\u001b[0m\n\u001b[1;32m---> 63\u001b[1;33m                 \u001b[1;32mreturn\u001b[0m \u001b[0mf\u001b[0m\u001b[1;33m(\u001b[0m\u001b[1;33m*\u001b[0m\u001b[0margs\u001b[0m\u001b[1;33m,\u001b[0m \u001b[1;33m**\u001b[0m\u001b[0mkwargs\u001b[0m\u001b[1;33m)\u001b[0m\u001b[1;33m\u001b[0m\u001b[1;33m\u001b[0m\u001b[0m\n\u001b[0m\u001b[0;32m     64\u001b[0m \u001b[1;33m\u001b[0m\u001b[0m\n\u001b[0;32m     65\u001b[0m             \u001b[1;31m# extra_args > 0\u001b[0m\u001b[1;33m\u001b[0m\u001b[1;33m\u001b[0m\u001b[1;33m\u001b[0m\u001b[0m\n",
      "\u001b[1;32m~\\anaconda3\\lib\\site-packages\\sklearn\\utils\\validation.py\u001b[0m in \u001b[0;36mcheck_array\u001b[1;34m(array, accept_sparse, accept_large_sparse, dtype, order, copy, force_all_finite, ensure_2d, allow_nd, ensure_min_samples, ensure_min_features, estimator)\u001b[0m\n\u001b[0;32m    614\u001b[0m                     \u001b[0marray\u001b[0m \u001b[1;33m=\u001b[0m \u001b[0marray\u001b[0m\u001b[1;33m.\u001b[0m\u001b[0mastype\u001b[0m\u001b[1;33m(\u001b[0m\u001b[0mdtype\u001b[0m\u001b[1;33m,\u001b[0m \u001b[0mcasting\u001b[0m\u001b[1;33m=\u001b[0m\u001b[1;34m\"unsafe\"\u001b[0m\u001b[1;33m,\u001b[0m \u001b[0mcopy\u001b[0m\u001b[1;33m=\u001b[0m\u001b[1;32mFalse\u001b[0m\u001b[1;33m)\u001b[0m\u001b[1;33m\u001b[0m\u001b[1;33m\u001b[0m\u001b[0m\n\u001b[0;32m    615\u001b[0m                 \u001b[1;32melse\u001b[0m\u001b[1;33m:\u001b[0m\u001b[1;33m\u001b[0m\u001b[1;33m\u001b[0m\u001b[0m\n\u001b[1;32m--> 616\u001b[1;33m                     \u001b[0marray\u001b[0m \u001b[1;33m=\u001b[0m \u001b[0mnp\u001b[0m\u001b[1;33m.\u001b[0m\u001b[0masarray\u001b[0m\u001b[1;33m(\u001b[0m\u001b[0marray\u001b[0m\u001b[1;33m,\u001b[0m \u001b[0morder\u001b[0m\u001b[1;33m=\u001b[0m\u001b[0morder\u001b[0m\u001b[1;33m,\u001b[0m \u001b[0mdtype\u001b[0m\u001b[1;33m=\u001b[0m\u001b[0mdtype\u001b[0m\u001b[1;33m)\u001b[0m\u001b[1;33m\u001b[0m\u001b[1;33m\u001b[0m\u001b[0m\n\u001b[0m\u001b[0;32m    617\u001b[0m             \u001b[1;32mexcept\u001b[0m \u001b[0mComplexWarning\u001b[0m \u001b[1;32mas\u001b[0m \u001b[0mcomplex_warning\u001b[0m\u001b[1;33m:\u001b[0m\u001b[1;33m\u001b[0m\u001b[1;33m\u001b[0m\u001b[0m\n\u001b[0;32m    618\u001b[0m                 raise ValueError(\"Complex data not supported\\n\"\n",
      "\u001b[1;32m~\\anaconda3\\lib\\site-packages\\numpy\\core\\_asarray.py\u001b[0m in \u001b[0;36masarray\u001b[1;34m(a, dtype, order, like)\u001b[0m\n\u001b[0;32m    100\u001b[0m         \u001b[1;32mreturn\u001b[0m \u001b[0m_asarray_with_like\u001b[0m\u001b[1;33m(\u001b[0m\u001b[0ma\u001b[0m\u001b[1;33m,\u001b[0m \u001b[0mdtype\u001b[0m\u001b[1;33m=\u001b[0m\u001b[0mdtype\u001b[0m\u001b[1;33m,\u001b[0m \u001b[0morder\u001b[0m\u001b[1;33m=\u001b[0m\u001b[0morder\u001b[0m\u001b[1;33m,\u001b[0m \u001b[0mlike\u001b[0m\u001b[1;33m=\u001b[0m\u001b[0mlike\u001b[0m\u001b[1;33m)\u001b[0m\u001b[1;33m\u001b[0m\u001b[1;33m\u001b[0m\u001b[0m\n\u001b[0;32m    101\u001b[0m \u001b[1;33m\u001b[0m\u001b[0m\n\u001b[1;32m--> 102\u001b[1;33m     \u001b[1;32mreturn\u001b[0m \u001b[0marray\u001b[0m\u001b[1;33m(\u001b[0m\u001b[0ma\u001b[0m\u001b[1;33m,\u001b[0m \u001b[0mdtype\u001b[0m\u001b[1;33m,\u001b[0m \u001b[0mcopy\u001b[0m\u001b[1;33m=\u001b[0m\u001b[1;32mFalse\u001b[0m\u001b[1;33m,\u001b[0m \u001b[0morder\u001b[0m\u001b[1;33m=\u001b[0m\u001b[0morder\u001b[0m\u001b[1;33m)\u001b[0m\u001b[1;33m\u001b[0m\u001b[1;33m\u001b[0m\u001b[0m\n\u001b[0m\u001b[0;32m    103\u001b[0m \u001b[1;33m\u001b[0m\u001b[0m\n\u001b[0;32m    104\u001b[0m \u001b[1;33m\u001b[0m\u001b[0m\n",
      "\u001b[1;31mValueError\u001b[0m: setting an array element with a sequence."
     ]
    }
   ],
   "source": [
    "model_bow = simple_logistic_classify(X_tr_bow, y_train, X_te_bow, y_train_val, 'bow')\n",
    "model_tfidf = simple_logistic_classify(X_tr_tfidf, y_train, X_te_tfidf, y_train_val, 'tf-idf')"
   ]
  },
  {
   "cell_type": "code",
   "execution_count": null,
   "id": "fa18c333-080a-4df2-b115-c8bf7981d483",
   "metadata": {},
   "outputs": [],
   "source": []
  },
  {
   "cell_type": "code",
   "execution_count": null,
   "id": "1ffac309-b873-45e7-b77d-41f5560ea5c2",
   "metadata": {},
   "outputs": [],
   "source": []
  },
  {
   "cell_type": "code",
   "execution_count": 16,
   "id": "37241a56-f8ec-429b-b1ac-970395c14e97",
   "metadata": {
    "tags": []
   },
   "outputs": [
    {
     "name": "stdout",
     "output_type": "stream",
     "text": [
      "[[1082 3902 4010 ...   82 1919 3978]\n",
      " [2484  566  717 ... 1031 3427 1207]\n",
      " [1351 3459 1572 ... 2117 4029 2607]\n",
      " ...\n",
      " [1085 3641   99 ...  375 2251 2706]\n",
      " [2167 2185 3339 ... 2818  932 1583]\n",
      " [2989 1313   57 ...  357 1096  214]]\n"
     ]
    },
    {
     "ename": "ValueError",
     "evalue": "could not convert string to float: \"If Walker appeals Parrish 's ruling , it would stop the extradition process and could take several months , Rork said .\"",
     "output_type": "error",
     "traceback": [
      "\u001b[1;31m---------------------------------------------------------------------------\u001b[0m",
      "\u001b[1;31mValueError\u001b[0m                                Traceback (most recent call last)",
      "\u001b[1;32m<ipython-input-16-4a2dc9afb507>\u001b[0m in \u001b[0;36m<module>\u001b[1;34m\u001b[0m\n\u001b[0;32m     48\u001b[0m \u001b[1;33m\u001b[0m\u001b[0m\n\u001b[0;32m     49\u001b[0m         \u001b[1;31m#Train the model with the training set:\u001b[0m\u001b[1;33m\u001b[0m\u001b[1;33m\u001b[0m\u001b[1;33m\u001b[0m\u001b[0m\n\u001b[1;32m---> 50\u001b[1;33m         \u001b[0mclf\u001b[0m\u001b[1;33m.\u001b[0m\u001b[0mfit\u001b[0m\u001b[1;33m(\u001b[0m\u001b[0mX_train\u001b[0m\u001b[1;33m,\u001b[0m \u001b[0mY_train\u001b[0m\u001b[1;33m)\u001b[0m\u001b[1;33m\u001b[0m\u001b[1;33m\u001b[0m\u001b[0m\n\u001b[0m\u001b[0;32m     51\u001b[0m \u001b[1;33m\u001b[0m\u001b[0m\n\u001b[0;32m     52\u001b[0m         \u001b[0my_valid_pred\u001b[0m \u001b[1;33m=\u001b[0m \u001b[0mclf\u001b[0m\u001b[1;33m.\u001b[0m\u001b[0mpredict\u001b[0m\u001b[1;33m(\u001b[0m\u001b[0mX_valid\u001b[0m\u001b[1;33m)\u001b[0m\u001b[1;33m\u001b[0m\u001b[1;33m\u001b[0m\u001b[0m\n",
      "\u001b[1;32m~\\anaconda3\\lib\\site-packages\\sklearn\\linear_model\\_logistic.py\u001b[0m in \u001b[0;36mfit\u001b[1;34m(self, X, y, sample_weight)\u001b[0m\n\u001b[0;32m   1342\u001b[0m             \u001b[0m_dtype\u001b[0m \u001b[1;33m=\u001b[0m \u001b[1;33m[\u001b[0m\u001b[0mnp\u001b[0m\u001b[1;33m.\u001b[0m\u001b[0mfloat64\u001b[0m\u001b[1;33m,\u001b[0m \u001b[0mnp\u001b[0m\u001b[1;33m.\u001b[0m\u001b[0mfloat32\u001b[0m\u001b[1;33m]\u001b[0m\u001b[1;33m\u001b[0m\u001b[1;33m\u001b[0m\u001b[0m\n\u001b[0;32m   1343\u001b[0m \u001b[1;33m\u001b[0m\u001b[0m\n\u001b[1;32m-> 1344\u001b[1;33m         X, y = self._validate_data(X, y, accept_sparse='csr', dtype=_dtype,\n\u001b[0m\u001b[0;32m   1345\u001b[0m                                    \u001b[0morder\u001b[0m\u001b[1;33m=\u001b[0m\u001b[1;34m\"C\"\u001b[0m\u001b[1;33m,\u001b[0m\u001b[1;33m\u001b[0m\u001b[1;33m\u001b[0m\u001b[0m\n\u001b[0;32m   1346\u001b[0m                                    accept_large_sparse=solver != 'liblinear')\n",
      "\u001b[1;32m~\\anaconda3\\lib\\site-packages\\sklearn\\base.py\u001b[0m in \u001b[0;36m_validate_data\u001b[1;34m(self, X, y, reset, validate_separately, **check_params)\u001b[0m\n\u001b[0;32m    431\u001b[0m                 \u001b[0my\u001b[0m \u001b[1;33m=\u001b[0m \u001b[0mcheck_array\u001b[0m\u001b[1;33m(\u001b[0m\u001b[0my\u001b[0m\u001b[1;33m,\u001b[0m \u001b[1;33m**\u001b[0m\u001b[0mcheck_y_params\u001b[0m\u001b[1;33m)\u001b[0m\u001b[1;33m\u001b[0m\u001b[1;33m\u001b[0m\u001b[0m\n\u001b[0;32m    432\u001b[0m             \u001b[1;32melse\u001b[0m\u001b[1;33m:\u001b[0m\u001b[1;33m\u001b[0m\u001b[1;33m\u001b[0m\u001b[0m\n\u001b[1;32m--> 433\u001b[1;33m                 \u001b[0mX\u001b[0m\u001b[1;33m,\u001b[0m \u001b[0my\u001b[0m \u001b[1;33m=\u001b[0m \u001b[0mcheck_X_y\u001b[0m\u001b[1;33m(\u001b[0m\u001b[0mX\u001b[0m\u001b[1;33m,\u001b[0m \u001b[0my\u001b[0m\u001b[1;33m,\u001b[0m \u001b[1;33m**\u001b[0m\u001b[0mcheck_params\u001b[0m\u001b[1;33m)\u001b[0m\u001b[1;33m\u001b[0m\u001b[1;33m\u001b[0m\u001b[0m\n\u001b[0m\u001b[0;32m    434\u001b[0m             \u001b[0mout\u001b[0m \u001b[1;33m=\u001b[0m \u001b[0mX\u001b[0m\u001b[1;33m,\u001b[0m \u001b[0my\u001b[0m\u001b[1;33m\u001b[0m\u001b[1;33m\u001b[0m\u001b[0m\n\u001b[0;32m    435\u001b[0m \u001b[1;33m\u001b[0m\u001b[0m\n",
      "\u001b[1;32m~\\anaconda3\\lib\\site-packages\\sklearn\\utils\\validation.py\u001b[0m in \u001b[0;36minner_f\u001b[1;34m(*args, **kwargs)\u001b[0m\n\u001b[0;32m     61\u001b[0m             \u001b[0mextra_args\u001b[0m \u001b[1;33m=\u001b[0m \u001b[0mlen\u001b[0m\u001b[1;33m(\u001b[0m\u001b[0margs\u001b[0m\u001b[1;33m)\u001b[0m \u001b[1;33m-\u001b[0m \u001b[0mlen\u001b[0m\u001b[1;33m(\u001b[0m\u001b[0mall_args\u001b[0m\u001b[1;33m)\u001b[0m\u001b[1;33m\u001b[0m\u001b[1;33m\u001b[0m\u001b[0m\n\u001b[0;32m     62\u001b[0m             \u001b[1;32mif\u001b[0m \u001b[0mextra_args\u001b[0m \u001b[1;33m<=\u001b[0m \u001b[1;36m0\u001b[0m\u001b[1;33m:\u001b[0m\u001b[1;33m\u001b[0m\u001b[1;33m\u001b[0m\u001b[0m\n\u001b[1;32m---> 63\u001b[1;33m                 \u001b[1;32mreturn\u001b[0m \u001b[0mf\u001b[0m\u001b[1;33m(\u001b[0m\u001b[1;33m*\u001b[0m\u001b[0margs\u001b[0m\u001b[1;33m,\u001b[0m \u001b[1;33m**\u001b[0m\u001b[0mkwargs\u001b[0m\u001b[1;33m)\u001b[0m\u001b[1;33m\u001b[0m\u001b[1;33m\u001b[0m\u001b[0m\n\u001b[0m\u001b[0;32m     64\u001b[0m \u001b[1;33m\u001b[0m\u001b[0m\n\u001b[0;32m     65\u001b[0m             \u001b[1;31m# extra_args > 0\u001b[0m\u001b[1;33m\u001b[0m\u001b[1;33m\u001b[0m\u001b[1;33m\u001b[0m\u001b[0m\n",
      "\u001b[1;32m~\\anaconda3\\lib\\site-packages\\sklearn\\utils\\validation.py\u001b[0m in \u001b[0;36mcheck_X_y\u001b[1;34m(X, y, accept_sparse, accept_large_sparse, dtype, order, copy, force_all_finite, ensure_2d, allow_nd, multi_output, ensure_min_samples, ensure_min_features, y_numeric, estimator)\u001b[0m\n\u001b[0;32m    812\u001b[0m         \u001b[1;32mraise\u001b[0m \u001b[0mValueError\u001b[0m\u001b[1;33m(\u001b[0m\u001b[1;34m\"y cannot be None\"\u001b[0m\u001b[1;33m)\u001b[0m\u001b[1;33m\u001b[0m\u001b[1;33m\u001b[0m\u001b[0m\n\u001b[0;32m    813\u001b[0m \u001b[1;33m\u001b[0m\u001b[0m\n\u001b[1;32m--> 814\u001b[1;33m     X = check_array(X, accept_sparse=accept_sparse,\n\u001b[0m\u001b[0;32m    815\u001b[0m                     \u001b[0maccept_large_sparse\u001b[0m\u001b[1;33m=\u001b[0m\u001b[0maccept_large_sparse\u001b[0m\u001b[1;33m,\u001b[0m\u001b[1;33m\u001b[0m\u001b[1;33m\u001b[0m\u001b[0m\n\u001b[0;32m    816\u001b[0m                     \u001b[0mdtype\u001b[0m\u001b[1;33m=\u001b[0m\u001b[0mdtype\u001b[0m\u001b[1;33m,\u001b[0m \u001b[0morder\u001b[0m\u001b[1;33m=\u001b[0m\u001b[0morder\u001b[0m\u001b[1;33m,\u001b[0m \u001b[0mcopy\u001b[0m\u001b[1;33m=\u001b[0m\u001b[0mcopy\u001b[0m\u001b[1;33m,\u001b[0m\u001b[1;33m\u001b[0m\u001b[1;33m\u001b[0m\u001b[0m\n",
      "\u001b[1;32m~\\anaconda3\\lib\\site-packages\\sklearn\\utils\\validation.py\u001b[0m in \u001b[0;36minner_f\u001b[1;34m(*args, **kwargs)\u001b[0m\n\u001b[0;32m     61\u001b[0m             \u001b[0mextra_args\u001b[0m \u001b[1;33m=\u001b[0m \u001b[0mlen\u001b[0m\u001b[1;33m(\u001b[0m\u001b[0margs\u001b[0m\u001b[1;33m)\u001b[0m \u001b[1;33m-\u001b[0m \u001b[0mlen\u001b[0m\u001b[1;33m(\u001b[0m\u001b[0mall_args\u001b[0m\u001b[1;33m)\u001b[0m\u001b[1;33m\u001b[0m\u001b[1;33m\u001b[0m\u001b[0m\n\u001b[0;32m     62\u001b[0m             \u001b[1;32mif\u001b[0m \u001b[0mextra_args\u001b[0m \u001b[1;33m<=\u001b[0m \u001b[1;36m0\u001b[0m\u001b[1;33m:\u001b[0m\u001b[1;33m\u001b[0m\u001b[1;33m\u001b[0m\u001b[0m\n\u001b[1;32m---> 63\u001b[1;33m                 \u001b[1;32mreturn\u001b[0m \u001b[0mf\u001b[0m\u001b[1;33m(\u001b[0m\u001b[1;33m*\u001b[0m\u001b[0margs\u001b[0m\u001b[1;33m,\u001b[0m \u001b[1;33m**\u001b[0m\u001b[0mkwargs\u001b[0m\u001b[1;33m)\u001b[0m\u001b[1;33m\u001b[0m\u001b[1;33m\u001b[0m\u001b[0m\n\u001b[0m\u001b[0;32m     64\u001b[0m \u001b[1;33m\u001b[0m\u001b[0m\n\u001b[0;32m     65\u001b[0m             \u001b[1;31m# extra_args > 0\u001b[0m\u001b[1;33m\u001b[0m\u001b[1;33m\u001b[0m\u001b[1;33m\u001b[0m\u001b[0m\n",
      "\u001b[1;32m~\\anaconda3\\lib\\site-packages\\sklearn\\utils\\validation.py\u001b[0m in \u001b[0;36mcheck_array\u001b[1;34m(array, accept_sparse, accept_large_sparse, dtype, order, copy, force_all_finite, ensure_2d, allow_nd, ensure_min_samples, ensure_min_features, estimator)\u001b[0m\n\u001b[0;32m    614\u001b[0m                     \u001b[0marray\u001b[0m \u001b[1;33m=\u001b[0m \u001b[0marray\u001b[0m\u001b[1;33m.\u001b[0m\u001b[0mastype\u001b[0m\u001b[1;33m(\u001b[0m\u001b[0mdtype\u001b[0m\u001b[1;33m,\u001b[0m \u001b[0mcasting\u001b[0m\u001b[1;33m=\u001b[0m\u001b[1;34m\"unsafe\"\u001b[0m\u001b[1;33m,\u001b[0m \u001b[0mcopy\u001b[0m\u001b[1;33m=\u001b[0m\u001b[1;32mFalse\u001b[0m\u001b[1;33m)\u001b[0m\u001b[1;33m\u001b[0m\u001b[1;33m\u001b[0m\u001b[0m\n\u001b[0;32m    615\u001b[0m                 \u001b[1;32melse\u001b[0m\u001b[1;33m:\u001b[0m\u001b[1;33m\u001b[0m\u001b[1;33m\u001b[0m\u001b[0m\n\u001b[1;32m--> 616\u001b[1;33m                     \u001b[0marray\u001b[0m \u001b[1;33m=\u001b[0m \u001b[0mnp\u001b[0m\u001b[1;33m.\u001b[0m\u001b[0masarray\u001b[0m\u001b[1;33m(\u001b[0m\u001b[0marray\u001b[0m\u001b[1;33m,\u001b[0m \u001b[0morder\u001b[0m\u001b[1;33m=\u001b[0m\u001b[0morder\u001b[0m\u001b[1;33m,\u001b[0m \u001b[0mdtype\u001b[0m\u001b[1;33m=\u001b[0m\u001b[0mdtype\u001b[0m\u001b[1;33m)\u001b[0m\u001b[1;33m\u001b[0m\u001b[1;33m\u001b[0m\u001b[0m\n\u001b[0m\u001b[0;32m    617\u001b[0m             \u001b[1;32mexcept\u001b[0m \u001b[0mComplexWarning\u001b[0m \u001b[1;32mas\u001b[0m \u001b[0mcomplex_warning\u001b[0m\u001b[1;33m:\u001b[0m\u001b[1;33m\u001b[0m\u001b[1;33m\u001b[0m\u001b[0m\n\u001b[0;32m    618\u001b[0m                 raise ValueError(\"Complex data not supported\\n\"\n",
      "\u001b[1;32m~\\anaconda3\\lib\\site-packages\\numpy\\core\\_asarray.py\u001b[0m in \u001b[0;36masarray\u001b[1;34m(a, dtype, order, like)\u001b[0m\n\u001b[0;32m    100\u001b[0m         \u001b[1;32mreturn\u001b[0m \u001b[0m_asarray_with_like\u001b[0m\u001b[1;33m(\u001b[0m\u001b[0ma\u001b[0m\u001b[1;33m,\u001b[0m \u001b[0mdtype\u001b[0m\u001b[1;33m=\u001b[0m\u001b[0mdtype\u001b[0m\u001b[1;33m,\u001b[0m \u001b[0morder\u001b[0m\u001b[1;33m=\u001b[0m\u001b[0morder\u001b[0m\u001b[1;33m,\u001b[0m \u001b[0mlike\u001b[0m\u001b[1;33m=\u001b[0m\u001b[0mlike\u001b[0m\u001b[1;33m)\u001b[0m\u001b[1;33m\u001b[0m\u001b[1;33m\u001b[0m\u001b[0m\n\u001b[0;32m    101\u001b[0m \u001b[1;33m\u001b[0m\u001b[0m\n\u001b[1;32m--> 102\u001b[1;33m     \u001b[1;32mreturn\u001b[0m \u001b[0marray\u001b[0m\u001b[1;33m(\u001b[0m\u001b[0ma\u001b[0m\u001b[1;33m,\u001b[0m \u001b[0mdtype\u001b[0m\u001b[1;33m,\u001b[0m \u001b[0mcopy\u001b[0m\u001b[1;33m=\u001b[0m\u001b[1;32mFalse\u001b[0m\u001b[1;33m,\u001b[0m \u001b[0morder\u001b[0m\u001b[1;33m=\u001b[0m\u001b[0morder\u001b[0m\u001b[1;33m)\u001b[0m\u001b[1;33m\u001b[0m\u001b[1;33m\u001b[0m\u001b[0m\n\u001b[0m\u001b[0;32m    103\u001b[0m \u001b[1;33m\u001b[0m\u001b[0m\n\u001b[0;32m    104\u001b[0m \u001b[1;33m\u001b[0m\u001b[0m\n",
      "\u001b[1;31mValueError\u001b[0m: could not convert string to float: \"If Walker appeals Parrish 's ruling , it would stop the extradition process and could take several months , Rork said .\""
     ]
    }
   ],
   "source": [
    "#We need to learn the model parameter  𝐰 . \n",
    "#However, with different hyperparameters  𝜆 , we can get different model parameter  𝐰 , resulting in different prediction performance. \n",
    "#Thus, we will use the 10-fold cross-validation to select the hyperparameter  𝜆 .\n",
    "\n",
    "#Here we set the folds equal to 10 for 10-fold cross-validation\n",
    "folds = 9\n",
    "\n",
    "#We get the number of samples in the training and validation set\n",
    "num_train = x_train.shape[0] \n",
    "\n",
    "#Now, we shuffle the index of samples in the train_val set\n",
    "index_of_samples = np.arange(num_train) \n",
    "shuffle(index_of_samples)\n",
    "\n",
    "#We split the index of the train_valid set into 10 folds\n",
    "index_of_folds = index_of_samples.reshape(folds, -1)\n",
    "print(index_of_folds)\n",
    "\n",
    "#As suggested above, the hyperparameters chosen are listed below\n",
    "regularization_coefficient = [10**(-5), 10**(-3), 10**(-2), 10**(-1), 1, 10, 20, 50]\n",
    "\n",
    "#Variables we create to store the values of the best accuracy and best regression:\n",
    "best_acc = 0.0\n",
    "best_reg = 0.0\n",
    "\n",
    "for reg in regularization_coefficient:\n",
    "    #10-fold cross-validation\n",
    "    sum_acc = 0.0\n",
    "    for fold in range(folds):\n",
    "        \n",
    "        index_of_folds_temp = index_of_folds.copy()\n",
    "        \n",
    "        #We are getting the index of the validation set and storing it in a variable valid_index\n",
    "        valid_index = index_of_folds_temp[fold,:].reshape(-1) \n",
    "        #We are getting the index of the training set and storing it in a variable train_index\n",
    "        train_index = np.delete(index_of_folds_temp, fold, 0).reshape(-1)\n",
    "        \n",
    "        #Our training set:\n",
    "        X_train = x_train[train_index]\n",
    "        Y_train = y_train[train_index]\n",
    "        \n",
    "        #Our validation set:\n",
    "        X_valid = x_train[valid_index]\n",
    "        Y_valid = y_train[valid_index]\n",
    "                \n",
    "        #We write this to build the model with different hyperparameters:\n",
    "        clf = LogisticRegression(penalty='l2', C=reg, solver='lbfgs')\n",
    "        \n",
    "        #Train the model with the training set:\n",
    "        clf.fit(X_train, Y_train)\n",
    "        \n",
    "        y_valid_pred = clf.predict(X_valid)\n",
    "        acc = accuracy_score(Y_valid, y_valid_pred)\n",
    "        \n",
    "        sum_acc += acc\n",
    "    \n",
    "    cur_acc = sum_acc / folds\n",
    "    \n",
    "    print(\"reg_coeff: {}, acc: {:.3f}\".format(1.0/reg, cur_acc))\n",
    "    \n",
    "    #We now want to store the best hyperparameter:\n",
    "    if cur_acc > best_acc:\n",
    "        best_acc = cur_acc\n",
    "        best_reg = reg\n",
    "        \n",
    "print(\"Best Accuracy: {:.4f} \".format(best_acc))\n",
    "print(\"Best Reg: {:}\".format(best_reg))"
   ]
  },
  {
   "cell_type": "code",
   "execution_count": null,
   "id": "4ba63e48-dc56-4964-9cbe-354546ad2d7d",
   "metadata": {},
   "outputs": [],
   "source": []
  },
  {
   "cell_type": "code",
   "execution_count": null,
   "id": "43f9d0dd-b526-4ddb-b67b-c1c2902037df",
   "metadata": {},
   "outputs": [],
   "source": [
    "#Normalizing the features:\n",
    "normalizer = StandardScaler()\n",
    "X_train_val = normalizer.fit_transform(X_train_val)\n",
    "X_test = normalizer.transform(X_test)\n",
    "\n",
    "print(X_test.shape)\n",
    "print(X_train_val.shape)"
   ]
  }
 ],
 "metadata": {
  "kernelspec": {
   "display_name": "Python 3",
   "language": "python",
   "name": "python3"
  },
  "language_info": {
   "codemirror_mode": {
    "name": "ipython",
    "version": 3
   },
   "file_extension": ".py",
   "mimetype": "text/x-python",
   "name": "python",
   "nbconvert_exporter": "python",
   "pygments_lexer": "ipython3",
   "version": "3.8.8"
  }
 },
 "nbformat": 4,
 "nbformat_minor": 5
}
